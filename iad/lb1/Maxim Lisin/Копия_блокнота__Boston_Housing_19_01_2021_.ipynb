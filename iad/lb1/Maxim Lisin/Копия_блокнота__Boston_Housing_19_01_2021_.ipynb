{
  "nbformat": 4,
  "nbformat_minor": 0,
  "metadata": {
    "colab": {
      "name": "Копия блокнота \"Boston Housing. 19.01.2021\"",
      "provenance": [],
      "collapsed_sections": []
    },
    "kernelspec": {
      "name": "python3",
      "display_name": "Python 3"
    }
  },
  "cells": [
    {
      "cell_type": "markdown",
      "metadata": {
        "id": "UjfquuN3HkHt"
      },
      "source": [
        "# Оценка стоимости недвижимости с помощью нейронной сети\n",
        "\n",
        "\n",
        "Чтобы запускать и редактировать код, сохраните копию этого ноутбука себе (File->Save a copy in Drive...). Свою копию вы сможете изменять и запускать."
      ]
    },
    {
      "cell_type": "markdown",
      "metadata": {
        "id": "EY7r4mfLfwr-"
      },
      "source": [
        "**Laboratory work n1 **\n",
        "**Lisin Maxim 19АСв **\n",
        "**Variant 6** "
      ]
    },
    {
      "cell_type": "code",
      "metadata": {
        "colab": {
          "base_uri": "https://localhost:8080/"
        },
        "id": "q9cAkjc8hAEc",
        "outputId": "3d468703-9e74-411e-f30b-b8e151d00ab5"
      },
      "source": [
        "from google.colab import drive\n",
        "drive.mount('/content/drive')"
      ],
      "execution_count": null,
      "outputs": [
        {
          "output_type": "stream",
          "name": "stdout",
          "text": [
            "Drive already mounted at /content/drive; to attempt to forcibly remount, call drive.mount(\"/content/drive\", force_remount=True).\n"
          ]
        }
      ]
    },
    {
      "cell_type": "code",
      "metadata": {
        "id": "BghlkB57UO5V",
        "colab": {
          "base_uri": "https://localhost:8080/"
        },
        "outputId": "e30d7cd1-838b-4a29-e47d-f8abbdc9a4d4"
      },
      "source": [
        "from google.colab import drive\n",
        "drive.mount('/content/drive', force_remount=True)"
      ],
      "execution_count": null,
      "outputs": [
        {
          "output_type": "stream",
          "name": "stdout",
          "text": [
            "Mounted at /content/drive\n"
          ]
        }
      ]
    },
    {
      "cell_type": "code",
      "metadata": {
        "id": "mPHie3NfH1Y8",
        "colab": {
          "base_uri": "https://localhost:8080/"
        },
        "outputId": "515ac86f-ca8a-412e-f004-a75d0a9b1701"
      },
      "source": [
        "!ls \"/content/drive/My Drive/\""
      ],
      "execution_count": null,
      "outputs": [
        {
          "output_type": "stream",
          "name": "stdout",
          "text": [
            "'2021-02-14 Оплата тёса'\n",
            " 2021-03-29\n",
            "'Cisco packet tracer'\n",
            "'Colab Notebooks'\n",
            "'English books'\n",
            " GitHub\n",
            "'gora (1920x1080).jpg'\n",
            " IntelligentAnalysis\n",
            " Java_literature\n",
            " Netcracker\n",
            " risunok-minimalizm-raketa-doma-nebo-zapusk-ogon-dym.jpg\n",
            " wallhaven-xlx87d.png\n",
            "'We build our house'\n",
            "'Документы Россети'\n",
            " ИРИТ\n",
            "'Квитанция об оплате ИРИТ'\n",
            "'Ключи windows'\n",
            " Ленты\n",
            "'На печать'\n"
          ]
        }
      ]
    },
    {
      "cell_type": "markdown",
      "metadata": {
        "id": "xa_lsLuFPFKx"
      },
      "source": [
        "Загрузка данных с Google Drive"
      ]
    },
    {
      "cell_type": "code",
      "metadata": {
        "id": "wu0unfeqvCm2"
      },
      "source": [
        "import pandas as pd\n",
        "data = pd.read_csv(\"/content/drive/My Drive/IntelligentAnalysis/BostonHousing.csv\")"
      ],
      "execution_count": null,
      "outputs": []
    },
    {
      "cell_type": "markdown",
      "metadata": {
        "id": "Zj_40T3MPJ4Z"
      },
      "source": [
        "Отображение загруженных данных"
      ]
    },
    {
      "cell_type": "code",
      "metadata": {
        "id": "ZrHEYoUAvOme",
        "colab": {
          "base_uri": "https://localhost:8080/",
          "height": 419
        },
        "outputId": "63911dde-10a8-4077-a088-05267eaca9aa"
      },
      "source": [
        "data"
      ],
      "execution_count": null,
      "outputs": [
        {
          "output_type": "execute_result",
          "data": {
            "text/html": [
              "<div>\n",
              "<style scoped>\n",
              "    .dataframe tbody tr th:only-of-type {\n",
              "        vertical-align: middle;\n",
              "    }\n",
              "\n",
              "    .dataframe tbody tr th {\n",
              "        vertical-align: top;\n",
              "    }\n",
              "\n",
              "    .dataframe thead th {\n",
              "        text-align: right;\n",
              "    }\n",
              "</style>\n",
              "<table border=\"1\" class=\"dataframe\">\n",
              "  <thead>\n",
              "    <tr style=\"text-align: right;\">\n",
              "      <th></th>\n",
              "      <th>crim</th>\n",
              "      <th>zn</th>\n",
              "      <th>indus</th>\n",
              "      <th>chas</th>\n",
              "      <th>nox</th>\n",
              "      <th>rm</th>\n",
              "      <th>age</th>\n",
              "      <th>dis</th>\n",
              "      <th>rad</th>\n",
              "      <th>tax</th>\n",
              "      <th>ptratio</th>\n",
              "      <th>b</th>\n",
              "      <th>lstat</th>\n",
              "      <th>medv</th>\n",
              "    </tr>\n",
              "  </thead>\n",
              "  <tbody>\n",
              "    <tr>\n",
              "      <th>0</th>\n",
              "      <td>0.00632</td>\n",
              "      <td>18.0</td>\n",
              "      <td>2.31</td>\n",
              "      <td>0</td>\n",
              "      <td>0.538</td>\n",
              "      <td>6.575</td>\n",
              "      <td>65.2</td>\n",
              "      <td>4.0900</td>\n",
              "      <td>1</td>\n",
              "      <td>296</td>\n",
              "      <td>15.3</td>\n",
              "      <td>396.90</td>\n",
              "      <td>4.98</td>\n",
              "      <td>24.0</td>\n",
              "    </tr>\n",
              "    <tr>\n",
              "      <th>1</th>\n",
              "      <td>0.02731</td>\n",
              "      <td>0.0</td>\n",
              "      <td>7.07</td>\n",
              "      <td>0</td>\n",
              "      <td>0.469</td>\n",
              "      <td>6.421</td>\n",
              "      <td>78.9</td>\n",
              "      <td>4.9671</td>\n",
              "      <td>2</td>\n",
              "      <td>242</td>\n",
              "      <td>17.8</td>\n",
              "      <td>396.90</td>\n",
              "      <td>9.14</td>\n",
              "      <td>21.6</td>\n",
              "    </tr>\n",
              "    <tr>\n",
              "      <th>2</th>\n",
              "      <td>0.02729</td>\n",
              "      <td>0.0</td>\n",
              "      <td>7.07</td>\n",
              "      <td>0</td>\n",
              "      <td>0.469</td>\n",
              "      <td>7.185</td>\n",
              "      <td>61.1</td>\n",
              "      <td>4.9671</td>\n",
              "      <td>2</td>\n",
              "      <td>242</td>\n",
              "      <td>17.8</td>\n",
              "      <td>392.83</td>\n",
              "      <td>4.03</td>\n",
              "      <td>34.7</td>\n",
              "    </tr>\n",
              "    <tr>\n",
              "      <th>3</th>\n",
              "      <td>0.03237</td>\n",
              "      <td>0.0</td>\n",
              "      <td>2.18</td>\n",
              "      <td>0</td>\n",
              "      <td>0.458</td>\n",
              "      <td>6.998</td>\n",
              "      <td>45.8</td>\n",
              "      <td>6.0622</td>\n",
              "      <td>3</td>\n",
              "      <td>222</td>\n",
              "      <td>18.7</td>\n",
              "      <td>394.63</td>\n",
              "      <td>2.94</td>\n",
              "      <td>33.4</td>\n",
              "    </tr>\n",
              "    <tr>\n",
              "      <th>4</th>\n",
              "      <td>0.06905</td>\n",
              "      <td>0.0</td>\n",
              "      <td>2.18</td>\n",
              "      <td>0</td>\n",
              "      <td>0.458</td>\n",
              "      <td>7.147</td>\n",
              "      <td>54.2</td>\n",
              "      <td>6.0622</td>\n",
              "      <td>3</td>\n",
              "      <td>222</td>\n",
              "      <td>18.7</td>\n",
              "      <td>396.90</td>\n",
              "      <td>5.33</td>\n",
              "      <td>36.2</td>\n",
              "    </tr>\n",
              "    <tr>\n",
              "      <th>...</th>\n",
              "      <td>...</td>\n",
              "      <td>...</td>\n",
              "      <td>...</td>\n",
              "      <td>...</td>\n",
              "      <td>...</td>\n",
              "      <td>...</td>\n",
              "      <td>...</td>\n",
              "      <td>...</td>\n",
              "      <td>...</td>\n",
              "      <td>...</td>\n",
              "      <td>...</td>\n",
              "      <td>...</td>\n",
              "      <td>...</td>\n",
              "      <td>...</td>\n",
              "    </tr>\n",
              "    <tr>\n",
              "      <th>501</th>\n",
              "      <td>0.06263</td>\n",
              "      <td>0.0</td>\n",
              "      <td>11.93</td>\n",
              "      <td>0</td>\n",
              "      <td>0.573</td>\n",
              "      <td>6.593</td>\n",
              "      <td>69.1</td>\n",
              "      <td>2.4786</td>\n",
              "      <td>1</td>\n",
              "      <td>273</td>\n",
              "      <td>21.0</td>\n",
              "      <td>391.99</td>\n",
              "      <td>9.67</td>\n",
              "      <td>22.4</td>\n",
              "    </tr>\n",
              "    <tr>\n",
              "      <th>502</th>\n",
              "      <td>0.04527</td>\n",
              "      <td>0.0</td>\n",
              "      <td>11.93</td>\n",
              "      <td>0</td>\n",
              "      <td>0.573</td>\n",
              "      <td>6.120</td>\n",
              "      <td>76.7</td>\n",
              "      <td>2.2875</td>\n",
              "      <td>1</td>\n",
              "      <td>273</td>\n",
              "      <td>21.0</td>\n",
              "      <td>396.90</td>\n",
              "      <td>9.08</td>\n",
              "      <td>20.6</td>\n",
              "    </tr>\n",
              "    <tr>\n",
              "      <th>503</th>\n",
              "      <td>0.06076</td>\n",
              "      <td>0.0</td>\n",
              "      <td>11.93</td>\n",
              "      <td>0</td>\n",
              "      <td>0.573</td>\n",
              "      <td>6.976</td>\n",
              "      <td>91.0</td>\n",
              "      <td>2.1675</td>\n",
              "      <td>1</td>\n",
              "      <td>273</td>\n",
              "      <td>21.0</td>\n",
              "      <td>396.90</td>\n",
              "      <td>5.64</td>\n",
              "      <td>23.9</td>\n",
              "    </tr>\n",
              "    <tr>\n",
              "      <th>504</th>\n",
              "      <td>0.10959</td>\n",
              "      <td>0.0</td>\n",
              "      <td>11.93</td>\n",
              "      <td>0</td>\n",
              "      <td>0.573</td>\n",
              "      <td>6.794</td>\n",
              "      <td>89.3</td>\n",
              "      <td>2.3889</td>\n",
              "      <td>1</td>\n",
              "      <td>273</td>\n",
              "      <td>21.0</td>\n",
              "      <td>393.45</td>\n",
              "      <td>6.48</td>\n",
              "      <td>22.0</td>\n",
              "    </tr>\n",
              "    <tr>\n",
              "      <th>505</th>\n",
              "      <td>0.04741</td>\n",
              "      <td>0.0</td>\n",
              "      <td>11.93</td>\n",
              "      <td>0</td>\n",
              "      <td>0.573</td>\n",
              "      <td>6.030</td>\n",
              "      <td>80.8</td>\n",
              "      <td>2.5050</td>\n",
              "      <td>1</td>\n",
              "      <td>273</td>\n",
              "      <td>21.0</td>\n",
              "      <td>396.90</td>\n",
              "      <td>7.88</td>\n",
              "      <td>11.9</td>\n",
              "    </tr>\n",
              "  </tbody>\n",
              "</table>\n",
              "<p>506 rows × 14 columns</p>\n",
              "</div>"
            ],
            "text/plain": [
              "        crim    zn  indus  chas    nox  ...  tax  ptratio       b  lstat  medv\n",
              "0    0.00632  18.0   2.31     0  0.538  ...  296     15.3  396.90   4.98  24.0\n",
              "1    0.02731   0.0   7.07     0  0.469  ...  242     17.8  396.90   9.14  21.6\n",
              "2    0.02729   0.0   7.07     0  0.469  ...  242     17.8  392.83   4.03  34.7\n",
              "3    0.03237   0.0   2.18     0  0.458  ...  222     18.7  394.63   2.94  33.4\n",
              "4    0.06905   0.0   2.18     0  0.458  ...  222     18.7  396.90   5.33  36.2\n",
              "..       ...   ...    ...   ...    ...  ...  ...      ...     ...    ...   ...\n",
              "501  0.06263   0.0  11.93     0  0.573  ...  273     21.0  391.99   9.67  22.4\n",
              "502  0.04527   0.0  11.93     0  0.573  ...  273     21.0  396.90   9.08  20.6\n",
              "503  0.06076   0.0  11.93     0  0.573  ...  273     21.0  396.90   5.64  23.9\n",
              "504  0.10959   0.0  11.93     0  0.573  ...  273     21.0  393.45   6.48  22.0\n",
              "505  0.04741   0.0  11.93     0  0.573  ...  273     21.0  396.90   7.88  11.9\n",
              "\n",
              "[506 rows x 14 columns]"
            ]
          },
          "metadata": {},
          "execution_count": 44
        }
      ]
    },
    {
      "cell_type": "markdown",
      "metadata": {
        "id": "l3LohU1cP9os"
      },
      "source": [
        "Удаление столбца ID из набора данных"
      ]
    },
    {
      "cell_type": "code",
      "metadata": {
        "id": "xcM157UEPtpD"
      },
      "source": [
        "features = data.drop(columns=['medv'])"
      ],
      "execution_count": null,
      "outputs": []
    },
    {
      "cell_type": "code",
      "metadata": {
        "colab": {
          "base_uri": "https://localhost:8080/",
          "height": 419
        },
        "id": "LH2gJFBdP5YW",
        "outputId": "4a6a51b0-87d3-412a-a25c-a6755faf5d12"
      },
      "source": [
        "features"
      ],
      "execution_count": null,
      "outputs": [
        {
          "output_type": "execute_result",
          "data": {
            "text/html": [
              "<div>\n",
              "<style scoped>\n",
              "    .dataframe tbody tr th:only-of-type {\n",
              "        vertical-align: middle;\n",
              "    }\n",
              "\n",
              "    .dataframe tbody tr th {\n",
              "        vertical-align: top;\n",
              "    }\n",
              "\n",
              "    .dataframe thead th {\n",
              "        text-align: right;\n",
              "    }\n",
              "</style>\n",
              "<table border=\"1\" class=\"dataframe\">\n",
              "  <thead>\n",
              "    <tr style=\"text-align: right;\">\n",
              "      <th></th>\n",
              "      <th>crim</th>\n",
              "      <th>zn</th>\n",
              "      <th>indus</th>\n",
              "      <th>chas</th>\n",
              "      <th>nox</th>\n",
              "      <th>rm</th>\n",
              "      <th>age</th>\n",
              "      <th>dis</th>\n",
              "      <th>rad</th>\n",
              "      <th>tax</th>\n",
              "      <th>ptratio</th>\n",
              "      <th>b</th>\n",
              "      <th>lstat</th>\n",
              "    </tr>\n",
              "  </thead>\n",
              "  <tbody>\n",
              "    <tr>\n",
              "      <th>0</th>\n",
              "      <td>0.00632</td>\n",
              "      <td>18.0</td>\n",
              "      <td>2.31</td>\n",
              "      <td>0</td>\n",
              "      <td>0.538</td>\n",
              "      <td>6.575</td>\n",
              "      <td>65.2</td>\n",
              "      <td>4.0900</td>\n",
              "      <td>1</td>\n",
              "      <td>296</td>\n",
              "      <td>15.3</td>\n",
              "      <td>396.90</td>\n",
              "      <td>4.98</td>\n",
              "    </tr>\n",
              "    <tr>\n",
              "      <th>1</th>\n",
              "      <td>0.02731</td>\n",
              "      <td>0.0</td>\n",
              "      <td>7.07</td>\n",
              "      <td>0</td>\n",
              "      <td>0.469</td>\n",
              "      <td>6.421</td>\n",
              "      <td>78.9</td>\n",
              "      <td>4.9671</td>\n",
              "      <td>2</td>\n",
              "      <td>242</td>\n",
              "      <td>17.8</td>\n",
              "      <td>396.90</td>\n",
              "      <td>9.14</td>\n",
              "    </tr>\n",
              "    <tr>\n",
              "      <th>2</th>\n",
              "      <td>0.02729</td>\n",
              "      <td>0.0</td>\n",
              "      <td>7.07</td>\n",
              "      <td>0</td>\n",
              "      <td>0.469</td>\n",
              "      <td>7.185</td>\n",
              "      <td>61.1</td>\n",
              "      <td>4.9671</td>\n",
              "      <td>2</td>\n",
              "      <td>242</td>\n",
              "      <td>17.8</td>\n",
              "      <td>392.83</td>\n",
              "      <td>4.03</td>\n",
              "    </tr>\n",
              "    <tr>\n",
              "      <th>3</th>\n",
              "      <td>0.03237</td>\n",
              "      <td>0.0</td>\n",
              "      <td>2.18</td>\n",
              "      <td>0</td>\n",
              "      <td>0.458</td>\n",
              "      <td>6.998</td>\n",
              "      <td>45.8</td>\n",
              "      <td>6.0622</td>\n",
              "      <td>3</td>\n",
              "      <td>222</td>\n",
              "      <td>18.7</td>\n",
              "      <td>394.63</td>\n",
              "      <td>2.94</td>\n",
              "    </tr>\n",
              "    <tr>\n",
              "      <th>4</th>\n",
              "      <td>0.06905</td>\n",
              "      <td>0.0</td>\n",
              "      <td>2.18</td>\n",
              "      <td>0</td>\n",
              "      <td>0.458</td>\n",
              "      <td>7.147</td>\n",
              "      <td>54.2</td>\n",
              "      <td>6.0622</td>\n",
              "      <td>3</td>\n",
              "      <td>222</td>\n",
              "      <td>18.7</td>\n",
              "      <td>396.90</td>\n",
              "      <td>5.33</td>\n",
              "    </tr>\n",
              "    <tr>\n",
              "      <th>...</th>\n",
              "      <td>...</td>\n",
              "      <td>...</td>\n",
              "      <td>...</td>\n",
              "      <td>...</td>\n",
              "      <td>...</td>\n",
              "      <td>...</td>\n",
              "      <td>...</td>\n",
              "      <td>...</td>\n",
              "      <td>...</td>\n",
              "      <td>...</td>\n",
              "      <td>...</td>\n",
              "      <td>...</td>\n",
              "      <td>...</td>\n",
              "    </tr>\n",
              "    <tr>\n",
              "      <th>501</th>\n",
              "      <td>0.06263</td>\n",
              "      <td>0.0</td>\n",
              "      <td>11.93</td>\n",
              "      <td>0</td>\n",
              "      <td>0.573</td>\n",
              "      <td>6.593</td>\n",
              "      <td>69.1</td>\n",
              "      <td>2.4786</td>\n",
              "      <td>1</td>\n",
              "      <td>273</td>\n",
              "      <td>21.0</td>\n",
              "      <td>391.99</td>\n",
              "      <td>9.67</td>\n",
              "    </tr>\n",
              "    <tr>\n",
              "      <th>502</th>\n",
              "      <td>0.04527</td>\n",
              "      <td>0.0</td>\n",
              "      <td>11.93</td>\n",
              "      <td>0</td>\n",
              "      <td>0.573</td>\n",
              "      <td>6.120</td>\n",
              "      <td>76.7</td>\n",
              "      <td>2.2875</td>\n",
              "      <td>1</td>\n",
              "      <td>273</td>\n",
              "      <td>21.0</td>\n",
              "      <td>396.90</td>\n",
              "      <td>9.08</td>\n",
              "    </tr>\n",
              "    <tr>\n",
              "      <th>503</th>\n",
              "      <td>0.06076</td>\n",
              "      <td>0.0</td>\n",
              "      <td>11.93</td>\n",
              "      <td>0</td>\n",
              "      <td>0.573</td>\n",
              "      <td>6.976</td>\n",
              "      <td>91.0</td>\n",
              "      <td>2.1675</td>\n",
              "      <td>1</td>\n",
              "      <td>273</td>\n",
              "      <td>21.0</td>\n",
              "      <td>396.90</td>\n",
              "      <td>5.64</td>\n",
              "    </tr>\n",
              "    <tr>\n",
              "      <th>504</th>\n",
              "      <td>0.10959</td>\n",
              "      <td>0.0</td>\n",
              "      <td>11.93</td>\n",
              "      <td>0</td>\n",
              "      <td>0.573</td>\n",
              "      <td>6.794</td>\n",
              "      <td>89.3</td>\n",
              "      <td>2.3889</td>\n",
              "      <td>1</td>\n",
              "      <td>273</td>\n",
              "      <td>21.0</td>\n",
              "      <td>393.45</td>\n",
              "      <td>6.48</td>\n",
              "    </tr>\n",
              "    <tr>\n",
              "      <th>505</th>\n",
              "      <td>0.04741</td>\n",
              "      <td>0.0</td>\n",
              "      <td>11.93</td>\n",
              "      <td>0</td>\n",
              "      <td>0.573</td>\n",
              "      <td>6.030</td>\n",
              "      <td>80.8</td>\n",
              "      <td>2.5050</td>\n",
              "      <td>1</td>\n",
              "      <td>273</td>\n",
              "      <td>21.0</td>\n",
              "      <td>396.90</td>\n",
              "      <td>7.88</td>\n",
              "    </tr>\n",
              "  </tbody>\n",
              "</table>\n",
              "<p>506 rows × 13 columns</p>\n",
              "</div>"
            ],
            "text/plain": [
              "        crim    zn  indus  chas    nox  ...  rad  tax  ptratio       b  lstat\n",
              "0    0.00632  18.0   2.31     0  0.538  ...    1  296     15.3  396.90   4.98\n",
              "1    0.02731   0.0   7.07     0  0.469  ...    2  242     17.8  396.90   9.14\n",
              "2    0.02729   0.0   7.07     0  0.469  ...    2  242     17.8  392.83   4.03\n",
              "3    0.03237   0.0   2.18     0  0.458  ...    3  222     18.7  394.63   2.94\n",
              "4    0.06905   0.0   2.18     0  0.458  ...    3  222     18.7  396.90   5.33\n",
              "..       ...   ...    ...   ...    ...  ...  ...  ...      ...     ...    ...\n",
              "501  0.06263   0.0  11.93     0  0.573  ...    1  273     21.0  391.99   9.67\n",
              "502  0.04527   0.0  11.93     0  0.573  ...    1  273     21.0  396.90   9.08\n",
              "503  0.06076   0.0  11.93     0  0.573  ...    1  273     21.0  396.90   5.64\n",
              "504  0.10959   0.0  11.93     0  0.573  ...    1  273     21.0  393.45   6.48\n",
              "505  0.04741   0.0  11.93     0  0.573  ...    1  273     21.0  396.90   7.88\n",
              "\n",
              "[506 rows x 13 columns]"
            ]
          },
          "metadata": {},
          "execution_count": 46
        }
      ]
    },
    {
      "cell_type": "markdown",
      "metadata": {
        "id": "N1X8BlEnQTsc"
      },
      "source": [
        "Нормировка данных так, чтобы среднее = 0, стандартное отклонение = 1"
      ]
    },
    {
      "cell_type": "code",
      "metadata": {
        "id": "9cmGLPLlx1aA"
      },
      "source": [
        "# Среднее значение\n",
        "mymean = features.mean(axis=0)\n",
        "# Стандартное отклонение\n",
        "mystd = features.std(axis=0)\n",
        "features -= mymean\n",
        "features /= mystd"
      ],
      "execution_count": null,
      "outputs": []
    },
    {
      "cell_type": "code",
      "metadata": {
        "id": "0W0cH1fVx9je",
        "colab": {
          "base_uri": "https://localhost:8080/",
          "height": 419
        },
        "outputId": "4fed46d4-f8f6-4152-cc17-9c2c63006641"
      },
      "source": [
        "features"
      ],
      "execution_count": null,
      "outputs": [
        {
          "output_type": "execute_result",
          "data": {
            "text/html": [
              "<div>\n",
              "<style scoped>\n",
              "    .dataframe tbody tr th:only-of-type {\n",
              "        vertical-align: middle;\n",
              "    }\n",
              "\n",
              "    .dataframe tbody tr th {\n",
              "        vertical-align: top;\n",
              "    }\n",
              "\n",
              "    .dataframe thead th {\n",
              "        text-align: right;\n",
              "    }\n",
              "</style>\n",
              "<table border=\"1\" class=\"dataframe\">\n",
              "  <thead>\n",
              "    <tr style=\"text-align: right;\">\n",
              "      <th></th>\n",
              "      <th>crim</th>\n",
              "      <th>zn</th>\n",
              "      <th>indus</th>\n",
              "      <th>chas</th>\n",
              "      <th>nox</th>\n",
              "      <th>rm</th>\n",
              "      <th>age</th>\n",
              "      <th>dis</th>\n",
              "      <th>rad</th>\n",
              "      <th>tax</th>\n",
              "      <th>ptratio</th>\n",
              "      <th>b</th>\n",
              "      <th>lstat</th>\n",
              "    </tr>\n",
              "  </thead>\n",
              "  <tbody>\n",
              "    <tr>\n",
              "      <th>0</th>\n",
              "      <td>-0.419367</td>\n",
              "      <td>0.284548</td>\n",
              "      <td>-1.286636</td>\n",
              "      <td>-0.272329</td>\n",
              "      <td>-0.144075</td>\n",
              "      <td>0.413263</td>\n",
              "      <td>-0.119895</td>\n",
              "      <td>0.140075</td>\n",
              "      <td>-0.981871</td>\n",
              "      <td>-0.665949</td>\n",
              "      <td>-1.457558</td>\n",
              "      <td>0.440616</td>\n",
              "      <td>-1.074499</td>\n",
              "    </tr>\n",
              "    <tr>\n",
              "      <th>1</th>\n",
              "      <td>-0.416927</td>\n",
              "      <td>-0.487240</td>\n",
              "      <td>-0.592794</td>\n",
              "      <td>-0.272329</td>\n",
              "      <td>-0.739530</td>\n",
              "      <td>0.194082</td>\n",
              "      <td>0.366803</td>\n",
              "      <td>0.556609</td>\n",
              "      <td>-0.867024</td>\n",
              "      <td>-0.986353</td>\n",
              "      <td>-0.302794</td>\n",
              "      <td>0.440616</td>\n",
              "      <td>-0.491953</td>\n",
              "    </tr>\n",
              "    <tr>\n",
              "      <th>2</th>\n",
              "      <td>-0.416929</td>\n",
              "      <td>-0.487240</td>\n",
              "      <td>-0.592794</td>\n",
              "      <td>-0.272329</td>\n",
              "      <td>-0.739530</td>\n",
              "      <td>1.281446</td>\n",
              "      <td>-0.265549</td>\n",
              "      <td>0.556609</td>\n",
              "      <td>-0.867024</td>\n",
              "      <td>-0.986353</td>\n",
              "      <td>-0.302794</td>\n",
              "      <td>0.396035</td>\n",
              "      <td>-1.207532</td>\n",
              "    </tr>\n",
              "    <tr>\n",
              "      <th>3</th>\n",
              "      <td>-0.416338</td>\n",
              "      <td>-0.487240</td>\n",
              "      <td>-1.305586</td>\n",
              "      <td>-0.272329</td>\n",
              "      <td>-0.834458</td>\n",
              "      <td>1.015298</td>\n",
              "      <td>-0.809088</td>\n",
              "      <td>1.076671</td>\n",
              "      <td>-0.752178</td>\n",
              "      <td>-1.105022</td>\n",
              "      <td>0.112920</td>\n",
              "      <td>0.415751</td>\n",
              "      <td>-1.360171</td>\n",
              "    </tr>\n",
              "    <tr>\n",
              "      <th>4</th>\n",
              "      <td>-0.412074</td>\n",
              "      <td>-0.487240</td>\n",
              "      <td>-1.305586</td>\n",
              "      <td>-0.272329</td>\n",
              "      <td>-0.834458</td>\n",
              "      <td>1.227362</td>\n",
              "      <td>-0.510674</td>\n",
              "      <td>1.076671</td>\n",
              "      <td>-0.752178</td>\n",
              "      <td>-1.105022</td>\n",
              "      <td>0.112920</td>\n",
              "      <td>0.440616</td>\n",
              "      <td>-1.025487</td>\n",
              "    </tr>\n",
              "    <tr>\n",
              "      <th>...</th>\n",
              "      <td>...</td>\n",
              "      <td>...</td>\n",
              "      <td>...</td>\n",
              "      <td>...</td>\n",
              "      <td>...</td>\n",
              "      <td>...</td>\n",
              "      <td>...</td>\n",
              "      <td>...</td>\n",
              "      <td>...</td>\n",
              "      <td>...</td>\n",
              "      <td>...</td>\n",
              "      <td>...</td>\n",
              "      <td>...</td>\n",
              "    </tr>\n",
              "    <tr>\n",
              "      <th>501</th>\n",
              "      <td>-0.412820</td>\n",
              "      <td>-0.487240</td>\n",
              "      <td>0.115624</td>\n",
              "      <td>-0.272329</td>\n",
              "      <td>0.157968</td>\n",
              "      <td>0.438881</td>\n",
              "      <td>0.018654</td>\n",
              "      <td>-0.625178</td>\n",
              "      <td>-0.981871</td>\n",
              "      <td>-0.802418</td>\n",
              "      <td>1.175303</td>\n",
              "      <td>0.386834</td>\n",
              "      <td>-0.417734</td>\n",
              "    </tr>\n",
              "    <tr>\n",
              "      <th>502</th>\n",
              "      <td>-0.414839</td>\n",
              "      <td>-0.487240</td>\n",
              "      <td>0.115624</td>\n",
              "      <td>-0.272329</td>\n",
              "      <td>0.157968</td>\n",
              "      <td>-0.234316</td>\n",
              "      <td>0.288648</td>\n",
              "      <td>-0.715931</td>\n",
              "      <td>-0.981871</td>\n",
              "      <td>-0.802418</td>\n",
              "      <td>1.175303</td>\n",
              "      <td>0.440616</td>\n",
              "      <td>-0.500355</td>\n",
              "    </tr>\n",
              "    <tr>\n",
              "      <th>503</th>\n",
              "      <td>-0.413038</td>\n",
              "      <td>-0.487240</td>\n",
              "      <td>0.115624</td>\n",
              "      <td>-0.272329</td>\n",
              "      <td>0.157968</td>\n",
              "      <td>0.983986</td>\n",
              "      <td>0.796661</td>\n",
              "      <td>-0.772919</td>\n",
              "      <td>-0.981871</td>\n",
              "      <td>-0.802418</td>\n",
              "      <td>1.175303</td>\n",
              "      <td>0.440616</td>\n",
              "      <td>-0.982076</td>\n",
              "    </tr>\n",
              "    <tr>\n",
              "      <th>504</th>\n",
              "      <td>-0.407361</td>\n",
              "      <td>-0.487240</td>\n",
              "      <td>0.115624</td>\n",
              "      <td>-0.272329</td>\n",
              "      <td>0.157968</td>\n",
              "      <td>0.724955</td>\n",
              "      <td>0.736268</td>\n",
              "      <td>-0.667776</td>\n",
              "      <td>-0.981871</td>\n",
              "      <td>-0.802418</td>\n",
              "      <td>1.175303</td>\n",
              "      <td>0.402826</td>\n",
              "      <td>-0.864446</td>\n",
              "    </tr>\n",
              "    <tr>\n",
              "      <th>505</th>\n",
              "      <td>-0.414590</td>\n",
              "      <td>-0.487240</td>\n",
              "      <td>0.115624</td>\n",
              "      <td>-0.272329</td>\n",
              "      <td>0.157968</td>\n",
              "      <td>-0.362408</td>\n",
              "      <td>0.434302</td>\n",
              "      <td>-0.612640</td>\n",
              "      <td>-0.981871</td>\n",
              "      <td>-0.802418</td>\n",
              "      <td>1.175303</td>\n",
              "      <td>0.440616</td>\n",
              "      <td>-0.668397</td>\n",
              "    </tr>\n",
              "  </tbody>\n",
              "</table>\n",
              "<p>506 rows × 13 columns</p>\n",
              "</div>"
            ],
            "text/plain": [
              "         crim        zn     indus  ...   ptratio         b     lstat\n",
              "0   -0.419367  0.284548 -1.286636  ... -1.457558  0.440616 -1.074499\n",
              "1   -0.416927 -0.487240 -0.592794  ... -0.302794  0.440616 -0.491953\n",
              "2   -0.416929 -0.487240 -0.592794  ... -0.302794  0.396035 -1.207532\n",
              "3   -0.416338 -0.487240 -1.305586  ...  0.112920  0.415751 -1.360171\n",
              "4   -0.412074 -0.487240 -1.305586  ...  0.112920  0.440616 -1.025487\n",
              "..        ...       ...       ...  ...       ...       ...       ...\n",
              "501 -0.412820 -0.487240  0.115624  ...  1.175303  0.386834 -0.417734\n",
              "502 -0.414839 -0.487240  0.115624  ...  1.175303  0.440616 -0.500355\n",
              "503 -0.413038 -0.487240  0.115624  ...  1.175303  0.440616 -0.982076\n",
              "504 -0.407361 -0.487240  0.115624  ...  1.175303  0.402826 -0.864446\n",
              "505 -0.414590 -0.487240  0.115624  ...  1.175303  0.440616 -0.668397\n",
              "\n",
              "[506 rows x 13 columns]"
            ]
          },
          "metadata": {},
          "execution_count": 48
        }
      ]
    },
    {
      "cell_type": "code",
      "metadata": {
        "id": "vUOQVk8S1F5y"
      },
      "source": [
        "y = data.iloc[:, 13]"
      ],
      "execution_count": null,
      "outputs": []
    },
    {
      "cell_type": "code",
      "metadata": {
        "id": "TwNI72TW1QaK",
        "colab": {
          "base_uri": "https://localhost:8080/"
        },
        "outputId": "2d09271f-6a1a-4326-d021-54d0754d0dfc"
      },
      "source": [
        "y"
      ],
      "execution_count": null,
      "outputs": [
        {
          "output_type": "execute_result",
          "data": {
            "text/plain": [
              "0      24.0\n",
              "1      21.6\n",
              "2      34.7\n",
              "3      33.4\n",
              "4      36.2\n",
              "       ... \n",
              "501    22.4\n",
              "502    20.6\n",
              "503    23.9\n",
              "504    22.0\n",
              "505    11.9\n",
              "Name: medv, Length: 506, dtype: float64"
            ]
          },
          "metadata": {},
          "execution_count": 50
        }
      ]
    },
    {
      "cell_type": "code",
      "metadata": {
        "id": "0JOTEyH31R-s"
      },
      "source": [
        "import numpy as np\n",
        "from sklearn.model_selection import train_test_split"
      ],
      "execution_count": null,
      "outputs": []
    },
    {
      "cell_type": "code",
      "metadata": {
        "id": "oUnIGLqv1Zw2"
      },
      "source": [
        "X_train, X_test, y_train, y_test = train_test_split(features, y, test_size=0.33, random_state=42)"
      ],
      "execution_count": null,
      "outputs": []
    },
    {
      "cell_type": "code",
      "metadata": {
        "id": "8LkOsKSV1fBO"
      },
      "source": [
        "from tensorflow.python.keras.models import Sequential\n",
        "from tensorflow.python.keras.layers import Dense"
      ],
      "execution_count": null,
      "outputs": []
    },
    {
      "cell_type": "code",
      "metadata": {
        "id": "UYWzFxYcMwr-"
      },
      "source": [
        "model = Sequential()\n",
        "model.add(Dense(128, activation='relu', input_shape=(X_train.shape[1],)))\n",
        "model.add(Dense(64, activation='relu'))\n",
        "model.add(Dense(1))"
      ],
      "execution_count": null,
      "outputs": []
    },
    {
      "cell_type": "code",
      "metadata": {
        "colab": {
          "base_uri": "https://localhost:8080/"
        },
        "id": "6m9d7A3sMx3K",
        "outputId": "f21ab80d-1110-487e-e8a2-4d219730fe9f"
      },
      "source": [
        "print(model.summary())"
      ],
      "execution_count": null,
      "outputs": [
        {
          "output_type": "stream",
          "name": "stdout",
          "text": [
            "Model: \"sequential_3\"\n",
            "_________________________________________________________________\n",
            "Layer (type)                 Output Shape              Param #   \n",
            "=================================================================\n",
            "dense_9 (Dense)              (None, 128)               1792      \n",
            "_________________________________________________________________\n",
            "dense_10 (Dense)             (None, 64)                8256      \n",
            "_________________________________________________________________\n",
            "dense_11 (Dense)             (None, 1)                 65        \n",
            "=================================================================\n",
            "Total params: 10,113\n",
            "Trainable params: 10,113\n",
            "Non-trainable params: 0\n",
            "_________________________________________________________________\n",
            "None\n"
          ]
        }
      ]
    },
    {
      "cell_type": "code",
      "metadata": {
        "id": "WpFxoaEGM-c0"
      },
      "source": [
        "model.compile(optimizer='adam', loss='mse', metrics=['mae'])"
      ],
      "execution_count": null,
      "outputs": []
    },
    {
      "cell_type": "code",
      "metadata": {
        "colab": {
          "base_uri": "https://localhost:8080/"
        },
        "id": "FvzXR_FNNDYR",
        "outputId": "be51f6f8-8bf2-4e18-fc8a-d8f936919cdb"
      },
      "source": [
        "model.fit(X_train, y_train, epochs=15, batch_size=32, validation_split=0.2, verbose=1)"
      ],
      "execution_count": null,
      "outputs": [
        {
          "output_type": "stream",
          "name": "stdout",
          "text": [
            "Epoch 1/15\n",
            "9/9 [==============================] - 1s 24ms/step - loss: 615.9486 - mae: 22.9281 - val_loss: 562.5704 - val_mae: 22.1659\n",
            "Epoch 2/15\n",
            "9/9 [==============================] - 0s 5ms/step - loss: 566.3326 - mae: 21.8281 - val_loss: 515.0073 - val_mae: 21.1010\n",
            "Epoch 3/15\n",
            "9/9 [==============================] - 0s 5ms/step - loss: 512.5765 - mae: 20.5710 - val_loss: 455.3910 - val_mae: 19.6922\n",
            "Epoch 4/15\n",
            "9/9 [==============================] - 0s 5ms/step - loss: 439.8020 - mae: 18.8312 - val_loss: 376.9443 - val_mae: 17.6795\n",
            "Epoch 5/15\n",
            "9/9 [==============================] - 0s 7ms/step - loss: 347.8009 - mae: 16.4134 - val_loss: 282.3686 - val_mae: 15.0657\n",
            "Epoch 6/15\n",
            "9/9 [==============================] - 0s 5ms/step - loss: 245.5970 - mae: 13.3284 - val_loss: 184.3951 - val_mae: 11.6734\n",
            "Epoch 7/15\n",
            "9/9 [==============================] - 0s 5ms/step - loss: 154.7732 - mae: 10.0492 - val_loss: 107.7750 - val_mae: 8.1835\n",
            "Epoch 8/15\n",
            "9/9 [==============================] - 0s 5ms/step - loss: 95.7003 - mae: 7.8167 - val_loss: 67.2487 - val_mae: 6.1585\n",
            "Epoch 9/15\n",
            "9/9 [==============================] - 0s 7ms/step - loss: 70.4005 - mae: 6.6799 - val_loss: 49.8151 - val_mae: 5.1859\n",
            "Epoch 10/15\n",
            "9/9 [==============================] - 0s 5ms/step - loss: 54.7875 - mae: 5.7848 - val_loss: 39.2745 - val_mae: 4.5468\n",
            "Epoch 11/15\n",
            "9/9 [==============================] - 0s 5ms/step - loss: 42.4842 - mae: 5.0454 - val_loss: 33.0615 - val_mae: 4.1044\n",
            "Epoch 12/15\n",
            "9/9 [==============================] - 0s 6ms/step - loss: 34.0163 - mae: 4.4234 - val_loss: 30.1305 - val_mae: 3.9095\n",
            "Epoch 13/15\n",
            "9/9 [==============================] - 0s 5ms/step - loss: 29.2773 - mae: 4.0613 - val_loss: 28.4904 - val_mae: 3.7848\n",
            "Epoch 14/15\n",
            "9/9 [==============================] - 0s 5ms/step - loss: 26.1237 - mae: 3.8088 - val_loss: 27.3428 - val_mae: 3.7198\n",
            "Epoch 15/15\n",
            "9/9 [==============================] - 0s 7ms/step - loss: 24.0893 - mae: 3.6623 - val_loss: 26.5508 - val_mae: 3.6684\n"
          ]
        },
        {
          "output_type": "execute_result",
          "data": {
            "text/plain": [
              "<tensorflow.python.keras.callbacks.History at 0x7f101c7a0f90>"
            ]
          },
          "metadata": {},
          "execution_count": 57
        }
      ]
    },
    {
      "cell_type": "code",
      "metadata": {
        "id": "bV3eQExON8Oy"
      },
      "source": [
        "pred = model.predict(X_test)"
      ],
      "execution_count": null,
      "outputs": []
    },
    {
      "cell_type": "code",
      "metadata": {
        "colab": {
          "base_uri": "https://localhost:8080/"
        },
        "id": "ozOGxsHwOovX",
        "outputId": "7896255e-f1b8-43f5-cb13-c85b93990c15"
      },
      "source": [
        "#print(pred)\n",
        "pred[0][0]"
      ],
      "execution_count": null,
      "outputs": [
        {
          "output_type": "execute_result",
          "data": {
            "text/plain": [
              "27.913511"
            ]
          },
          "metadata": {},
          "execution_count": 59
        }
      ]
    },
    {
      "cell_type": "code",
      "metadata": {
        "id": "E2PXC83kSJSq"
      },
      "source": [
        "y_test = y_test.reset_index(drop=True)"
      ],
      "execution_count": null,
      "outputs": []
    },
    {
      "cell_type": "code",
      "metadata": {
        "colab": {
          "base_uri": "https://localhost:8080/"
        },
        "id": "l9k1HW-nO0a_",
        "outputId": "58e589a3-fcd3-430c-c5cc-7d382a78b080"
      },
      "source": [
        "print(\"Предсказанная стоимость:\", pred[12][0], \", правильная стоимость:\", y_test[12])"
      ],
      "execution_count": null,
      "outputs": [
        {
          "output_type": "stream",
          "name": "stdout",
          "text": [
            "Предсказанная стоимость: 9.555574 , правильная стоимость: 7.0\n"
          ]
        }
      ]
    },
    {
      "cell_type": "code",
      "metadata": {
        "id": "36TYgu-FVymU"
      },
      "source": [
        "vec = np.array([])\n",
        "for i in np.arange(0, len(pred)):\n",
        "  vec = np.append(vec, pred[i][0])"
      ],
      "execution_count": null,
      "outputs": []
    },
    {
      "cell_type": "code",
      "metadata": {
        "id": "q1zE064xXX2H"
      },
      "source": [
        "diff = np.array([])\n",
        "\n",
        "for i in np.arange(0, len(y_test)):\n",
        "    diff = np.append(diff, np.abs(pred[i][0] - y_test[i]))"
      ],
      "execution_count": null,
      "outputs": []
    },
    {
      "cell_type": "code",
      "metadata": {
        "colab": {
          "base_uri": "https://localhost:8080/"
        },
        "id": "3HqzC3xQXgiE",
        "outputId": "4b9a976c-ab53-4afc-ffe2-be4213645703"
      },
      "source": [
        "np.sort(diff)[-10:-1]"
      ],
      "execution_count": null,
      "outputs": [
        {
          "output_type": "execute_result",
          "data": {
            "text/plain": [
              "array([ 7.92198944,  8.04927521,  8.20180817,  9.71830006, 10.01176453,\n",
              "       10.21260262, 11.05205803, 11.29321098, 13.75947094])"
            ]
          },
          "metadata": {},
          "execution_count": 64
        }
      ]
    },
    {
      "cell_type": "code",
      "metadata": {
        "colab": {
          "base_uri": "https://localhost:8080/"
        },
        "id": "hWmFLHe-WwW9",
        "outputId": "41cfe7c6-ce89-4f71-a7dd-1ae02f2c466d"
      },
      "source": [
        "vec"
      ],
      "execution_count": null,
      "outputs": [
        {
          "output_type": "execute_result",
          "data": {
            "text/plain": [
              "array([27.91351128, 33.07550812, 21.3854866 , 25.4525547 , 16.67088699,\n",
              "       16.38160515, 13.3341608 , 15.79588413, 17.44361687, 13.61918545,\n",
              "       24.72789001, 16.9605999 ,  9.55557442, 15.97763824, 16.39876556,\n",
              "       18.74794197, 19.6754303 , 13.03794956, 43.37545013, 16.04040146,\n",
              "       26.016222  , 24.72901344, 11.06046391, 22.37815666, 15.97453499,\n",
              "       14.32948017, 17.62802315, 11.41068172, 22.62134552, 11.9670248 ,\n",
              "       20.10204887, 23.49717712, 20.4578228 , 19.53672218, 13.87842751,\n",
              "       18.81546211, 35.05436707, 21.03286171, 23.1926136 , 24.57196999,\n",
              "        9.98169994, 27.11530495, 44.29902267, 17.55528069, 27.81745338,\n",
              "       16.82097244, 11.69877338, 26.42877388, 15.59602833, 31.92198944,\n",
              "       19.15568161, 37.01682281, 13.99448681, 22.71923637, 42.85811996,\n",
              "       15.02379513, 18.20618248, 28.73519897, 27.05946922, 13.18130302,\n",
              "       22.79491806, 33.96515656, 28.61517143, 11.99819183, 25.43289375,\n",
              "       19.16032982, 17.94096565, 23.98737907, 28.01028061, 11.35295963,\n",
              "       22.45922661, 19.27731133, 12.00252247, 22.87138176, 17.64752388,\n",
              "       12.67396164, 16.74463463, 42.35358429, 15.97426414, 18.29321098,\n",
              "       20.80076218, 13.45806503, 24.97687721, 14.03277111, 18.74677849,\n",
              "       29.3360405 , 14.80268955, 24.56784439, 21.52851677, 20.27270699,\n",
              "       24.29235649,  9.68027973, 20.02540779, 19.84350395, 21.83054733,\n",
              "       20.53770638, 20.63343239, 10.00868607, 11.79419613, 11.76287746,\n",
              "       23.67677116, 18.94888496, 12.50459099, 17.37217331, 22.66063881,\n",
              "       10.07009888, 14.85720539, 26.53055763, 23.40247917, 27.41062164,\n",
              "       10.52413368, 13.74052906, 24.94032097, 28.67728233, 30.50800514,\n",
              "       12.38422298, 41.53184509, 10.33890152, 13.75072479, 26.47442055,\n",
              "       14.6000452 , 24.8366394 , 12.37075043, 17.47122574, 29.80208015,\n",
              "       20.78035164, 24.41316414, 38.28240585, 21.05685806, 44.16746521,\n",
              "       15.79530525, 25.83873367, 15.31019115, 14.85842609, 17.1282177 ,\n",
              "       12.75443745, 23.02052879, 33.44628525, 31.93791962, 14.02405071,\n",
              "       14.02377701, 28.12505531, 21.48270607, 18.93318367, 11.57565594,\n",
              "       17.72767067, 27.01176453, 15.91560078, 13.03948498, 47.07569885,\n",
              "       12.63367653, 16.48509979, 30.19753838, 16.634552  , 24.01138115,\n",
              "       19.46397972, 11.73967552, 20.3904171 , 35.66584015, 15.21260262,\n",
              "       25.68037224, 15.02426434, 15.40154648, 23.28734016, 26.21948051,\n",
              "       18.69985962, 48.18405914])"
            ]
          },
          "metadata": {},
          "execution_count": 65
        }
      ]
    },
    {
      "cell_type": "code",
      "metadata": {
        "colab": {
          "base_uri": "https://localhost:8080/"
        },
        "id": "SkFxtp4TVZC7",
        "outputId": "2baafc31-56b0-4acb-872f-4a7723d01728"
      },
      "source": [
        "sorted = np.sort(pred, )\n",
        "sorted"
      ],
      "execution_count": null,
      "outputs": [
        {
          "output_type": "execute_result",
          "data": {
            "text/plain": [
              "array([[27.913511 ],\n",
              "       [33.07551  ],\n",
              "       [21.385487 ],\n",
              "       [25.452555 ],\n",
              "       [16.670887 ],\n",
              "       [16.381605 ],\n",
              "       [13.334161 ],\n",
              "       [15.795884 ],\n",
              "       [17.443617 ],\n",
              "       [13.619185 ],\n",
              "       [24.72789  ],\n",
              "       [16.9606   ],\n",
              "       [ 9.555574 ],\n",
              "       [15.977638 ],\n",
              "       [16.398766 ],\n",
              "       [18.747942 ],\n",
              "       [19.67543  ],\n",
              "       [13.03795  ],\n",
              "       [43.37545  ],\n",
              "       [16.040401 ],\n",
              "       [26.016222 ],\n",
              "       [24.729013 ],\n",
              "       [11.060464 ],\n",
              "       [22.378157 ],\n",
              "       [15.974535 ],\n",
              "       [14.32948  ],\n",
              "       [17.628023 ],\n",
              "       [11.410682 ],\n",
              "       [22.621346 ],\n",
              "       [11.967025 ],\n",
              "       [20.102049 ],\n",
              "       [23.497177 ],\n",
              "       [20.457823 ],\n",
              "       [19.536722 ],\n",
              "       [13.8784275],\n",
              "       [18.815462 ],\n",
              "       [35.054367 ],\n",
              "       [21.032862 ],\n",
              "       [23.192614 ],\n",
              "       [24.57197  ],\n",
              "       [ 9.9817   ],\n",
              "       [27.115305 ],\n",
              "       [44.299023 ],\n",
              "       [17.55528  ],\n",
              "       [27.817453 ],\n",
              "       [16.820972 ],\n",
              "       [11.698773 ],\n",
              "       [26.428774 ],\n",
              "       [15.596028 ],\n",
              "       [31.92199  ],\n",
              "       [19.155682 ],\n",
              "       [37.016823 ],\n",
              "       [13.994487 ],\n",
              "       [22.719236 ],\n",
              "       [42.85812  ],\n",
              "       [15.023795 ],\n",
              "       [18.206182 ],\n",
              "       [28.735199 ],\n",
              "       [27.05947  ],\n",
              "       [13.181303 ],\n",
              "       [22.794918 ],\n",
              "       [33.965157 ],\n",
              "       [28.615171 ],\n",
              "       [11.998192 ],\n",
              "       [25.432894 ],\n",
              "       [19.16033  ],\n",
              "       [17.940966 ],\n",
              "       [23.98738  ],\n",
              "       [28.01028  ],\n",
              "       [11.35296  ],\n",
              "       [22.459227 ],\n",
              "       [19.277311 ],\n",
              "       [12.002522 ],\n",
              "       [22.871382 ],\n",
              "       [17.647524 ],\n",
              "       [12.673962 ],\n",
              "       [16.744635 ],\n",
              "       [42.353584 ],\n",
              "       [15.974264 ],\n",
              "       [18.293211 ],\n",
              "       [20.800762 ],\n",
              "       [13.458065 ],\n",
              "       [24.976877 ],\n",
              "       [14.032771 ],\n",
              "       [18.746778 ],\n",
              "       [29.33604  ],\n",
              "       [14.80269  ],\n",
              "       [24.567844 ],\n",
              "       [21.528517 ],\n",
              "       [20.272707 ],\n",
              "       [24.292356 ],\n",
              "       [ 9.68028  ],\n",
              "       [20.025408 ],\n",
              "       [19.843504 ],\n",
              "       [21.830547 ],\n",
              "       [20.537706 ],\n",
              "       [20.633432 ],\n",
              "       [10.008686 ],\n",
              "       [11.794196 ],\n",
              "       [11.762877 ],\n",
              "       [23.676771 ],\n",
              "       [18.948885 ],\n",
              "       [12.504591 ],\n",
              "       [17.372173 ],\n",
              "       [22.660639 ],\n",
              "       [10.070099 ],\n",
              "       [14.857205 ],\n",
              "       [26.530558 ],\n",
              "       [23.40248  ],\n",
              "       [27.410622 ],\n",
              "       [10.524134 ],\n",
              "       [13.740529 ],\n",
              "       [24.940321 ],\n",
              "       [28.677282 ],\n",
              "       [30.508005 ],\n",
              "       [12.384223 ],\n",
              "       [41.531845 ],\n",
              "       [10.3389015],\n",
              "       [13.750725 ],\n",
              "       [26.47442  ],\n",
              "       [14.600045 ],\n",
              "       [24.83664  ],\n",
              "       [12.37075  ],\n",
              "       [17.471226 ],\n",
              "       [29.80208  ],\n",
              "       [20.780352 ],\n",
              "       [24.413164 ],\n",
              "       [38.282406 ],\n",
              "       [21.056858 ],\n",
              "       [44.167465 ],\n",
              "       [15.795305 ],\n",
              "       [25.838734 ],\n",
              "       [15.310191 ],\n",
              "       [14.858426 ],\n",
              "       [17.128218 ],\n",
              "       [12.754437 ],\n",
              "       [23.020529 ],\n",
              "       [33.446285 ],\n",
              "       [31.93792  ],\n",
              "       [14.024051 ],\n",
              "       [14.023777 ],\n",
              "       [28.125055 ],\n",
              "       [21.482706 ],\n",
              "       [18.933184 ],\n",
              "       [11.575656 ],\n",
              "       [17.72767  ],\n",
              "       [27.011765 ],\n",
              "       [15.915601 ],\n",
              "       [13.039485 ],\n",
              "       [47.0757   ],\n",
              "       [12.633677 ],\n",
              "       [16.4851   ],\n",
              "       [30.197538 ],\n",
              "       [16.634552 ],\n",
              "       [24.011381 ],\n",
              "       [19.46398  ],\n",
              "       [11.7396755],\n",
              "       [20.390417 ],\n",
              "       [35.66584  ],\n",
              "       [15.212603 ],\n",
              "       [25.680372 ],\n",
              "       [15.024264 ],\n",
              "       [15.4015465],\n",
              "       [23.28734  ],\n",
              "       [26.21948  ],\n",
              "       [18.69986  ],\n",
              "       [48.18406  ]], dtype=float32)"
            ]
          },
          "metadata": {},
          "execution_count": 66
        }
      ]
    },
    {
      "cell_type": "code",
      "metadata": {
        "colab": {
          "base_uri": "https://localhost:8080/"
        },
        "id": "RxuArD6ESdIZ",
        "outputId": "401cd3d1-69c2-46e0-b0bf-c19cfec41157"
      },
      "source": [
        "for i in np.arange(0, len(y_test)):\n",
        "    print(\"Предсказанная стоимость:\", pred[i][0], \", правильная стоимость:\", y_test[i], 'разница: ', np.abs(pred[i][0] - y_test[i]))"
      ],
      "execution_count": null,
      "outputs": [
        {
          "output_type": "stream",
          "name": "stdout",
          "text": [
            "Предсказанная стоимость: 27.913511 , правильная стоимость: 23.6 разница:  4.313511276245116\n",
            "Предсказанная стоимость: 33.07551 , правильная стоимость: 32.4 разница:  0.6755081176757827\n",
            "Предсказанная стоимость: 21.385487 , правильная стоимость: 13.6 разница:  7.7854866027832035\n",
            "Предсказанная стоимость: 25.452555 , правильная стоимость: 22.8 разница:  2.6525547027587884\n",
            "Предсказанная стоимость: 16.670887 , правильная стоимость: 16.1 разница:  0.5708869934082017\n",
            "Предсказанная стоимость: 16.381605 , правильная стоимость: 20.0 разница:  3.6183948516845703\n",
            "Предсказанная стоимость: 13.334161 , правильная стоимость: 17.8 разница:  4.4658391952514656\n",
            "Предсказанная стоимость: 15.795884 , правильная стоимость: 14.0 разница:  1.795884132385254\n",
            "Предсказанная стоимость: 17.443617 , правильная стоимость: 19.6 разница:  2.1563831329345717\n",
            "Предсказанная стоимость: 13.619185 , правильная стоимость: 16.8 разница:  3.1808145523071296\n",
            "Предсказанная стоимость: 24.72789 , правильная стоимость: 21.5 разница:  3.2278900146484375\n",
            "Предсказанная стоимость: 16.9606 , правильная стоимость: 18.9 разница:  1.9394001007080064\n",
            "Предсказанная стоимость: 9.555574 , правильная стоимость: 7.0 разница:  2.555574417114258\n",
            "Предсказанная стоимость: 15.977638 , правильная стоимость: 21.2 разница:  5.222361755371093\n",
            "Предсказанная стоимость: 16.398766 , правильная стоимость: 18.5 разница:  2.1012344360351562\n",
            "Предсказанная стоимость: 18.747942 , правильная стоимость: 29.8 разница:  11.052058029174805\n",
            "Предсказанная стоимость: 19.67543 , правильная стоимость: 18.8 разница:  0.8754302978515618\n",
            "Предсказанная стоимость: 13.03795 , правильная стоимость: 10.2 разница:  2.8379495620727546\n",
            "Предсказанная стоимость: 43.37545 , правильная стоимость: 50.0 разница:  6.624549865722656\n",
            "Предсказанная стоимость: 16.040401 , правильная стоимость: 14.1 разница:  1.9404014587402347\n",
            "Предсказанная стоимость: 26.016222 , правильная стоимость: 25.2 разница:  0.816222000122071\n",
            "Предсказанная стоимость: 24.729013 , правильная стоимость: 29.1 разница:  4.370986557006837\n",
            "Предсказанная стоимость: 11.060464 , правильная стоимость: 12.7 разница:  1.6395360946655266\n",
            "Предсказанная стоимость: 22.378157 , правильная стоимость: 22.4 разница:  0.02184333801269389\n",
            "Предсказанная стоимость: 15.974535 , правильная стоимость: 14.2 разница:  1.774534988403321\n",
            "Предсказанная стоимость: 14.32948 , правильная стоимость: 13.8 разница:  0.5294801712036126\n",
            "Предсказанная стоимость: 17.628023 , правильная стоимость: 20.3 разница:  2.671976852416993\n",
            "Предсказанная стоимость: 11.410682 , правильная стоимость: 14.9 разница:  3.4893182754516605\n",
            "Предсказанная стоимость: 22.621346 , правильная стоимость: 21.7 разница:  0.921345520019532\n",
            "Предсказанная стоимость: 11.967025 , правильная стоимость: 18.3 разница:  6.33297519683838\n",
            "Предсказанная стоимость: 20.102049 , правильная стоимость: 23.1 разница:  2.9979511260986342\n",
            "Предсказанная стоимость: 23.497177 , правильная стоимость: 23.8 разница:  0.3028228759765632\n",
            "Предсказанная стоимость: 20.457823 , правильная стоимость: 15.0 разница:  5.457822799682617\n",
            "Предсказанная стоимость: 19.536722 , правильная стоимость: 20.8 разница:  1.2632778167724616\n",
            "Предсказанная стоимость: 13.8784275 , правильная стоимость: 19.1 разница:  5.221572494506837\n",
            "Предсказанная стоимость: 18.815462 , правильная стоимость: 19.4 разница:  0.5845378875732408\n",
            "Предсказанная стоимость: 35.054367 , правильная стоимость: 34.7 разница:  0.35436706542968466\n",
            "Предсказанная стоимость: 21.032862 , правильная стоимость: 19.5 разница:  1.5328617095947266\n",
            "Предсказанная стоимость: 23.192614 , правильная стоимость: 24.4 разница:  1.2073863983154283\n",
            "Предсказанная стоимость: 24.57197 , правильная стоимость: 23.4 разница:  1.1719699859619155\n",
            "Предсказанная стоимость: 9.9817 , правильная стоимость: 19.7 разница:  9.718300056457519\n",
            "Предсказанная стоимость: 27.115305 , правильная стоимость: 28.2 разница:  1.0846950531005852\n",
            "Предсказанная стоимость: 44.299023 , правильная стоимость: 50.0 разница:  5.700977325439453\n",
            "Предсказанная стоимость: 17.55528 , правильная стоимость: 17.4 разница:  0.1552806854248061\n",
            "Предсказанная стоимость: 27.817453 , правильная стоимость: 22.6 разница:  5.217453384399413\n",
            "Предсказанная стоимость: 16.820972 , правильная стоимость: 15.1 разница:  1.7209724426269535\n",
            "Предсказанная стоимость: 11.698773 , правильная стоимость: 13.1 разница:  1.4012266159057614\n",
            "Предсказанная стоимость: 26.428774 , правильная стоимость: 24.2 разница:  2.2287738800048835\n",
            "Предсказанная стоимость: 15.596028 , правильная стоимость: 19.9 разница:  4.303971672058104\n",
            "Предсказанная стоимость: 31.92199 , правильная стоимость: 24.0 разница:  7.921989440917969\n",
            "Предсказанная стоимость: 19.155682 , правильная стоимость: 18.9 разница:  0.2556816101074233\n",
            "Предсказанная стоимость: 37.016823 , правильная стоимость: 35.4 разница:  1.6168228149414077\n",
            "Предсказанная стоимость: 13.994487 , правильная стоимость: 15.2 разница:  1.2055131912231438\n",
            "Предсказанная стоимость: 22.719236 , правильная стоимость: 26.5 разница:  3.780763626098633\n",
            "Предсказанная стоимость: 42.85812 , правильная стоимость: 43.5 разница:  0.6418800354003906\n",
            "Предсказанная стоимость: 15.023795 , правильная стоимость: 21.2 разница:  6.176204872131347\n",
            "Предсказанная стоимость: 18.206182 , правильная стоимость: 18.4 разница:  0.19381752014160014\n",
            "Предсказанная стоимость: 28.735199 , правильная стоимость: 28.5 разница:  0.235198974609375\n",
            "Предсказанная стоимость: 27.05947 , правильная стоимость: 23.9 разница:  3.1594692230224624\n",
            "Предсказанная стоимость: 13.181303 , правильная стоимость: 18.5 разница:  5.318696975708008\n",
            "Предсказанная стоимость: 22.794918 , правильная стоимость: 25.0 разница:  2.2050819396972656\n",
            "Предсказанная стоимость: 33.965157 , правильная стоимость: 35.4 разница:  1.4348434448242173\n",
            "Предсказанная стоимость: 28.615171 , правильная стоимость: 31.5 разница:  2.884828567504883\n",
            "Предсказанная стоимость: 11.998192 , правильная стоимость: 20.2 разница:  8.201808166503906\n",
            "Предсказанная стоимость: 25.432894 , правильная стоимость: 24.1 разница:  1.3328937530517564\n",
            "Предсказанная стоимость: 19.16033 , правильная стоимость: 20.0 разница:  0.8396701812744141\n",
            "Предсказанная стоимость: 17.940966 , правильная стоимость: 13.1 разница:  4.840965652465821\n",
            "Предсказанная стоимость: 23.98738 , правильная стоимость: 24.8 разница:  0.812620925903321\n",
            "Предсказанная стоимость: 28.01028 , правильная стоимость: 30.8 разница:  2.7897193908691413\n",
            "Предсказанная стоимость: 11.35296 , правильная стоимость: 12.7 разница:  1.3470403671264641\n",
            "Предсказанная стоимость: 22.459227 , правильная стоимость: 20.0 разница:  2.459226608276367\n",
            "Предсказанная стоимость: 19.277311 , правильная стоимость: 23.7 разница:  4.422688674926757\n",
            "Предсказанная стоимость: 12.002522 , правильная стоимость: 10.8 разница:  1.2025224685668938\n",
            "Предсказанная стоимость: 22.871382 , правильная стоимость: 20.6 разница:  2.2713817596435533\n",
            "Предсказанная стоимость: 17.647524 , правильная стоимость: 20.8 разница:  3.152476119995118\n",
            "Предсказанная стоимость: 12.673962 , правильная стоимость: 5.0 разница:  7.673961639404297\n",
            "Предсказанная стоимость: 16.744635 , правильная стоимость: 20.1 разница:  3.355365371704103\n",
            "Предсказанная стоимость: 42.353584 , правильная стоимость: 48.5 разница:  6.146415710449219\n",
            "Предсказанная стоимость: 15.974264 , правильная стоимость: 10.9 разница:  5.074264144897461\n",
            "Предсказанная стоимость: 18.293211 , правильная стоимость: 7.0 разница:  11.293210983276367\n",
            "Предсказанная стоимость: 20.800762 , правильная стоимость: 20.9 разница:  0.0992378234863267\n",
            "Предсказанная стоимость: 13.458065 , правильная стоимость: 17.2 разница:  3.741934967041015\n",
            "Предсказанная стоимость: 24.976877 , правильная стоимость: 20.9 разница:  4.0768772125244155\n",
            "Предсказанная стоимость: 14.032771 , правильная стоимость: 9.7 разница:  4.332771110534669\n",
            "Предсказанная стоимость: 18.746778 , правильная стоимость: 19.4 разница:  0.6532215118408189\n",
            "Предсказанная стоимость: 29.33604 , правильная стоимость: 29.0 разница:  0.3360404968261719\n",
            "Предсказанная стоимость: 14.80269 , правильная стоимость: 16.4 разница:  1.5973104476928697\n",
            "Предсказанная стоимость: 24.567844 , правильная стоимость: 25.0 разница:  0.4321556091308594\n",
            "Предсказанная стоимость: 21.528517 , правильная стоимость: 25.0 разница:  3.4714832305908203\n",
            "Предсказанная стоимость: 20.272707 , правильная стоимость: 17.1 разница:  3.1727069854736314\n",
            "Предсказанная стоимость: 24.292356 , правильная стоимость: 23.2 разница:  1.092356491088868\n",
            "Предсказанная стоимость: 9.68028 , правильная стоимость: 10.4 разница:  0.7197202682495121\n",
            "Предсказанная стоимость: 20.025408 , правильная стоимость: 19.6 разница:  0.4254077911376939\n",
            "Предсказанная стоимость: 19.843504 , правильная стоимость: 17.2 разница:  2.643503952026368\n",
            "Предсказанная стоимость: 21.830547 , правильная стоимость: 27.5 разница:  5.669452667236328\n",
            "Предсказанная стоимость: 20.537706 , правильная стоимость: 23.0 разница:  2.4622936248779297\n",
            "Предсказанная стоимость: 20.633432 , правильная стоимость: 50.0 разница:  29.366567611694336\n",
            "Предсказанная стоимость: 10.008686 , правильная стоимость: 17.9 разница:  7.8913139343261705\n",
            "Предсказанная стоимость: 11.794196 , правильная стоимость: 9.6 разница:  2.194196128845215\n",
            "Предсказанная стоимость: 11.762877 , правильная стоимость: 17.2 разница:  5.437122535705566\n",
            "Предсказанная стоимость: 23.676771 , правильная стоимость: 22.5 разница:  1.1767711639404297\n",
            "Предсказанная стоимость: 18.948885 , правильная стоимость: 21.4 разница:  2.4511150360107408\n",
            "Предсказанная стоимость: 12.504591 , правильная стоимость: 12.0 разница:  0.5045909881591797\n",
            "Предсказанная стоимость: 17.372173 , правильная стоимость: 19.9 разница:  2.5278266906738267\n",
            "Предсказанная стоимость: 22.660639 , правильная стоимость: 19.4 разница:  3.260638809204103\n",
            "Предсказанная стоимость: 10.070099 , правильная стоимость: 13.4 разница:  3.3299011230468754\n",
            "Предсказанная стоимость: 14.857205 , правильная стоимость: 18.2 разница:  3.3427946090698235\n",
            "Предсказанная стоимость: 26.530558 , правильная стоимость: 24.6 разница:  1.9305576324462876\n",
            "Предсказанная стоимость: 23.40248 , правильная стоимость: 21.1 разница:  2.3024791717529283\n",
            "Предсказанная стоимость: 27.410622 , правильная стоимость: 24.7 разница:  2.710621643066407\n",
            "Предсказанная стоимость: 10.524134 , правильная стоимость: 8.7 разница:  1.8241336822509773\n",
            "Предсказанная стоимость: 13.740529 , правильная стоимость: 27.5 разница:  13.75947093963623\n",
            "Предсказанная стоимость: 24.940321 , правильная стоимость: 20.7 разница:  4.24032096862793\n",
            "Предсказанная стоимость: 28.677282 , правильная стоимость: 36.2 разница:  7.522717666625979\n",
            "Предсказанная стоимость: 30.508005 , правильная стоимость: 31.6 разница:  1.0919948577880874\n",
            "Предсказанная стоимость: 12.384223 , правильная стоимость: 11.7 разница:  0.6842229843139656\n",
            "Предсказанная стоимость: 41.531845 , правильная стоимость: 39.8 разница:  1.7318450927734403\n",
            "Предсказанная стоимость: 10.3389015 , правильная стоимость: 13.9 разница:  3.5610984802246097\n",
            "Предсказанная стоимость: 13.750725 , правильная стоимость: 21.8 разница:  8.049275207519532\n",
            "Предсказанная стоимость: 26.47442 , правильная стоимость: 23.7 разница:  2.7744205474853523\n",
            "Предсказанная стоимость: 14.600045 , правильная стоимость: 17.6 разница:  2.9999547958374038\n",
            "Предсказанная стоимость: 24.83664 , правильная стоимость: 24.4 разница:  0.4366394042968764\n",
            "Предсказанная стоимость: 12.37075 , правильная стоимость: 8.8 разница:  3.570750427246093\n",
            "Предсказанная стоимость: 17.471226 , правильная стоимость: 19.2 разница:  1.7287742614746087\n",
            "Предсказанная стоимость: 29.80208 , правильная стоимость: 25.3 разница:  4.502080154418945\n",
            "Предсказанная стоимость: 20.780352 , правильная стоимость: 20.4 разница:  0.38035163879394673\n",
            "Предсказанная стоимость: 24.413164 , правильная стоимость: 23.1 разница:  1.313164138793944\n",
            "Предсказанная стоимость: 38.282406 , правильная стоимость: 37.9 разница:  0.3824058532714858\n",
            "Предсказанная стоимость: 21.056858 , правильная стоимость: 15.6 разница:  5.456858062744141\n",
            "Предсказанная стоимость: 44.167465 , правильная стоимость: 45.4 разница:  1.232534790039061\n",
            "Предсказанная стоимость: 15.795305 , правильная стоимость: 15.7 разница:  0.09530525207519602\n",
            "Предсказанная стоимость: 25.838734 , правильная стоимость: 22.6 разница:  3.2387336730957017\n",
            "Предсказанная стоимость: 15.310191 , правильная стоимость: 14.5 разница:  0.8101911544799805\n",
            "Предсказанная стоимость: 14.858426 , правильная стоимость: 18.7 разница:  3.8415739059448235\n",
            "Предсказанная стоимость: 17.128218 , правильная стоимость: 17.8 разница:  0.671782302856446\n",
            "Предсказанная стоимость: 12.754437 , правильная стоимость: 16.1 разница:  3.345562553405763\n",
            "Предсказанная стоимость: 23.020529 , правильная стоимость: 20.6 разница:  2.4205287933349595\n",
            "Предсказанная стоимость: 33.446285 , правильная стоимость: 31.6 разница:  1.846285247802733\n",
            "Предсказанная стоимость: 31.93792 , правильная стоимость: 29.1 разница:  2.8379196166992173\n",
            "Предсказанная стоимость: 14.024051 , правильная стоимость: 15.6 разница:  1.5759492874145504\n",
            "Предсказанная стоимость: 14.023777 , правильная стоимость: 17.5 разница:  3.4762229919433594\n",
            "Предсказанная стоимость: 28.125055 , правильная стоимость: 22.5 разница:  5.625055313110352\n",
            "Предсказанная стоимость: 21.482706 , правильная стоимость: 19.4 разница:  2.0827060699462905\n",
            "Предсказанная стоимость: 18.933184 , правильная стоимость: 19.3 разница:  0.3668163299560554\n",
            "Предсказанная стоимость: 11.575656 , правильная стоимость: 8.5 разница:  3.075655937194824\n",
            "Предсказанная стоимость: 17.72767 , правильная стоимость: 20.6 разница:  2.8723293304443374\n",
            "Предсказанная стоимость: 27.011765 , правильная стоимость: 17.0 разница:  10.011764526367188\n",
            "Предсказанная стоимость: 15.915601 , правильная стоимость: 17.1 разница:  1.1843992233276381\n",
            "Предсказанная стоимость: 13.039485 , правильная стоимость: 14.5 разница:  1.460515022277832\n",
            "Предсказанная стоимость: 47.0757 , правильная стоимость: 50.0 разница:  2.9243011474609375\n",
            "Предсказанная стоимость: 12.633677 , правильная стоимость: 14.3 разница:  1.6663234710693366\n",
            "Предсказанная стоимость: 16.4851 , правильная стоимость: 12.6 разница:  3.885099792480469\n",
            "Предсказанная стоимость: 30.197538 , правильная стоимость: 28.7 разница:  1.497538375854493\n",
            "Предсказанная стоимость: 16.634552 , правильная стоимость: 21.2 разница:  4.565447998046874\n",
            "Предсказанная стоимость: 24.011381 , правильная стоимость: 19.3 разница:  4.7113811492919915\n",
            "Предсказанная стоимость: 19.46398 , правильная стоимость: 23.1 разница:  3.6360202789306655\n",
            "Предсказанная стоимость: 11.7396755 , правильная стоимость: 19.1 разница:  7.3603244781494155\n",
            "Предсказанная стоимость: 20.390417 , правильная стоимость: 25.0 разница:  4.609582901000977\n",
            "Предсказанная стоимость: 35.66584 , правильная стоимость: 33.4 разница:  2.2658401489257827\n",
            "Предсказанная стоимость: 15.212603 , правильная стоимость: 5.0 разница:  10.212602615356445\n",
            "Предсказанная стоимость: 25.680372 , правильная стоимость: 29.6 разница:  3.9196277618408217\n",
            "Предсказанная стоимость: 15.024264 , правильная стоимость: 18.7 разница:  3.675735664367675\n",
            "Предсказанная стоимость: 15.4015465 , правильная стоимость: 21.7 разница:  6.298453521728515\n",
            "Предсказанная стоимость: 23.28734 , правильная стоимость: 23.1 разница:  0.1873401641845689\n",
            "Предсказанная стоимость: 26.21948 , правильная стоимость: 22.8 разница:  3.4194805145263665\n",
            "Предсказанная стоимость: 18.69986 , правильная стоимость: 21.0 разница:  2.300140380859375\n",
            "Предсказанная стоимость: 48.18406 , правильная стоимость: 48.8 разница:  0.6159408569335909\n"
          ]
        }
      ]
    }
  ]
}