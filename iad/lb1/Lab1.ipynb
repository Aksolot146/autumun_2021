{
  "nbformat": 4,
  "nbformat_minor": 0,
  "metadata": {
    "colab": {
      "name": "Lab1",
      "provenance": [],
      "collapsed_sections": []
    },
    "kernelspec": {
      "name": "python3",
      "display_name": "Python 3"
    }
  },
  "cells": [
    {
      "cell_type": "markdown",
      "metadata": {
        "id": "UjfquuN3HkHt"
      },
      "source": [
        " Открытие ресторана\n",
        "\n",
        "\n",
        "\n",
        "Чтобы запускать и редактировать код, сохраните копию этого ноутбука себе (File->Save a copy in Drive...). Свою копию вы сможете изменять и запускать."
      ]
    },
    {
      "cell_type": "markdown",
      "metadata": {
        "id": "odarYuL2PB77"
      },
      "source": [
        ""
      ]
    },
    {
      "cell_type": "code",
      "metadata": {
        "id": "BghlkB57UO5V"
      },
      "source": [
        "from google.colab import drive\n",
        "drive.mount('/content/drive', force_remount=True)"
      ],
      "execution_count": null,
      "outputs": []
    },
    {
      "cell_type": "code",
      "metadata": {
        "id": "mPHie3NfH1Y8"
      },
      "source": [
        "!ls \"/content/drive/My Drive/\""
      ],
      "execution_count": null,
      "outputs": []
    },
    {
      "cell_type": "markdown",
      "metadata": {
        "id": "xa_lsLuFPFKx"
      },
      "source": [
        "Загрузка данных с Google Drive"
      ]
    },
    {
      "cell_type": "code",
      "metadata": {
        "id": "wu0unfeqvCm2"
      },
      "source": [
        "import pandas as pd\n",
        "data = pd.read_csv(\"/content/drive/My Drive/train.csv\")"
      ],
      "execution_count": null,
      "outputs": []
    },
    {
      "cell_type": "markdown",
      "metadata": {
        "id": "Zj_40T3MPJ4Z"
      },
      "source": [
        "Отображение загруженных данных"
      ]
    },
    {
      "cell_type": "code",
      "metadata": {
        "id": "ZrHEYoUAvOme"
      },
      "source": [
        "data"
      ],
      "execution_count": null,
      "outputs": []
    },
    {
      "cell_type": "code",
      "metadata": {
        "id": "4fqTNDY6a1iT"
      },
      "source": [
        "ydata =  data.iloc[:, 42]"
      ],
      "execution_count": null,
      "outputs": []
    },
    {
      "cell_type": "markdown",
      "metadata": {
        "id": "l3LohU1cP9os"
      },
      "source": [
        "Удаление столбца ID из набора данных"
      ]
    },
    {
      "cell_type": "code",
      "metadata": {
        "id": "xcM157UEPtpD"
      },
      "source": [
        "features = data.drop(columns=['Id', 'Open Date','revenue'])"
      ],
      "execution_count": null,
      "outputs": []
    },
    {
      "cell_type": "code",
      "metadata": {
        "id": "LH2gJFBdP5YW"
      },
      "source": [
        "features"
      ],
      "execution_count": null,
      "outputs": []
    },
    {
      "cell_type": "code",
      "metadata": {
        "id": "iVNZbkBzyZ-p"
      },
      "source": [
        "subdata = data.iloc[:, 2:5]"
      ],
      "execution_count": null,
      "outputs": []
    },
    {
      "cell_type": "code",
      "metadata": {
        "id": "p00xAZoIzVAW"
      },
      "source": [
        "subdata"
      ],
      "execution_count": null,
      "outputs": []
    },
    {
      "cell_type": "code",
      "metadata": {
        "id": "OZRD1Hq2zj8M"
      },
      "source": [
        "from sklearn import preprocessing\n",
        "le = preprocessing.LabelEncoder()\n",
        "subdata_encoded = subdata.apply(le.fit_transform)"
      ],
      "execution_count": null,
      "outputs": []
    },
    {
      "cell_type": "code",
      "metadata": {
        "id": "xDaUFcNa0iQ_"
      },
      "source": [
        "subdata_encoded"
      ],
      "execution_count": null,
      "outputs": []
    },
    {
      "cell_type": "code",
      "metadata": {
        "id": "5DITeLFK0iJK"
      },
      "source": [
        "subdata_2 = data.iloc[:, 5:42]"
      ],
      "execution_count": null,
      "outputs": []
    },
    {
      "cell_type": "code",
      "metadata": {
        "id": "YoisZPq21sC_"
      },
      "source": [
        "subdata_2"
      ],
      "execution_count": null,
      "outputs": []
    },
    {
      "cell_type": "code",
      "metadata": {
        "id": "7OVcAvtJ3msq"
      },
      "source": [
        "subdata_encoded.reset_index(drop=True, inplace=True)\n",
        "subdata_2.reset_index(drop=True, inplace=True)"
      ],
      "execution_count": null,
      "outputs": []
    },
    {
      "cell_type": "code",
      "metadata": {
        "id": "Qll18MjP4ufx"
      },
      "source": [
        "data_2 = pd.concat([subdata_encoded, subdata_2], axis =1)"
      ],
      "execution_count": null,
      "outputs": []
    },
    {
      "cell_type": "code",
      "metadata": {
        "id": "pcUyREij45E8"
      },
      "source": [
        "data_2"
      ],
      "execution_count": null,
      "outputs": []
    },
    {
      "cell_type": "markdown",
      "metadata": {
        "id": "jjzu0reT5D5Z"
      },
      "source": [
        "Нормировка данных так, чтобы среднее = 0, стандартное отклонение = 1"
      ]
    },
    {
      "cell_type": "code",
      "metadata": {
        "id": "9cmGLPLlx1aA"
      },
      "source": [
        "# Среднее значение\n",
        "mymean = data_2.mean(axis=0)\n",
        "# Стандартное отклонение\n",
        "mystd = data_2.std(axis=0)\n",
        "data_2 -= mymean\n",
        "data_2 /= mystd"
      ],
      "execution_count": null,
      "outputs": []
    },
    {
      "cell_type": "code",
      "metadata": {
        "id": "0W0cH1fVx9je"
      },
      "source": [
        "data_2"
      ],
      "execution_count": null,
      "outputs": []
    },
    {
      "cell_type": "code",
      "metadata": {
        "id": "tQoe75Tc3uPI"
      },
      "source": [
        "data_2.describe()"
      ],
      "execution_count": null,
      "outputs": []
    },
    {
      "cell_type": "code",
      "metadata": {
        "id": "0JOTEyH31R-s"
      },
      "source": [
        "import numpy as np\n",
        "from sklearn.model_selection import train_test_split"
      ],
      "execution_count": null,
      "outputs": []
    },
    {
      "cell_type": "code",
      "metadata": {
        "id": "oUnIGLqv1Zw2"
      },
      "source": [
        "X_train, X_test, y_train, y_test = train_test_split(data_2, ydata, test_size=0.33, random_state=42)"
      ],
      "execution_count": null,
      "outputs": []
    },
    {
      "cell_type": "code",
      "metadata": {
        "id": "YP5iHwnP690F"
      },
      "source": [
        "!pip install -q -U keras-tuner\n"
      ],
      "execution_count": null,
      "outputs": []
    },
    {
      "cell_type": "code",
      "metadata": {
        "id": "zJKwSE-w6-fy"
      },
      "source": [
        "%tensorflow_version 2.x\n",
        "from tensorflow.keras.models import Sequential\n",
        "from tensorflow.keras.layers import Dense\n",
        "from tensorflow.keras.layers import Dropout\n",
        "from tensorflow.keras import utils\n",
        "from google.colab import files\n",
        "from kerastuner.tuners import RandomSearch, Hyperband, BayesianOptimization\n",
        "import numpy as np"
      ],
      "execution_count": null,
      "outputs": []
    },
    {
      "cell_type": "code",
      "metadata": {
        "id": "nFuRCHfD-cKx"
      },
      "source": [
        "def build_model(hp):\n",
        "  model = Sequential()\n",
        "\n",
        "  model.add(Dense(units=hp.Int('units_input', # Полносвязный слой с разным количеством нейронов\n",
        "    min_value=128, # минимальное количество нейронов - 128\n",
        "    max_value=1024, # максимальное количество - 1024\n",
        "    step=32), input_shape=(X_train.shape[1],), activation='relu'))\n",
        "  \n",
        "  model.add(Dense(1))\n",
        "\n",
        "  model.compile(optimizer=\"adam\", loss='mse', metrics=['mae'])\n",
        "  \n",
        "  return model"
      ],
      "execution_count": null,
      "outputs": []
    },
    {
      "cell_type": "code",
      "metadata": {
        "id": "pf9I9Kn8-dU1"
      },
      "source": [
        "rm -Rf /content/test_directory"
      ],
      "execution_count": null,
      "outputs": []
    },
    {
      "cell_type": "code",
      "metadata": {
        "id": "hgCO23t7-gn3"
      },
      "source": [
        "tuner = RandomSearch(\n",
        "  build_model, # функция создания модели\n",
        "  objective='val_mae', # метрика, которую нужно оптимизировать   доля правильных ответов на проверочном наборе данных\n",
        "  max_trials=5, # максимальное количество запусков обучения\n",
        "  directory='test_directory' # каталог, куда сохраняются обученные сети\n",
        ")"
      ],
      "execution_count": null,
      "outputs": []
    },
    {
      "cell_type": "code",
      "metadata": {
        "id": "ObK9cRuv-iJ-"
      },
      "source": [
        "tuner.search_space_summary()"
      ],
      "execution_count": null,
      "outputs": []
    },
    {
      "cell_type": "code",
      "metadata": {
        "id": "lrj2f4VA-kxA"
      },
      "source": [
        "tuner.search(X_train, # Данные для обучения\n",
        "             y_train, # Данные для обучения\n",
        "             batch_size=32, # Размер мини-выборки\n",
        "             epochs=10, # Количество эпох обучения\n",
        "             validation_split=0.2, # Часть данных, которая будет использоваться для проверки\n",
        "            verbose=1,)"
      ],
      "execution_count": null,
      "outputs": []
    },
    {
      "cell_type": "code",
      "metadata": {
        "id": "hMrRg6hT-sei"
      },
      "source": [
        "tuner.results_summary()\n"
      ],
      "execution_count": null,
      "outputs": []
    },
    {
      "cell_type": "code",
      "metadata": {
        "id": "weUckEOR-y16"
      },
      "source": [
        "models = tuner.get_best_models(num_models=3)\n"
      ],
      "execution_count": null,
      "outputs": []
    },
    {
      "cell_type": "code",
      "metadata": {
        "id": "BCSrqYcs-1P6"
      },
      "source": [
        "for model in models:\n",
        "  model.summary()\n",
        "  model.evaluate(X_test, y_test)\n",
        "  print() \n"
      ],
      "execution_count": null,
      "outputs": []
    },
    {
      "cell_type": "code",
      "metadata": {
        "id": "0jIH8l5H-4ws"
      },
      "source": [
        "def build_model2(hp):\n",
        "  model = Sequential()\n",
        "\n",
        "  model.add(Dense(units=hp.Int('units_input', # Полносвязный слой с разным количеством нейронов\n",
        "    min_value=512, # минимальное кол ичество нейронов - 128\n",
        "    max_value=1024, # максимальное количество - 1024\n",
        "    step=32), input_shape=(X_train.shape[1],), activation='relu'))\n",
        "  \n",
        "  model.add(Dense(units=hp.Int('units_hidden', min_value=128, max_value=600, step=32), activation='relu'))\n",
        "  \n",
        "  model.add(Dense(1))\n",
        "\n",
        "  model.compile(optimizer=\"adam\", loss='mse', metrics=['mae'])\n",
        "  return model"
      ],
      "execution_count": null,
      "outputs": []
    },
    {
      "cell_type": "code",
      "metadata": {
        "id": "znBzb9R_-55N"
      },
      "source": [
        "rm -Rf /content/test_directory2"
      ],
      "execution_count": null,
      "outputs": []
    },
    {
      "cell_type": "code",
      "metadata": {
        "id": "y5AUg60A-889"
      },
      "source": [
        "tuner2 = BayesianOptimization(\n",
        "  build_model2, # функция создания модели\n",
        "  objective ='val_mae', # метрика, которую нужно оптимизировать\n",
        "  max_trials = 5, # максимальное количество запусков обучения\n",
        "  directory ='test_directory2' # каталог, куда сохраняются обученные сети\n",
        ")"
      ],
      "execution_count": null,
      "outputs": []
    },
    {
      "cell_type": "code",
      "metadata": {
        "id": "QUgUsjcj-_Ey"
      },
      "source": [
        "tuner2.search_space_summary()"
      ],
      "execution_count": null,
      "outputs": []
    },
    {
      "cell_type": "code",
      "metadata": {
        "id": "17yuktpe_BgX"
      },
      "source": [
        "tuner2.search(X_train, # Данные для обучения\n",
        "             y_train, # Данные для обучения\n",
        "             batch_size=32, # Размер мини-выборки\n",
        "             epochs=10, # Количество эпох обучения\n",
        "             validation_split=0.2, # Часть данных, которая будет использоваться для проверки\n",
        "            verbose=1,)"
      ],
      "execution_count": null,
      "outputs": []
    },
    {
      "cell_type": "code",
      "metadata": {
        "id": "_MXw8xJ2AWwp"
      },
      "source": [
        "tuner2.results_summary()"
      ],
      "execution_count": null,
      "outputs": []
    },
    {
      "cell_type": "code",
      "metadata": {
        "id": "O4potJzwAb7S"
      },
      "source": [
        "models2 = tuner2.get_best_models(num_models=3)"
      ],
      "execution_count": null,
      "outputs": []
    },
    {
      "cell_type": "code",
      "metadata": {
        "id": "RGXhRJGfAeE_"
      },
      "source": [
        "for model in models2:\n",
        "  model.summary()\n",
        "  model.evaluate(X_test, y_test)\n",
        "  print()  "
      ],
      "execution_count": null,
      "outputs": []
    },
    {
      "cell_type": "code",
      "metadata": {
        "id": "l8ddmeNkAfty"
      },
      "source": [
        "def build_model3(hp):\n",
        "  model = Sequential()\n",
        "\n",
        "  activation_choice = hp.Choice('activation', values=['relu', 'sigmoid', 'tanh', 'elu', 'selu'])\n",
        "\n",
        "  model.add(Dense(units=hp.Int('units_input', # Полносвязный слой с разным количеством нейронов\n",
        "                               min_value=512, # минимальное количество нейронов - 128\n",
        "                               max_value=1024, # максимальное количество - 1024\n",
        "                               step=32), input_shape=(X_train.shape[1],), activation=activation_choice))\n",
        "  \n",
        "  model.add(Dense(units=hp.Int('units_hidden', min_value=128, max_value=600, step=32), activation=activation_choice))\n",
        "  \n",
        "  model.add(Dense(1))\n",
        "\n",
        "  model.compile(optimizer=hp.Choice('optimizer', values=['adam','rmsprop','SGD']), loss='mse', metrics=['mae'])\n",
        "\n",
        "  return model"
      ],
      "execution_count": null,
      "outputs": []
    },
    {
      "cell_type": "code",
      "metadata": {
        "id": "ovsVm63aAm4S"
      },
      "source": [
        "rm -Rf /content/test_directory3"
      ],
      "execution_count": null,
      "outputs": []
    },
    {
      "cell_type": "code",
      "metadata": {
        "id": "RWz84GmGAotS"
      },
      "source": [
        "tuner3 = BayesianOptimization(\n",
        "  build_model3, # функция создания модели\n",
        "  objective ='val_mae', # метрика, которую нужно оптимизировать\n",
        "  max_trials = 5, # максимальное количество запусков обучения\n",
        "  directory ='test_directory3' # каталог, куда сохраняются обученные сети\n",
        ")"
      ],
      "execution_count": null,
      "outputs": []
    },
    {
      "cell_type": "code",
      "metadata": {
        "id": "jWkQ8zGNAqpO"
      },
      "source": [
        "!free -h"
      ],
      "execution_count": null,
      "outputs": []
    },
    {
      "cell_type": "code",
      "metadata": {
        "id": "ouZGzLWFAsp-"
      },
      "source": [
        "tuner3.search_space_summary()"
      ],
      "execution_count": null,
      "outputs": []
    },
    {
      "cell_type": "code",
      "metadata": {
        "id": "mhYxm1jsAud6"
      },
      "source": [
        "tuner3.search(X_train, # Данные для обучения\n",
        "             y_train, # Данные для обучения\n",
        "             batch_size=32, # Размер мини-выборки\n",
        "             epochs=10, # Количество эпох обучения\n",
        "             validation_split=0.2, # Часть данных, которая будет использоваться для проверки\n",
        "            verbose=1,)"
      ],
      "execution_count": null,
      "outputs": []
    },
    {
      "cell_type": "code",
      "metadata": {
        "id": "bldxVoUNAxHC"
      },
      "source": [
        "tuner3.results_summary()"
      ],
      "execution_count": null,
      "outputs": []
    },
    {
      "cell_type": "code",
      "metadata": {
        "id": "_0gii6WXAyy-"
      },
      "source": [
        "models3 = tuner3.get_best_models(num_models=3)"
      ],
      "execution_count": null,
      "outputs": []
    },
    {
      "cell_type": "code",
      "metadata": {
        "id": "aIzntwvdA1TM"
      },
      "source": [
        "for model in models3:\n",
        "  model.summary()\n",
        "  model.evaluate(X_test, y_test)\n",
        "  print() "
      ],
      "execution_count": null,
      "outputs": []
    },
    {
      "cell_type": "code",
      "metadata": {
        "id": "lrQk6N7iA3Yl"
      },
      "source": [
        "vdef build_model4(hp):\n",
        "\n",
        "  model = Sequential()\n",
        "\n",
        "  activation_choice = hp.Choice(\"activation\", values=['relu', 'selu', 'elu'])\n",
        "  \n",
        "  model.add(Dense(units=hp.Int(\"units_input\", min_value=32,\n",
        "                               max_value=1024,\n",
        "                               step=32),\n",
        "                  activation=activation_choice, \n",
        "                  input_shape=(X_train.shape[1], )))\n",
        "  \n",
        "  model.add(Dropout(0.3))\n",
        "\n",
        "  for i in range(hp.Choice('hidden_layers', values=[1,2,3])):\n",
        "    model.add(Dense(units=hp.Int(f'layer_{i}_units_',\n",
        "                                 min_value=32//(i+1),\n",
        "                                 max_value=512//(i+1), \n",
        "                                 step=64//(i+1)),\n",
        "                     activation=activation_choice))\n",
        "  \n",
        "  model.add(Dense(1))\n",
        "\n",
        "  model.compile(optimizer=hp.Choice('optimizer', values=['adam','rmsprop','SGD']), loss='mse', metrics=['mae'])\n",
        "\n",
        "  model.summary()\n",
        "  return model"
      ],
      "execution_count": null,
      "outputs": []
    },
    {
      "cell_type": "code",
      "metadata": {
        "id": "458gDf2tA6eX"
      },
      "source": [
        "tuner4 = BayesianOptimization(\n",
        "  build_model4, # функция создания модели\n",
        "  objective ='val_mae', # метрика, которую нужно оптимизировать\n",
        "  max_trials = 5, # максимальное количество запусков обучения\n",
        "  directory ='test_directory5' # каталог, куда сохраняются обученные сети\n",
        ")"
      ],
      "execution_count": null,
      "outputs": []
    },
    {
      "cell_type": "code",
      "metadata": {
        "id": "cvNQdpj4A8pE"
      },
      "source": [
        "tuner4.search_space_summary()"
      ],
      "execution_count": null,
      "outputs": []
    },
    {
      "cell_type": "code",
      "metadata": {
        "id": "oWmkGSAlA-9j"
      },
      "source": [
        "tuner4.search(X_train, # Данные для обучения\n",
        "             y_train, # Данные для обучения\n",
        "             batch_size=32, # Размер мини-выборки\n",
        "             epochs=10, # Количество эпох обучения\n",
        "             validation_split=0.2, # Часть данных, которая будет использоваться для проверки\n",
        "            verbose=1,)"
      ],
      "execution_count": null,
      "outputs": []
    },
    {
      "cell_type": "code",
      "metadata": {
        "id": "12Yvk0s8BBTL"
      },
      "source": [
        "tuner4.results_summary()"
      ],
      "execution_count": null,
      "outputs": []
    },
    {
      "cell_type": "code",
      "metadata": {
        "id": "Jd4zFsaQBDIm"
      },
      "source": [
        "models4 = tuner4.get_best_models(num_models=3)"
      ],
      "execution_count": null,
      "outputs": []
    },
    {
      "cell_type": "code",
      "metadata": {
        "id": "oFP_0cx5BFOw"
      },
      "source": [
        "for model in models4:\n",
        "  model.summary()\n",
        "  model.evaluate(X_test, y_test)\n",
        "  print() "
      ],
      "execution_count": null,
      "outputs": []
    },
    {
      "cell_type": "code",
      "metadata": {
        "id": "Dd0fwhjmBG9t"
      },
      "source": [
        "best_params = tuner4.get_best_hyperparameters()[0]\n",
        "best_model = tuner4.hypermodel.build(best_params)\n",
        "best_model.summary()"
      ],
      "execution_count": null,
      "outputs": []
    },
    {
      "cell_type": "code",
      "metadata": {
        "id": "Pjh9j4_JBJLa"
      },
      "source": [
        "best_model.fit(X_train, y_train, epochs=10, batch_size=32, validation_split=0.2)"
      ],
      "execution_count": null,
      "outputs": []
    },
    {
      "cell_type": "code",
      "metadata": {
        "id": "n1rVB7QqBMPN"
      },
      "source": [
        "#Корреляция новой модели \n",
        "predicted_y_tuner = best_model.predict(X_test)\n",
        "predicted_y_tuner = np.round(predicted_y_tuner, 0)\n",
        "\n",
        "predicted_y_tuner = np.reshape(predicted_y_tuner, (predicted_y_tuner.shape[0]))\n",
        "\n",
        "СС_tuner = np.corrcoef(predicted_y_tuner, y_test)\n",
        "СС_tuner = СС_tuner[0][1]\n",
        "print(f'Коэффициент корреляции с истинными данными: {СС_tuner}')"
      ],
      "execution_count": null,
      "outputs": []
    },
    {
      "cell_type": "code",
      "metadata": {
        "id": "nFSjxVAMBUU3"
      },
      "source": [
        "from matplotlib import pyplot as plt\n",
        "y_test = y_test.reset_index(drop=True)\n",
        "\n",
        "x = np.arange(0, len(y_test))\n",
        "\n",
        "plt.bar(x, y_test, label = 'True')\n",
        "plt.bar(x, predicted_y_tuner, label = 'Pred')\n",
        "plt.legend()"
      ],
      "execution_count": null,
      "outputs": []
    },
    {
      "cell_type": "code",
      "metadata": {
        "id": "6odvh-d0BpE4"
      },
      "source": [
        "from tensorflow.python.keras.models import Sequential\n",
        "from tensorflow.python.keras.layers import Dense\n"
      ],
      "execution_count": null,
      "outputs": []
    },
    {
      "cell_type": "code",
      "metadata": {
        "id": "9m8S1DLNBpmb"
      },
      "source": [
        "model = Sequential()\n",
        "#model.add(Dense(16384, activation='relu', input_shape=(X_train.shape[1],)))\n",
        "#model.add(Dense(8192, activation='relu', input_shape=(X_train.shape[1],)))\n",
        "model.add(Dense(4096, activation='relu', input_shape=(X_train.shape[1],)))\n",
        "model.add(Dense(2048, activation='relu'))\n",
        "model.add(Dense(1024, activation='relu'))\n",
        "model.add(Dense(512, activation='relu'))\n",
        "model.add(Dense(256, activation='relu'))\n",
        "model.add(Dense(128, activation='relu'))\n",
        "model.add(Dense(64, activation='relu'))\n",
        "model.add(Dense(32, activation='relu'))\n",
        "model.add(Dense(1))\n"
      ],
      "execution_count": null,
      "outputs": []
    },
    {
      "cell_type": "code",
      "metadata": {
        "id": "5MHKK-AGBtMA"
      },
      "source": [
        "print(model.summary())\n"
      ],
      "execution_count": null,
      "outputs": []
    },
    {
      "cell_type": "code",
      "metadata": {
        "id": "WpFxoaEGM-c0"
      },
      "source": [
        "model.compile(optimizer='adam', loss='mse', metrics=['mae'])"
      ],
      "execution_count": null,
      "outputs": []
    },
    {
      "cell_type": "code",
      "metadata": {
        "id": "FvzXR_FNNDYR"
      },
      "source": [
        "model.fit(X_train, y_train, epochs=10, batch_size=32, validation_split=0.2, verbose=1)"
      ],
      "execution_count": null,
      "outputs": []
    },
    {
      "cell_type": "code",
      "metadata": {
        "id": "9Qldv-S7NDiI"
      },
      "source": [
        "print(model.summary())"
      ],
      "execution_count": null,
      "outputs": []
    },
    {
      "cell_type": "code",
      "metadata": {
        "id": "bV3eQExON8Oy"
      },
      "source": [
        "pred = model.predict(X_test)"
      ],
      "execution_count": null,
      "outputs": []
    },
    {
      "cell_type": "code",
      "metadata": {
        "id": "2_qESKOAB66R"
      },
      "source": [
        "print(pred)"
      ],
      "execution_count": null,
      "outputs": []
    },
    {
      "cell_type": "code",
      "metadata": {
        "id": "E2PXC83kSJSq"
      },
      "source": [
        "y_test = y_test.reset_index(drop=True)"
      ],
      "execution_count": null,
      "outputs": []
    },
    {
      "cell_type": "code",
      "metadata": {
        "id": "l9k1HW-nO0a_"
      },
      "source": [
        "print(\"Предсказанный доход:\", pred[12][0], \", правильный доход:\", y_test[12])"
      ],
      "execution_count": null,
      "outputs": []
    },
    {
      "cell_type": "code",
      "metadata": {
        "id": "36TYgu-FVymU"
      },
      "source": [
        "vec = np.array([])\n",
        "for i in np.arange(0, len(pred)):\n",
        "  vec = np.append(vec, pred[i][0])\n",
        "vec  "
      ],
      "execution_count": null,
      "outputs": []
    },
    {
      "cell_type": "code",
      "metadata": {
        "id": "q1zE064xXX2H"
      },
      "source": [
        "diff = np.array([])\n",
        "\n",
        "for i in np.arange(0, len(y_test)):\n",
        "    diff = np.append(diff, np.abs(pred[i][0] - y_test[i]))"
      ],
      "execution_count": null,
      "outputs": []
    },
    {
      "cell_type": "code",
      "metadata": {
        "id": "3HqzC3xQXgiE"
      },
      "source": [
        "np.sort(diff)[-10:-1]"
      ],
      "execution_count": null,
      "outputs": []
    },
    {
      "cell_type": "code",
      "metadata": {
        "id": "hWmFLHe-WwW9"
      },
      "source": [
        "vec"
      ],
      "execution_count": null,
      "outputs": []
    },
    {
      "cell_type": "code",
      "metadata": {
        "id": "SkFxtp4TVZC7"
      },
      "source": [
        "sorted = np.sort(pred, )\n",
        "sorted"
      ],
      "execution_count": null,
      "outputs": []
    },
    {
      "cell_type": "code",
      "metadata": {
        "id": "RxuArD6ESdIZ"
      },
      "source": [
        "for i in np.arange(0, len(y_test)):\n",
        "    print(\"Предсказанный доход:\", pred[i][0], \", правильный доход:\", y_test[i], 'разница: ', np.abs(pred[i][0] - y_test[i]))"
      ],
      "execution_count": null,
      "outputs": []
    },
    {
      "cell_type": "code",
      "metadata": {
        "id": "QXuN8Quz4mcN"
      },
      "source": [
        "СС_tuner = np.corrcoef(vec, y_test)\n",
        "СС_tuner = СС_tuner[0][1]\n",
        "print(f'Коэффициаент корреляция с истинными данными: {СС_tuner}')"
      ],
      "execution_count": null,
      "outputs": []
    }
  ]
}