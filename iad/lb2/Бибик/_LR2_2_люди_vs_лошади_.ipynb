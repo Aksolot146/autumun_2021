{
  "nbformat": 4,
  "nbformat_minor": 0,
  "metadata": {
    "colab": {
      "name": "\"LR2.2_люди_vs_лошади\"",
      "provenance": [],
      "collapsed_sections": []
    },
    "kernelspec": {
      "name": "python3",
      "display_name": "Python 3"
    },
    "language_info": {
      "name": "python"
    },
    "accelerator": "GPU"
  },
  "cells": [
    {
      "cell_type": "markdown",
      "metadata": {
        "id": "6oqO-Ekg7fyr"
      },
      "source": [
        "**Скачиваем набор данных**"
      ]
    },
    {
      "cell_type": "code",
      "metadata": {
        "id": "HisehaNJsK6k",
        "colab": {
          "base_uri": "https://localhost:8080/"
        },
        "outputId": "4ad85c93-3559-4f85-a711-927e466b6eb5"
      },
      "source": [
        "!wget https://storage.googleapis.com/laurencemoroney-blog.appspot.com/horse-or-human.zip"
      ],
      "execution_count": null,
      "outputs": [
        {
          "output_type": "stream",
          "name": "stdout",
          "text": [
            "--2021-12-07 21:59:56--  https://storage.googleapis.com/laurencemoroney-blog.appspot.com/horse-or-human.zip\n",
            "Resolving storage.googleapis.com (storage.googleapis.com)... 108.177.125.128, 142.250.157.128, 142.251.8.128, ...\n",
            "Connecting to storage.googleapis.com (storage.googleapis.com)|108.177.125.128|:443... connected.\n",
            "HTTP request sent, awaiting response... 200 OK\n",
            "Length: 149574867 (143M) [application/zip]\n",
            "Saving to: ‘horse-or-human.zip’\n",
            "\n",
            "horse-or-human.zip  100%[===================>] 142.65M  30.0MB/s    in 4.8s    \n",
            "\n",
            "2021-12-07 22:00:02 (30.0 MB/s) - ‘horse-or-human.zip’ saved [149574867/149574867]\n",
            "\n"
          ]
        }
      ]
    },
    {
      "cell_type": "markdown",
      "metadata": {
        "id": "-7xsPG798Jo8"
      },
      "source": [
        "**Разархивируем**"
      ]
    },
    {
      "cell_type": "code",
      "metadata": {
        "colab": {
          "base_uri": "https://localhost:8080/"
        },
        "id": "SJVvyqwmsQtu",
        "outputId": "a40409fa-e001-4e63-a244-2f14cc57e306"
      },
      "source": [
        "!unzip horse-or-human.zip"
      ],
      "execution_count": null,
      "outputs": [
        {
          "output_type": "stream",
          "name": "stdout",
          "text": [
            "Archive:  horse-or-human.zip\n",
            "  inflating: horses/horse01-0.png    \n",
            "  inflating: horses/horse01-1.png    \n",
            "  inflating: horses/horse01-2.png    \n",
            "  inflating: horses/horse01-3.png    \n",
            "  inflating: horses/horse01-4.png    \n",
            "  inflating: horses/horse01-5.png    \n",
            "  inflating: horses/horse01-6.png    \n",
            "  inflating: horses/horse01-7.png    \n",
            "  inflating: horses/horse01-8.png    \n",
            "  inflating: horses/horse01-9.png    \n",
            "  inflating: horses/horse02-0.png    \n",
            "  inflating: horses/horse02-1.png    \n",
            "  inflating: horses/horse02-2.png    \n",
            "  inflating: horses/horse02-3.png    \n",
            "  inflating: horses/horse02-4.png    \n",
            "  inflating: horses/horse02-5.png    \n",
            "  inflating: horses/horse02-6.png    \n",
            "  inflating: horses/horse02-7.png    \n",
            "  inflating: horses/horse02-8.png    \n",
            "  inflating: horses/horse02-9.png    \n",
            "  inflating: horses/horse03-0.png    \n",
            "  inflating: horses/horse03-1.png    \n",
            "  inflating: horses/horse03-2.png    \n",
            "  inflating: horses/horse03-3.png    \n",
            "  inflating: horses/horse03-4.png    \n",
            "  inflating: horses/horse03-5.png    \n",
            "  inflating: horses/horse03-6.png    \n",
            "  inflating: horses/horse03-7.png    \n",
            "  inflating: horses/horse03-8.png    \n",
            "  inflating: horses/horse03-9.png    \n",
            "  inflating: horses/horse04-0.png    \n",
            "  inflating: horses/horse04-1.png    \n",
            "  inflating: horses/horse04-2.png    \n",
            "  inflating: horses/horse04-3.png    \n",
            "  inflating: horses/horse04-4.png    \n",
            "  inflating: horses/horse04-5.png    \n",
            "  inflating: horses/horse04-6.png    \n",
            "  inflating: horses/horse04-7.png    \n",
            "  inflating: horses/horse04-8.png    \n",
            "  inflating: horses/horse04-9.png    \n",
            "  inflating: horses/horse05-0.png    \n",
            "  inflating: horses/horse05-1.png    \n",
            "  inflating: horses/horse05-2.png    \n",
            "  inflating: horses/horse05-3.png    \n",
            "  inflating: horses/horse05-4.png    \n",
            "  inflating: horses/horse05-5.png    \n",
            "  inflating: horses/horse05-6.png    \n",
            "  inflating: horses/horse05-7.png    \n",
            "  inflating: horses/horse05-8.png    \n",
            "  inflating: horses/horse05-9.png    \n",
            "  inflating: horses/horse06-0.png    \n",
            "  inflating: horses/horse06-1.png    \n",
            "  inflating: horses/horse06-2.png    \n",
            "  inflating: horses/horse06-3.png    \n",
            "  inflating: horses/horse06-4.png    \n",
            "  inflating: horses/horse06-5.png    \n",
            "  inflating: horses/horse06-6.png    \n",
            "  inflating: horses/horse06-7.png    \n",
            "  inflating: horses/horse06-8.png    \n",
            "  inflating: horses/horse06-9.png    \n",
            "  inflating: horses/horse07-0.png    \n",
            "  inflating: horses/horse07-1.png    \n",
            "  inflating: horses/horse07-2.png    \n",
            "  inflating: horses/horse07-3.png    \n",
            "  inflating: horses/horse07-4.png    \n",
            "  inflating: horses/horse07-5.png    \n",
            "  inflating: horses/horse07-6.png    \n",
            "  inflating: horses/horse07-7.png    \n",
            "  inflating: horses/horse07-8.png    \n",
            "  inflating: horses/horse07-9.png    \n",
            "  inflating: horses/horse08-0.png    \n",
            "  inflating: horses/horse08-1.png    \n",
            "  inflating: horses/horse08-2.png    \n",
            "  inflating: horses/horse08-3.png    \n",
            "  inflating: horses/horse08-4.png    \n",
            "  inflating: horses/horse08-5.png    \n",
            "  inflating: horses/horse08-6.png    \n",
            "  inflating: horses/horse08-7.png    \n",
            "  inflating: horses/horse08-8.png    \n",
            "  inflating: horses/horse08-9.png    \n",
            "  inflating: horses/horse09-0.png    \n",
            "  inflating: horses/horse09-1.png    \n",
            "  inflating: horses/horse09-2.png    \n",
            "  inflating: horses/horse09-3.png    \n",
            "  inflating: horses/horse09-4.png    \n",
            "  inflating: horses/horse09-5.png    \n",
            "  inflating: horses/horse09-6.png    \n",
            "  inflating: horses/horse09-7.png    \n",
            "  inflating: horses/horse09-8.png    \n",
            "  inflating: horses/horse09-9.png    \n",
            "  inflating: horses/horse10-0.png    \n",
            "  inflating: horses/horse10-1.png    \n",
            "  inflating: horses/horse10-2.png    \n",
            "  inflating: horses/horse10-3.png    \n",
            "  inflating: horses/horse10-4.png    \n",
            "  inflating: horses/horse10-5.png    \n",
            "  inflating: horses/horse10-6.png    \n",
            "  inflating: horses/horse10-7.png    \n",
            "  inflating: horses/horse10-8.png    \n",
            "  inflating: horses/horse10-9.png    \n",
            "  inflating: horses/horse11-0.png    \n",
            "  inflating: horses/horse11-1.png    \n",
            "  inflating: horses/horse11-2.png    \n",
            "  inflating: horses/horse11-3.png    \n",
            "  inflating: horses/horse11-4.png    \n",
            "  inflating: horses/horse11-5.png    \n",
            "  inflating: horses/horse11-6.png    \n",
            "  inflating: horses/horse11-7.png    \n",
            "  inflating: horses/horse11-8.png    \n",
            "  inflating: horses/horse11-9.png    \n",
            "  inflating: horses/horse12-0.png    \n",
            "  inflating: horses/horse12-1.png    \n",
            "  inflating: horses/horse12-2.png    \n",
            "  inflating: horses/horse12-3.png    \n",
            "  inflating: horses/horse12-4.png    \n",
            "  inflating: horses/horse12-5.png    \n",
            "  inflating: horses/horse12-6.png    \n",
            "  inflating: horses/horse12-7.png    \n",
            "  inflating: horses/horse12-8.png    \n",
            "  inflating: horses/horse12-9.png    \n",
            "  inflating: horses/horse13-0.png    \n",
            "  inflating: horses/horse13-1.png    \n",
            "  inflating: horses/horse13-2.png    \n",
            "  inflating: horses/horse13-3.png    \n",
            "  inflating: horses/horse13-4.png    \n",
            "  inflating: horses/horse13-5.png    \n",
            "  inflating: horses/horse13-6.png    \n",
            "  inflating: horses/horse13-7.png    \n",
            "  inflating: horses/horse13-8.png    \n",
            "  inflating: horses/horse13-9.png    \n",
            "  inflating: horses/horse14-0.png    \n",
            "  inflating: horses/horse14-1.png    \n",
            "  inflating: horses/horse14-2.png    \n",
            "  inflating: horses/horse14-3.png    \n",
            "  inflating: horses/horse14-4.png    \n",
            "  inflating: horses/horse14-5.png    \n",
            "  inflating: horses/horse14-6.png    \n",
            "  inflating: horses/horse14-7.png    \n",
            "  inflating: horses/horse14-8.png    \n",
            "  inflating: horses/horse14-9.png    \n",
            "  inflating: horses/horse15-0.png    \n",
            "  inflating: horses/horse15-1.png    \n",
            "  inflating: horses/horse15-2.png    \n",
            "  inflating: horses/horse15-3.png    \n",
            "  inflating: horses/horse15-4.png    \n",
            "  inflating: horses/horse15-5.png    \n",
            "  inflating: horses/horse15-6.png    \n",
            "  inflating: horses/horse15-7.png    \n",
            "  inflating: horses/horse15-8.png    \n",
            "  inflating: horses/horse15-9.png    \n",
            "  inflating: horses/horse16-0.png    \n",
            "  inflating: horses/horse16-1.png    \n",
            "  inflating: horses/horse16-2.png    \n",
            "  inflating: horses/horse16-3.png    \n",
            "  inflating: horses/horse16-4.png    \n",
            "  inflating: horses/horse16-5.png    \n",
            "  inflating: horses/horse16-6.png    \n",
            "  inflating: horses/horse16-7.png    \n",
            "  inflating: horses/horse16-8.png    \n",
            "  inflating: horses/horse16-9.png    \n",
            "  inflating: horses/horse17-0.png    \n",
            "  inflating: horses/horse17-1.png    \n",
            "  inflating: horses/horse17-2.png    \n",
            "  inflating: horses/horse17-3.png    \n",
            "  inflating: horses/horse17-4.png    \n",
            "  inflating: horses/horse17-5.png    \n",
            "  inflating: horses/horse17-6.png    \n",
            "  inflating: horses/horse17-7.png    \n",
            "  inflating: horses/horse17-8.png    \n",
            "  inflating: horses/horse17-9.png    \n",
            "  inflating: horses/horse18-0.png    \n",
            "  inflating: horses/horse18-1.png    \n",
            "  inflating: horses/horse18-2.png    \n",
            "  inflating: horses/horse18-3.png    \n",
            "  inflating: horses/horse18-4.png    \n",
            "  inflating: horses/horse18-5.png    \n",
            "  inflating: horses/horse18-6.png    \n",
            "  inflating: horses/horse18-7.png    \n",
            "  inflating: horses/horse18-8.png    \n",
            "  inflating: horses/horse18-9.png    \n",
            "  inflating: horses/horse19-0.png    \n",
            "  inflating: horses/horse19-1.png    \n",
            "  inflating: horses/horse19-2.png    \n",
            "  inflating: horses/horse19-3.png    \n",
            "  inflating: horses/horse19-4.png    \n",
            "  inflating: horses/horse19-5.png    \n",
            "  inflating: horses/horse19-6.png    \n",
            "  inflating: horses/horse19-7.png    \n",
            "  inflating: horses/horse19-8.png    \n",
            "  inflating: horses/horse19-9.png    \n",
            "  inflating: horses/horse20-0.png    \n",
            "  inflating: horses/horse20-1.png    \n",
            "  inflating: horses/horse20-2.png    \n",
            "  inflating: horses/horse20-3.png    \n",
            "  inflating: horses/horse20-4.png    \n",
            "  inflating: horses/horse20-5.png    \n",
            "  inflating: horses/horse20-6.png    \n",
            "  inflating: horses/horse20-7.png    \n",
            "  inflating: horses/horse20-8.png    \n",
            "  inflating: horses/horse20-9.png    \n",
            "  inflating: horses/horse21-0.png    \n",
            "  inflating: horses/horse21-1.png    \n",
            "  inflating: horses/horse21-2.png    \n",
            "  inflating: horses/horse21-3.png    \n",
            "  inflating: horses/horse21-4.png    \n",
            "  inflating: horses/horse21-5.png    \n",
            "  inflating: horses/horse21-6.png    \n",
            "  inflating: horses/horse21-7.png    \n",
            "  inflating: horses/horse21-8.png    \n",
            "  inflating: horses/horse21-9.png    \n",
            "  inflating: horses/horse22-0.png    \n",
            "  inflating: horses/horse22-1.png    \n",
            "  inflating: horses/horse22-2.png    \n",
            "  inflating: horses/horse22-3.png    \n",
            "  inflating: horses/horse22-4.png    \n",
            "  inflating: horses/horse22-5.png    \n",
            "  inflating: horses/horse22-6.png    \n",
            "  inflating: horses/horse22-7.png    \n",
            "  inflating: horses/horse22-8.png    \n",
            "  inflating: horses/horse22-9.png    \n",
            "  inflating: horses/horse23-0.png    \n",
            "  inflating: horses/horse23-1.png    \n",
            "  inflating: horses/horse23-2.png    \n",
            "  inflating: horses/horse23-3.png    \n",
            "  inflating: horses/horse23-4.png    \n",
            "  inflating: horses/horse23-5.png    \n",
            "  inflating: horses/horse23-6.png    \n",
            "  inflating: horses/horse23-7.png    \n",
            "  inflating: horses/horse23-8.png    \n",
            "  inflating: horses/horse23-9.png    \n",
            "  inflating: horses/horse24-0.png    \n",
            "  inflating: horses/horse24-1.png    \n",
            "  inflating: horses/horse24-2.png    \n",
            "  inflating: horses/horse24-3.png    \n",
            "  inflating: horses/horse24-4.png    \n",
            "  inflating: horses/horse24-5.png    \n",
            "  inflating: horses/horse24-6.png    \n",
            "  inflating: horses/horse24-7.png    \n",
            "  inflating: horses/horse24-8.png    \n",
            "  inflating: horses/horse24-9.png    \n",
            "  inflating: horses/horse25-0.png    \n",
            "  inflating: horses/horse25-1.png    \n",
            "  inflating: horses/horse25-2.png    \n",
            "  inflating: horses/horse25-3.png    \n",
            "  inflating: horses/horse25-4.png    \n",
            "  inflating: horses/horse25-5.png    \n",
            "  inflating: horses/horse25-6.png    \n",
            "  inflating: horses/horse25-7.png    \n",
            "  inflating: horses/horse25-8.png    \n",
            "  inflating: horses/horse25-9.png    \n",
            "  inflating: horses/horse26-0.png    \n",
            "  inflating: horses/horse26-1.png    \n",
            "  inflating: horses/horse26-2.png    \n",
            "  inflating: horses/horse26-3.png    \n",
            "  inflating: horses/horse26-4.png    \n",
            "  inflating: horses/horse26-5.png    \n",
            "  inflating: horses/horse26-6.png    \n",
            "  inflating: horses/horse26-7.png    \n",
            "  inflating: horses/horse26-8.png    \n",
            "  inflating: horses/horse26-9.png    \n",
            "  inflating: horses/horse27-0.png    \n",
            "  inflating: horses/horse27-1.png    \n",
            "  inflating: horses/horse27-2.png    \n",
            "  inflating: horses/horse27-3.png    \n",
            "  inflating: horses/horse27-4.png    \n",
            "  inflating: horses/horse27-5.png    \n",
            "  inflating: horses/horse27-6.png    \n",
            "  inflating: horses/horse27-7.png    \n",
            "  inflating: horses/horse27-8.png    \n",
            "  inflating: horses/horse27-9.png    \n",
            "  inflating: horses/horse28-0.png    \n",
            "  inflating: horses/horse28-1.png    \n",
            "  inflating: horses/horse28-2.png    \n",
            "  inflating: horses/horse28-3.png    \n",
            "  inflating: horses/horse28-4.png    \n",
            "  inflating: horses/horse28-5.png    \n",
            "  inflating: horses/horse28-6.png    \n",
            "  inflating: horses/horse28-7.png    \n",
            "  inflating: horses/horse28-8.png    \n",
            "  inflating: horses/horse28-9.png    \n",
            "  inflating: horses/horse29-0.png    \n",
            "  inflating: horses/horse29-1.png    \n",
            "  inflating: horses/horse29-2.png    \n",
            "  inflating: horses/horse29-3.png    \n",
            "  inflating: horses/horse29-4.png    \n",
            "  inflating: horses/horse29-5.png    \n",
            "  inflating: horses/horse29-6.png    \n",
            "  inflating: horses/horse29-7.png    \n",
            "  inflating: horses/horse29-8.png    \n",
            "  inflating: horses/horse29-9.png    \n",
            "  inflating: horses/horse30-0.png    \n",
            "  inflating: horses/horse30-1.png    \n",
            "  inflating: horses/horse30-2.png    \n",
            "  inflating: horses/horse30-3.png    \n",
            "  inflating: horses/horse30-4.png    \n",
            "  inflating: horses/horse30-5.png    \n",
            "  inflating: horses/horse30-6.png    \n",
            "  inflating: horses/horse30-7.png    \n",
            "  inflating: horses/horse30-8.png    \n",
            "  inflating: horses/horse30-9.png    \n",
            "  inflating: horses/horse31-0.png    \n",
            "  inflating: horses/horse31-1.png    \n",
            "  inflating: horses/horse31-2.png    \n",
            "  inflating: horses/horse31-3.png    \n",
            "  inflating: horses/horse31-4.png    \n",
            "  inflating: horses/horse31-5.png    \n",
            "  inflating: horses/horse31-6.png    \n",
            "  inflating: horses/horse31-7.png    \n",
            "  inflating: horses/horse31-8.png    \n",
            "  inflating: horses/horse31-9.png    \n",
            "  inflating: horses/horse32-0.png    \n",
            "  inflating: horses/horse32-1.png    \n",
            "  inflating: horses/horse32-2.png    \n",
            "  inflating: horses/horse32-3.png    \n",
            "  inflating: horses/horse32-4.png    \n",
            "  inflating: horses/horse32-5.png    \n",
            "  inflating: horses/horse32-6.png    \n",
            "  inflating: horses/horse32-7.png    \n",
            "  inflating: horses/horse32-8.png    \n",
            "  inflating: horses/horse32-9.png    \n",
            "  inflating: horses/horse33-0.png    \n",
            "  inflating: horses/horse33-1.png    \n",
            "  inflating: horses/horse33-2.png    \n",
            "  inflating: horses/horse33-3.png    \n",
            "  inflating: horses/horse33-4.png    \n",
            "  inflating: horses/horse33-5.png    \n",
            "  inflating: horses/horse33-6.png    \n",
            "  inflating: horses/horse33-7.png    \n",
            "  inflating: horses/horse33-8.png    \n",
            "  inflating: horses/horse33-9.png    \n",
            "  inflating: horses/horse34-0.png    \n",
            "  inflating: horses/horse34-1.png    \n",
            "  inflating: horses/horse34-2.png    \n",
            "  inflating: horses/horse34-3.png    \n",
            "  inflating: horses/horse34-4.png    \n",
            "  inflating: horses/horse34-5.png    \n",
            "  inflating: horses/horse34-6.png    \n",
            "  inflating: horses/horse34-7.png    \n",
            "  inflating: horses/horse34-8.png    \n",
            "  inflating: horses/horse34-9.png    \n",
            "  inflating: horses/horse35-0.png    \n",
            "  inflating: horses/horse35-1.png    \n",
            "  inflating: horses/horse35-2.png    \n",
            "  inflating: horses/horse35-3.png    \n",
            "  inflating: horses/horse35-4.png    \n",
            "  inflating: horses/horse35-5.png    \n",
            "  inflating: horses/horse35-6.png    \n",
            "  inflating: horses/horse35-7.png    \n",
            "  inflating: horses/horse35-8.png    \n",
            "  inflating: horses/horse35-9.png    \n",
            "  inflating: horses/horse36-0.png    \n",
            "  inflating: horses/horse36-1.png    \n",
            "  inflating: horses/horse36-2.png    \n",
            "  inflating: horses/horse36-3.png    \n",
            "  inflating: horses/horse36-4.png    \n",
            "  inflating: horses/horse36-5.png    \n",
            "  inflating: horses/horse36-6.png    \n",
            "  inflating: horses/horse36-7.png    \n",
            "  inflating: horses/horse36-8.png    \n",
            "  inflating: horses/horse36-9.png    \n",
            "  inflating: horses/horse37-0.png    \n",
            "  inflating: horses/horse37-1.png    \n",
            "  inflating: horses/horse37-2.png    \n",
            "  inflating: horses/horse37-3.png    \n",
            "  inflating: horses/horse37-4.png    \n",
            "  inflating: horses/horse37-5.png    \n",
            "  inflating: horses/horse37-6.png    \n",
            "  inflating: horses/horse37-7.png    \n",
            "  inflating: horses/horse37-8.png    \n",
            "  inflating: horses/horse37-9.png    \n",
            "  inflating: horses/horse38-0.png    \n",
            "  inflating: horses/horse38-1.png    \n",
            "  inflating: horses/horse38-2.png    \n",
            "  inflating: horses/horse38-3.png    \n",
            "  inflating: horses/horse38-4.png    \n",
            "  inflating: horses/horse38-5.png    \n",
            "  inflating: horses/horse38-6.png    \n",
            "  inflating: horses/horse38-7.png    \n",
            "  inflating: horses/horse38-8.png    \n",
            "  inflating: horses/horse38-9.png    \n",
            "  inflating: horses/horse39-0.png    \n",
            "  inflating: horses/horse39-1.png    \n",
            "  inflating: horses/horse39-2.png    \n",
            "  inflating: horses/horse39-3.png    \n",
            "  inflating: horses/horse39-4.png    \n",
            "  inflating: horses/horse39-5.png    \n",
            "  inflating: horses/horse39-6.png    \n",
            "  inflating: horses/horse39-7.png    \n",
            "  inflating: horses/horse39-8.png    \n",
            "  inflating: horses/horse39-9.png    \n",
            "  inflating: horses/horse40-0.png    \n",
            "  inflating: horses/horse40-1.png    \n",
            "  inflating: horses/horse40-2.png    \n",
            "  inflating: horses/horse40-3.png    \n",
            "  inflating: horses/horse40-4.png    \n",
            "  inflating: horses/horse40-5.png    \n",
            "  inflating: horses/horse40-6.png    \n",
            "  inflating: horses/horse40-7.png    \n",
            "  inflating: horses/horse40-8.png    \n",
            "  inflating: horses/horse40-9.png    \n",
            "  inflating: horses/horse41-0.png    \n",
            "  inflating: horses/horse41-1.png    \n",
            "  inflating: horses/horse41-2.png    \n",
            "  inflating: horses/horse41-3.png    \n",
            "  inflating: horses/horse41-4.png    \n",
            "  inflating: horses/horse41-5.png    \n",
            "  inflating: horses/horse41-6.png    \n",
            "  inflating: horses/horse41-7.png    \n",
            "  inflating: horses/horse41-8.png    \n",
            "  inflating: horses/horse41-9.png    \n",
            "  inflating: horses/horse42-0.png    \n",
            "  inflating: horses/horse42-1.png    \n",
            "  inflating: horses/horse42-2.png    \n",
            "  inflating: horses/horse42-3.png    \n",
            "  inflating: horses/horse42-4.png    \n",
            "  inflating: horses/horse42-5.png    \n",
            "  inflating: horses/horse42-6.png    \n",
            "  inflating: horses/horse42-7.png    \n",
            "  inflating: horses/horse42-8.png    \n",
            "  inflating: horses/horse42-9.png    \n",
            "  inflating: horses/horse43-0.png    \n",
            "  inflating: horses/horse43-1.png    \n",
            "  inflating: horses/horse43-2.png    \n",
            "  inflating: horses/horse43-3.png    \n",
            "  inflating: horses/horse43-4.png    \n",
            "  inflating: horses/horse43-5.png    \n",
            "  inflating: horses/horse43-6.png    \n",
            "  inflating: horses/horse43-7.png    \n",
            "  inflating: horses/horse43-8.png    \n",
            "  inflating: horses/horse43-9.png    \n",
            "  inflating: horses/horse44-0.png    \n",
            "  inflating: horses/horse44-1.png    \n",
            "  inflating: horses/horse44-2.png    \n",
            "  inflating: horses/horse44-3.png    \n",
            "  inflating: horses/horse44-4.png    \n",
            "  inflating: horses/horse44-5.png    \n",
            "  inflating: horses/horse44-6.png    \n",
            "  inflating: horses/horse44-7.png    \n",
            "  inflating: horses/horse44-8.png    \n",
            "  inflating: horses/horse44-9.png    \n",
            "  inflating: horses/horse45-0.png    \n",
            "  inflating: horses/horse45-1.png    \n",
            "  inflating: horses/horse45-2.png    \n",
            "  inflating: horses/horse45-3.png    \n",
            "  inflating: horses/horse45-4.png    \n",
            "  inflating: horses/horse45-5.png    \n",
            "  inflating: horses/horse45-6.png    \n",
            "  inflating: horses/horse45-7.png    \n",
            "  inflating: horses/horse45-8.png    \n",
            "  inflating: horses/horse45-9.png    \n",
            "  inflating: horses/horse46-0.png    \n",
            "  inflating: horses/horse46-1.png    \n",
            "  inflating: horses/horse46-2.png    \n",
            "  inflating: horses/horse46-3.png    \n",
            "  inflating: horses/horse46-4.png    \n",
            "  inflating: horses/horse46-5.png    \n",
            "  inflating: horses/horse46-6.png    \n",
            "  inflating: horses/horse46-7.png    \n",
            "  inflating: horses/horse46-8.png    \n",
            "  inflating: horses/horse46-9.png    \n",
            "  inflating: horses/horse47-0.png    \n",
            "  inflating: horses/horse47-1.png    \n",
            "  inflating: horses/horse47-2.png    \n",
            "  inflating: horses/horse47-3.png    \n",
            "  inflating: horses/horse47-4.png    \n",
            "  inflating: horses/horse47-5.png    \n",
            "  inflating: horses/horse47-6.png    \n",
            "  inflating: horses/horse47-7.png    \n",
            "  inflating: horses/horse47-8.png    \n",
            "  inflating: horses/horse47-9.png    \n",
            "  inflating: horses/horse48-0.png    \n",
            "  inflating: horses/horse48-1.png    \n",
            "  inflating: horses/horse48-2.png    \n",
            "  inflating: horses/horse48-3.png    \n",
            "  inflating: horses/horse48-4.png    \n",
            "  inflating: horses/horse48-5.png    \n",
            "  inflating: horses/horse48-6.png    \n",
            "  inflating: horses/horse48-7.png    \n",
            "  inflating: horses/horse48-8.png    \n",
            "  inflating: horses/horse48-9.png    \n",
            "  inflating: horses/horse49-0.png    \n",
            "  inflating: horses/horse49-1.png    \n",
            "  inflating: horses/horse49-2.png    \n",
            "  inflating: horses/horse49-3.png    \n",
            "  inflating: horses/horse49-4.png    \n",
            "  inflating: horses/horse49-5.png    \n",
            "  inflating: horses/horse49-6.png    \n",
            "  inflating: horses/horse49-7.png    \n",
            "  inflating: horses/horse49-8.png    \n",
            "  inflating: horses/horse49-9.png    \n",
            "  inflating: horses/horse50-0.png    \n",
            "  inflating: horses/horse50-1.png    \n",
            "  inflating: horses/horse50-2.png    \n",
            "  inflating: horses/horse50-3.png    \n",
            "  inflating: horses/horse50-4.png    \n",
            "  inflating: horses/horse50-5.png    \n",
            "  inflating: horses/horse50-6.png    \n",
            "  inflating: horses/horse50-7.png    \n",
            "  inflating: horses/horse50-8.png    \n",
            "  inflating: horses/horse50-9.png    \n",
            "  inflating: humans/human01-00.png   \n",
            "  inflating: humans/human01-01.png   \n",
            "  inflating: humans/human01-02.png   \n",
            "  inflating: humans/human01-03.png   \n",
            "  inflating: humans/human01-04.png   \n",
            "  inflating: humans/human01-05.png   \n",
            "  inflating: humans/human01-06.png   \n",
            "  inflating: humans/human01-07.png   \n",
            "  inflating: humans/human01-08.png   \n",
            "  inflating: humans/human01-09.png   \n",
            "  inflating: humans/human01-10.png   \n",
            "  inflating: humans/human01-11.png   \n",
            "  inflating: humans/human01-12.png   \n",
            "  inflating: humans/human01-13.png   \n",
            "  inflating: humans/human01-14.png   \n",
            "  inflating: humans/human01-15.png   \n",
            "  inflating: humans/human01-16.png   \n",
            "  inflating: humans/human01-17.png   \n",
            "  inflating: humans/human01-18.png   \n",
            "  inflating: humans/human01-19.png   \n",
            "  inflating: humans/human01-20.png   \n",
            "  inflating: humans/human01-21.png   \n",
            "  inflating: humans/human01-22.png   \n",
            "  inflating: humans/human01-23.png   \n",
            "  inflating: humans/human01-24.png   \n",
            "  inflating: humans/human01-25.png   \n",
            "  inflating: humans/human01-26.png   \n",
            "  inflating: humans/human01-27.png   \n",
            "  inflating: humans/human01-28.png   \n",
            "  inflating: humans/human01-29.png   \n",
            "  inflating: humans/human01-30.png   \n",
            "  inflating: humans/human02-00.png   \n",
            "  inflating: humans/human02-01.png   \n",
            "  inflating: humans/human02-02.png   \n",
            "  inflating: humans/human02-03.png   \n",
            "  inflating: humans/human02-04.png   \n",
            "  inflating: humans/human02-05.png   \n",
            "  inflating: humans/human02-06.png   \n",
            "  inflating: humans/human02-07.png   \n",
            "  inflating: humans/human02-08.png   \n",
            "  inflating: humans/human02-09.png   \n",
            "  inflating: humans/human02-10.png   \n",
            "  inflating: humans/human02-11.png   \n",
            "  inflating: humans/human02-12.png   \n",
            "  inflating: humans/human02-13.png   \n",
            "  inflating: humans/human02-14.png   \n",
            "  inflating: humans/human02-15.png   \n",
            "  inflating: humans/human02-16.png   \n",
            "  inflating: humans/human02-17.png   \n",
            "  inflating: humans/human02-18.png   \n",
            "  inflating: humans/human02-19.png   \n",
            "  inflating: humans/human02-20.png   \n",
            "  inflating: humans/human02-21.png   \n",
            "  inflating: humans/human02-22.png   \n",
            "  inflating: humans/human02-23.png   \n",
            "  inflating: humans/human02-24.png   \n",
            "  inflating: humans/human02-25.png   \n",
            "  inflating: humans/human02-26.png   \n",
            "  inflating: humans/human02-27.png   \n",
            "  inflating: humans/human02-28.png   \n",
            "  inflating: humans/human02-29.png   \n",
            "  inflating: humans/human02-30.png   \n",
            "  inflating: humans/human03-00.png   \n",
            "  inflating: humans/human03-01.png   \n",
            "  inflating: humans/human03-02.png   \n",
            "  inflating: humans/human03-03.png   \n",
            "  inflating: humans/human03-04.png   \n",
            "  inflating: humans/human03-05.png   \n",
            "  inflating: humans/human03-06.png   \n",
            "  inflating: humans/human03-07.png   \n",
            "  inflating: humans/human03-08.png   \n",
            "  inflating: humans/human03-09.png   \n",
            "  inflating: humans/human03-10.png   \n",
            "  inflating: humans/human03-11.png   \n",
            "  inflating: humans/human03-12.png   \n",
            "  inflating: humans/human03-13.png   \n",
            "  inflating: humans/human03-14.png   \n",
            "  inflating: humans/human03-15.png   \n",
            "  inflating: humans/human03-16.png   \n",
            "  inflating: humans/human03-17.png   \n",
            "  inflating: humans/human03-18.png   \n",
            "  inflating: humans/human03-19.png   \n",
            "  inflating: humans/human03-20.png   \n",
            "  inflating: humans/human03-21.png   \n",
            "  inflating: humans/human03-22.png   \n",
            "  inflating: humans/human03-23.png   \n",
            "  inflating: humans/human03-24.png   \n",
            "  inflating: humans/human03-25.png   \n",
            "  inflating: humans/human03-26.png   \n",
            "  inflating: humans/human03-27.png   \n",
            "  inflating: humans/human03-28.png   \n",
            "  inflating: humans/human03-29.png   \n",
            "  inflating: humans/human03-30.png   \n",
            "  inflating: humans/human04-00.png   \n",
            "  inflating: humans/human04-01.png   \n",
            "  inflating: humans/human04-02.png   \n",
            "  inflating: humans/human04-03.png   \n",
            "  inflating: humans/human04-04.png   \n",
            "  inflating: humans/human04-05.png   \n",
            "  inflating: humans/human04-06.png   \n",
            "  inflating: humans/human04-07.png   \n",
            "  inflating: humans/human04-08.png   \n",
            "  inflating: humans/human04-09.png   \n",
            "  inflating: humans/human04-10.png   \n",
            "  inflating: humans/human04-11.png   \n",
            "  inflating: humans/human04-12.png   \n",
            "  inflating: humans/human04-13.png   \n",
            "  inflating: humans/human04-14.png   \n",
            "  inflating: humans/human04-15.png   \n",
            "  inflating: humans/human04-16.png   \n",
            "  inflating: humans/human04-17.png   \n",
            "  inflating: humans/human04-18.png   \n",
            "  inflating: humans/human04-19.png   \n",
            "  inflating: humans/human04-20.png   \n",
            "  inflating: humans/human04-21.png   \n",
            "  inflating: humans/human04-22.png   \n",
            "  inflating: humans/human04-23.png   \n",
            "  inflating: humans/human04-24.png   \n",
            "  inflating: humans/human04-25.png   \n",
            "  inflating: humans/human04-26.png   \n",
            "  inflating: humans/human04-27.png   \n",
            "  inflating: humans/human04-28.png   \n",
            "  inflating: humans/human04-29.png   \n",
            "  inflating: humans/human04-30.png   \n",
            "  inflating: humans/human05-00.png   \n",
            "  inflating: humans/human05-01.png   \n",
            "  inflating: humans/human05-02.png   \n",
            "  inflating: humans/human05-03.png   \n",
            "  inflating: humans/human05-04.png   \n",
            "  inflating: humans/human05-05.png   \n",
            "  inflating: humans/human05-06.png   \n",
            "  inflating: humans/human05-07.png   \n",
            "  inflating: humans/human05-08.png   \n",
            "  inflating: humans/human05-09.png   \n",
            "  inflating: humans/human05-10.png   \n",
            "  inflating: humans/human05-11.png   \n",
            "  inflating: humans/human05-12.png   \n",
            "  inflating: humans/human05-13.png   \n",
            "  inflating: humans/human05-14.png   \n",
            "  inflating: humans/human05-15.png   \n",
            "  inflating: humans/human05-16.png   \n",
            "  inflating: humans/human05-17.png   \n",
            "  inflating: humans/human05-18.png   \n",
            "  inflating: humans/human05-19.png   \n",
            "  inflating: humans/human05-20.png   \n",
            "  inflating: humans/human05-21.png   \n",
            "  inflating: humans/human05-22.png   \n",
            "  inflating: humans/human05-23.png   \n",
            "  inflating: humans/human05-24.png   \n",
            "  inflating: humans/human05-25.png   \n",
            "  inflating: humans/human05-26.png   \n",
            "  inflating: humans/human05-27.png   \n",
            "  inflating: humans/human05-28.png   \n",
            "  inflating: humans/human05-29.png   \n",
            "  inflating: humans/human05-30.png   \n",
            "  inflating: humans/human06-00.png   \n",
            "  inflating: humans/human06-01.png   \n",
            "  inflating: humans/human06-02.png   \n",
            "  inflating: humans/human06-03.png   \n",
            "  inflating: humans/human06-04.png   \n",
            "  inflating: humans/human06-05.png   \n",
            "  inflating: humans/human06-06.png   \n",
            "  inflating: humans/human06-07.png   \n",
            "  inflating: humans/human06-08.png   \n",
            "  inflating: humans/human06-09.png   \n",
            "  inflating: humans/human06-10.png   \n",
            "  inflating: humans/human06-11.png   \n",
            "  inflating: humans/human06-12.png   \n",
            "  inflating: humans/human06-13.png   \n",
            "  inflating: humans/human06-14.png   \n",
            "  inflating: humans/human06-15.png   \n",
            "  inflating: humans/human06-16.png   \n",
            "  inflating: humans/human06-17.png   \n",
            "  inflating: humans/human06-18.png   \n",
            "  inflating: humans/human06-19.png   \n",
            "  inflating: humans/human06-20.png   \n",
            "  inflating: humans/human06-21.png   \n",
            "  inflating: humans/human06-22.png   \n",
            "  inflating: humans/human06-23.png   \n",
            "  inflating: humans/human06-24.png   \n",
            "  inflating: humans/human06-25.png   \n",
            "  inflating: humans/human06-26.png   \n",
            "  inflating: humans/human06-27.png   \n",
            "  inflating: humans/human06-28.png   \n",
            "  inflating: humans/human06-29.png   \n",
            "  inflating: humans/human06-30.png   \n",
            "  inflating: humans/human07-00.png   \n",
            "  inflating: humans/human07-01.png   \n",
            "  inflating: humans/human07-02.png   \n",
            "  inflating: humans/human07-03.png   \n",
            "  inflating: humans/human07-04.png   \n",
            "  inflating: humans/human07-05.png   \n",
            "  inflating: humans/human07-06.png   \n",
            "  inflating: humans/human07-07.png   \n",
            "  inflating: humans/human07-08.png   \n",
            "  inflating: humans/human07-09.png   \n",
            "  inflating: humans/human07-10.png   \n",
            "  inflating: humans/human07-11.png   \n",
            "  inflating: humans/human07-12.png   \n",
            "  inflating: humans/human07-13.png   \n",
            "  inflating: humans/human07-14.png   \n",
            "  inflating: humans/human07-15.png   \n",
            "  inflating: humans/human07-16.png   \n",
            "  inflating: humans/human07-17.png   \n",
            "  inflating: humans/human07-18.png   \n",
            "  inflating: humans/human07-19.png   \n",
            "  inflating: humans/human07-20.png   \n",
            "  inflating: humans/human07-21.png   \n",
            "  inflating: humans/human07-22.png   \n",
            "  inflating: humans/human07-23.png   \n",
            "  inflating: humans/human07-24.png   \n",
            "  inflating: humans/human07-25.png   \n",
            "  inflating: humans/human07-26.png   \n",
            "  inflating: humans/human07-27.png   \n",
            "  inflating: humans/human07-28.png   \n",
            "  inflating: humans/human07-29.png   \n",
            "  inflating: humans/human07-30.png   \n",
            "  inflating: humans/human08-00.png   \n",
            "  inflating: humans/human08-01.png   \n",
            "  inflating: humans/human08-02.png   \n",
            "  inflating: humans/human08-03.png   \n",
            "  inflating: humans/human08-04.png   \n",
            "  inflating: humans/human08-05.png   \n",
            "  inflating: humans/human08-06.png   \n",
            "  inflating: humans/human08-07.png   \n",
            "  inflating: humans/human08-08.png   \n",
            "  inflating: humans/human08-09.png   \n",
            "  inflating: humans/human08-10.png   \n",
            "  inflating: humans/human08-11.png   \n",
            "  inflating: humans/human08-12.png   \n",
            "  inflating: humans/human08-13.png   \n",
            "  inflating: humans/human08-14.png   \n",
            "  inflating: humans/human08-15.png   \n",
            "  inflating: humans/human08-16.png   \n",
            "  inflating: humans/human08-17.png   \n",
            "  inflating: humans/human08-18.png   \n",
            "  inflating: humans/human08-19.png   \n",
            "  inflating: humans/human08-20.png   \n",
            "  inflating: humans/human08-21.png   \n",
            "  inflating: humans/human08-22.png   \n",
            "  inflating: humans/human08-23.png   \n",
            "  inflating: humans/human08-24.png   \n",
            "  inflating: humans/human08-25.png   \n",
            "  inflating: humans/human08-26.png   \n",
            "  inflating: humans/human08-27.png   \n",
            "  inflating: humans/human08-28.png   \n",
            "  inflating: humans/human08-29.png   \n",
            "  inflating: humans/human08-30.png   \n",
            "  inflating: humans/human09-00.png   \n",
            "  inflating: humans/human09-01.png   \n",
            "  inflating: humans/human09-02.png   \n",
            "  inflating: humans/human09-03.png   \n",
            "  inflating: humans/human09-04.png   \n",
            "  inflating: humans/human09-05.png   \n",
            "  inflating: humans/human09-06.png   \n",
            "  inflating: humans/human09-07.png   \n",
            "  inflating: humans/human09-08.png   \n",
            "  inflating: humans/human09-09.png   \n",
            "  inflating: humans/human09-10.png   \n",
            "  inflating: humans/human09-11.png   \n",
            "  inflating: humans/human09-12.png   \n",
            "  inflating: humans/human09-13.png   \n",
            "  inflating: humans/human09-14.png   \n",
            "  inflating: humans/human09-15.png   \n",
            "  inflating: humans/human09-16.png   \n",
            "  inflating: humans/human09-17.png   \n",
            "  inflating: humans/human09-18.png   \n",
            "  inflating: humans/human09-19.png   \n",
            "  inflating: humans/human09-20.png   \n",
            "  inflating: humans/human09-21.png   \n",
            "  inflating: humans/human09-22.png   \n",
            "  inflating: humans/human09-23.png   \n",
            "  inflating: humans/human09-24.png   \n",
            "  inflating: humans/human09-25.png   \n",
            "  inflating: humans/human09-26.png   \n",
            "  inflating: humans/human09-27.png   \n",
            "  inflating: humans/human09-28.png   \n",
            "  inflating: humans/human09-29.png   \n",
            "  inflating: humans/human09-30.png   \n",
            "  inflating: humans/human10-00.png   \n",
            "  inflating: humans/human10-01.png   \n",
            "  inflating: humans/human10-02.png   \n",
            "  inflating: humans/human10-03.png   \n",
            "  inflating: humans/human10-04.png   \n",
            "  inflating: humans/human10-05.png   \n",
            "  inflating: humans/human10-06.png   \n",
            "  inflating: humans/human10-07.png   \n",
            "  inflating: humans/human10-08.png   \n",
            "  inflating: humans/human10-09.png   \n",
            "  inflating: humans/human10-10.png   \n",
            "  inflating: humans/human10-11.png   \n",
            "  inflating: humans/human10-12.png   \n",
            "  inflating: humans/human10-13.png   \n",
            "  inflating: humans/human10-14.png   \n",
            "  inflating: humans/human10-15.png   \n",
            "  inflating: humans/human10-16.png   \n",
            "  inflating: humans/human10-17.png   \n",
            "  inflating: humans/human10-18.png   \n",
            "  inflating: humans/human10-19.png   \n",
            "  inflating: humans/human10-20.png   \n",
            "  inflating: humans/human10-21.png   \n",
            "  inflating: humans/human10-22.png   \n",
            "  inflating: humans/human10-23.png   \n",
            "  inflating: humans/human10-24.png   \n",
            "  inflating: humans/human10-25.png   \n",
            "  inflating: humans/human10-26.png   \n",
            "  inflating: humans/human10-27.png   \n",
            "  inflating: humans/human10-28.png   \n",
            "  inflating: humans/human10-29.png   \n",
            "  inflating: humans/human10-30.png   \n",
            "  inflating: humans/human11-00.png   \n",
            "  inflating: humans/human11-01.png   \n",
            "  inflating: humans/human11-02.png   \n",
            "  inflating: humans/human11-03.png   \n",
            "  inflating: humans/human11-04.png   \n",
            "  inflating: humans/human11-05.png   \n",
            "  inflating: humans/human11-06.png   \n",
            "  inflating: humans/human11-07.png   \n",
            "  inflating: humans/human11-08.png   \n",
            "  inflating: humans/human11-09.png   \n",
            "  inflating: humans/human11-10.png   \n",
            "  inflating: humans/human11-11.png   \n",
            "  inflating: humans/human11-12.png   \n",
            "  inflating: humans/human11-13.png   \n",
            "  inflating: humans/human11-14.png   \n",
            "  inflating: humans/human11-15.png   \n",
            "  inflating: humans/human11-16.png   \n",
            "  inflating: humans/human11-17.png   \n",
            "  inflating: humans/human11-18.png   \n",
            "  inflating: humans/human11-19.png   \n",
            "  inflating: humans/human11-20.png   \n",
            "  inflating: humans/human11-21.png   \n",
            "  inflating: humans/human11-22.png   \n",
            "  inflating: humans/human11-23.png   \n",
            "  inflating: humans/human11-24.png   \n",
            "  inflating: humans/human11-25.png   \n",
            "  inflating: humans/human11-26.png   \n",
            "  inflating: humans/human11-27.png   \n",
            "  inflating: humans/human11-28.png   \n",
            "  inflating: humans/human11-29.png   \n",
            "  inflating: humans/human11-30.png   \n",
            "  inflating: humans/human12-00.png   \n",
            "  inflating: humans/human12-01.png   \n",
            "  inflating: humans/human12-02.png   \n",
            "  inflating: humans/human12-03.png   \n",
            "  inflating: humans/human12-04.png   \n",
            "  inflating: humans/human12-05.png   \n",
            "  inflating: humans/human12-06.png   \n",
            "  inflating: humans/human12-07.png   \n",
            "  inflating: humans/human12-08.png   \n",
            "  inflating: humans/human12-09.png   \n",
            "  inflating: humans/human12-10.png   \n",
            "  inflating: humans/human12-11.png   \n",
            "  inflating: humans/human12-12.png   \n",
            "  inflating: humans/human12-13.png   \n",
            "  inflating: humans/human12-14.png   \n",
            "  inflating: humans/human12-15.png   \n",
            "  inflating: humans/human12-16.png   \n",
            "  inflating: humans/human12-17.png   \n",
            "  inflating: humans/human12-18.png   \n",
            "  inflating: humans/human12-19.png   \n",
            "  inflating: humans/human12-20.png   \n",
            "  inflating: humans/human12-21.png   \n",
            "  inflating: humans/human12-22.png   \n",
            "  inflating: humans/human12-23.png   \n",
            "  inflating: humans/human12-24.png   \n",
            "  inflating: humans/human12-25.png   \n",
            "  inflating: humans/human12-26.png   \n",
            "  inflating: humans/human12-27.png   \n",
            "  inflating: humans/human12-28.png   \n",
            "  inflating: humans/human12-29.png   \n",
            "  inflating: humans/human12-30.png   \n",
            "  inflating: humans/human13-00.png   \n",
            "  inflating: humans/human13-01.png   \n",
            "  inflating: humans/human13-02.png   \n",
            "  inflating: humans/human13-03.png   \n",
            "  inflating: humans/human13-04.png   \n",
            "  inflating: humans/human13-05.png   \n",
            "  inflating: humans/human13-06.png   \n",
            "  inflating: humans/human13-07.png   \n",
            "  inflating: humans/human13-08.png   \n",
            "  inflating: humans/human13-09.png   \n",
            "  inflating: humans/human13-10.png   \n",
            "  inflating: humans/human13-11.png   \n",
            "  inflating: humans/human13-12.png   \n",
            "  inflating: humans/human13-13.png   \n",
            "  inflating: humans/human13-14.png   \n",
            "  inflating: humans/human13-15.png   \n",
            "  inflating: humans/human13-16.png   \n",
            "  inflating: humans/human13-17.png   \n",
            "  inflating: humans/human13-18.png   \n",
            "  inflating: humans/human13-19.png   \n",
            "  inflating: humans/human13-20.png   \n",
            "  inflating: humans/human13-21.png   \n",
            "  inflating: humans/human13-22.png   \n",
            "  inflating: humans/human13-23.png   \n",
            "  inflating: humans/human13-24.png   \n",
            "  inflating: humans/human13-25.png   \n",
            "  inflating: humans/human13-26.png   \n",
            "  inflating: humans/human13-27.png   \n",
            "  inflating: humans/human13-28.png   \n",
            "  inflating: humans/human13-29.png   \n",
            "  inflating: humans/human13-30.png   \n",
            "  inflating: humans/human14-00.png   \n",
            "  inflating: humans/human14-01.png   \n",
            "  inflating: humans/human14-02.png   \n",
            "  inflating: humans/human14-03.png   \n",
            "  inflating: humans/human14-04.png   \n",
            "  inflating: humans/human14-05.png   \n",
            "  inflating: humans/human14-06.png   \n",
            "  inflating: humans/human14-07.png   \n",
            "  inflating: humans/human14-08.png   \n",
            "  inflating: humans/human14-09.png   \n",
            "  inflating: humans/human14-10.png   \n",
            "  inflating: humans/human14-11.png   \n",
            "  inflating: humans/human14-12.png   \n",
            "  inflating: humans/human14-13.png   \n",
            "  inflating: humans/human14-14.png   \n",
            "  inflating: humans/human14-15.png   \n",
            "  inflating: humans/human14-16.png   \n",
            "  inflating: humans/human14-17.png   \n",
            "  inflating: humans/human14-18.png   \n",
            "  inflating: humans/human14-19.png   \n",
            "  inflating: humans/human14-20.png   \n",
            "  inflating: humans/human14-21.png   \n",
            "  inflating: humans/human14-22.png   \n",
            "  inflating: humans/human14-23.png   \n",
            "  inflating: humans/human14-24.png   \n",
            "  inflating: humans/human14-25.png   \n",
            "  inflating: humans/human14-26.png   \n",
            "  inflating: humans/human14-27.png   \n",
            "  inflating: humans/human14-28.png   \n",
            "  inflating: humans/human14-29.png   \n",
            "  inflating: humans/human14-30.png   \n",
            "  inflating: humans/human15-00.png   \n",
            "  inflating: humans/human15-01.png   \n",
            "  inflating: humans/human15-02.png   \n",
            "  inflating: humans/human15-03.png   \n",
            "  inflating: humans/human15-04.png   \n",
            "  inflating: humans/human15-05.png   \n",
            "  inflating: humans/human15-06.png   \n",
            "  inflating: humans/human15-07.png   \n",
            "  inflating: humans/human15-08.png   \n",
            "  inflating: humans/human15-09.png   \n",
            "  inflating: humans/human15-10.png   \n",
            "  inflating: humans/human15-11.png   \n",
            "  inflating: humans/human15-12.png   \n",
            "  inflating: humans/human15-13.png   \n",
            "  inflating: humans/human15-14.png   \n",
            "  inflating: humans/human15-15.png   \n",
            "  inflating: humans/human15-16.png   \n",
            "  inflating: humans/human15-17.png   \n",
            "  inflating: humans/human15-18.png   \n",
            "  inflating: humans/human15-19.png   \n",
            "  inflating: humans/human15-20.png   \n",
            "  inflating: humans/human15-21.png   \n",
            "  inflating: humans/human15-22.png   \n",
            "  inflating: humans/human15-23.png   \n",
            "  inflating: humans/human15-24.png   \n",
            "  inflating: humans/human15-25.png   \n",
            "  inflating: humans/human15-26.png   \n",
            "  inflating: humans/human15-27.png   \n",
            "  inflating: humans/human15-28.png   \n",
            "  inflating: humans/human15-29.png   \n",
            "  inflating: humans/human15-30.png   \n",
            "  inflating: humans/human16-00.png   \n",
            "  inflating: humans/human16-01.png   \n",
            "  inflating: humans/human16-02.png   \n",
            "  inflating: humans/human16-03.png   \n",
            "  inflating: humans/human16-04.png   \n",
            "  inflating: humans/human16-05.png   \n",
            "  inflating: humans/human16-06.png   \n",
            "  inflating: humans/human16-07.png   \n",
            "  inflating: humans/human16-08.png   \n",
            "  inflating: humans/human16-09.png   \n",
            "  inflating: humans/human16-10.png   \n",
            "  inflating: humans/human16-11.png   \n",
            "  inflating: humans/human16-12.png   \n",
            "  inflating: humans/human16-13.png   \n",
            "  inflating: humans/human16-14.png   \n",
            "  inflating: humans/human16-15.png   \n",
            "  inflating: humans/human16-16.png   \n",
            "  inflating: humans/human16-17.png   \n",
            "  inflating: humans/human16-18.png   \n",
            "  inflating: humans/human16-19.png   \n",
            "  inflating: humans/human16-20.png   \n",
            "  inflating: humans/human16-21.png   \n",
            "  inflating: humans/human16-22.png   \n",
            "  inflating: humans/human16-23.png   \n",
            "  inflating: humans/human16-24.png   \n",
            "  inflating: humans/human16-25.png   \n",
            "  inflating: humans/human16-26.png   \n",
            "  inflating: humans/human16-27.png   \n",
            "  inflating: humans/human16-28.png   \n",
            "  inflating: humans/human16-29.png   \n",
            "  inflating: humans/human16-30.png   \n",
            "  inflating: humans/human17-00.png   \n",
            "  inflating: humans/human17-01.png   \n",
            "  inflating: humans/human17-02.png   \n",
            "  inflating: humans/human17-03.png   \n",
            "  inflating: humans/human17-04.png   \n",
            "  inflating: humans/human17-05.png   \n",
            "  inflating: humans/human17-06.png   \n",
            "  inflating: humans/human17-07.png   \n",
            "  inflating: humans/human17-08.png   \n",
            "  inflating: humans/human17-09.png   \n",
            "  inflating: humans/human17-10.png   \n",
            "  inflating: humans/human17-11.png   \n",
            "  inflating: humans/human17-12.png   \n",
            "  inflating: humans/human17-13.png   \n",
            "  inflating: humans/human17-14.png   \n",
            "  inflating: humans/human17-15.png   \n",
            "  inflating: humans/human17-16.png   \n",
            "  inflating: humans/human17-17.png   \n",
            "  inflating: humans/human17-18.png   \n",
            "  inflating: humans/human17-19.png   \n",
            "  inflating: humans/human17-20.png   \n",
            "  inflating: humans/human17-21.png   \n",
            "  inflating: humans/human17-22.png   \n",
            "  inflating: humans/human17-23.png   \n",
            "  inflating: humans/human17-24.png   \n",
            "  inflating: humans/human17-25.png   \n",
            "  inflating: humans/human17-26.png   \n",
            "  inflating: humans/human17-27.png   \n",
            "  inflating: humans/human17-28.png   \n",
            "  inflating: humans/human17-29.png   \n",
            "  inflating: humans/human17-30.png   \n"
          ]
        }
      ]
    },
    {
      "cell_type": "markdown",
      "metadata": {
        "id": "ZEIFe9q68ooN"
      },
      "source": [
        "**Скачиваем набор данных**"
      ]
    },
    {
      "cell_type": "code",
      "metadata": {
        "colab": {
          "base_uri": "https://localhost:8080/"
        },
        "id": "SnrdxVdPsYt3",
        "outputId": "18c7e54f-3c4d-4837-efab-6bf74c9bf784"
      },
      "source": [
        "!wget https://storage.googleapis.com/laurencemoroney-blog.appspot.com/validation-horse-or-human.zip"
      ],
      "execution_count": null,
      "outputs": [
        {
          "output_type": "stream",
          "name": "stdout",
          "text": [
            "--2021-12-07 22:00:03--  https://storage.googleapis.com/laurencemoroney-blog.appspot.com/validation-horse-or-human.zip\n",
            "Resolving storage.googleapis.com (storage.googleapis.com)... 108.177.125.128, 142.250.157.128, 142.251.8.128, ...\n",
            "Connecting to storage.googleapis.com (storage.googleapis.com)|108.177.125.128|:443... connected.\n",
            "HTTP request sent, awaiting response... 200 OK\n",
            "Length: 11480187 (11M) [application/zip]\n",
            "Saving to: ‘validation-horse-or-human.zip’\n",
            "\n",
            "validation-horse-or 100%[===================>]  10.95M  15.7MB/s    in 0.7s    \n",
            "\n",
            "2021-12-07 22:00:05 (15.7 MB/s) - ‘validation-horse-or-human.zip’ saved [11480187/11480187]\n",
            "\n"
          ]
        }
      ]
    },
    {
      "cell_type": "markdown",
      "metadata": {
        "id": "JYYfUpck8r1d"
      },
      "source": [
        "**Разархивируем**"
      ]
    },
    {
      "cell_type": "code",
      "metadata": {
        "colab": {
          "base_uri": "https://localhost:8080/"
        },
        "id": "gwgL97jGseLR",
        "outputId": "83d451b6-74b3-420e-9530-932ef7805353"
      },
      "source": [
        "!unzip validation-horse-or-human.zip"
      ],
      "execution_count": null,
      "outputs": [
        {
          "output_type": "stream",
          "name": "stdout",
          "text": [
            "Archive:  validation-horse-or-human.zip\n",
            "  inflating: horses/horse1-000.png   \n",
            "  inflating: horses/horse1-105.png   \n",
            "  inflating: horses/horse1-122.png   \n",
            "  inflating: horses/horse1-127.png   \n",
            "  inflating: horses/horse1-170.png   \n",
            "  inflating: horses/horse1-204.png   \n",
            "  inflating: horses/horse1-224.png   \n",
            "  inflating: horses/horse1-241.png   \n",
            "  inflating: horses/horse1-264.png   \n",
            "  inflating: horses/horse1-276.png   \n",
            "  inflating: horses/horse1-298.png   \n",
            "  inflating: horses/horse1-335.png   \n",
            "  inflating: horses/horse1-384.png   \n",
            "  inflating: horses/horse1-411.png   \n",
            "  inflating: horses/horse1-436.png   \n",
            "  inflating: horses/horse1-455.png   \n",
            "  inflating: horses/horse1-484.png   \n",
            "  inflating: horses/horse1-510.png   \n",
            "  inflating: horses/horse1-539.png   \n",
            "  inflating: horses/horse1-554.png   \n",
            "  inflating: horses/horse1-568.png   \n",
            "  inflating: horses/horse2-011.png   \n",
            "  inflating: horses/horse2-040.png   \n",
            "  inflating: horses/horse2-069.png   \n",
            "  inflating: horses/horse2-112.png   \n",
            "  inflating: horses/horse2-136.png   \n",
            "  inflating: horses/horse2-183.png   \n",
            "  inflating: horses/horse2-201.png   \n",
            "  inflating: horses/horse2-218.png   \n",
            "  inflating: horses/horse2-224.png   \n",
            "  inflating: horses/horse2-254.png   \n",
            "  inflating: horses/horse2-269.png   \n",
            "  inflating: horses/horse2-294.png   \n",
            "  inflating: horses/horse2-314.png   \n",
            "  inflating: horses/horse2-368.png   \n",
            "  inflating: horses/horse2-383.png   \n",
            "  inflating: horses/horse2-412.png   \n",
            "  inflating: horses/horse2-441.png   \n",
            "  inflating: horses/horse2-544.png   \n",
            "  inflating: horses/horse2-582.png   \n",
            "  inflating: horses/horse2-596.png   \n",
            "  inflating: horses/horse3-011.png   \n",
            "  inflating: horses/horse3-026.png   \n",
            "  inflating: horses/horse3-055.png   \n",
            "  inflating: horses/horse3-070.png   \n",
            "  inflating: horses/horse3-099.png   \n",
            "  inflating: horses/horse3-141.png   \n",
            "  inflating: horses/horse3-171.png   \n",
            "  inflating: horses/horse3-198.png   \n",
            "  inflating: horses/horse3-217.png   \n",
            "  inflating: horses/horse3-255.png   \n",
            "  inflating: horses/horse3-326.png   \n",
            "  inflating: horses/horse3-397.png   \n",
            "  inflating: horses/horse3-416.png   \n",
            "  inflating: horses/horse3-440.png   \n",
            "  inflating: horses/horse3-469.png   \n",
            "  inflating: horses/horse3-484.png   \n",
            "  inflating: horses/horse3-498.png   \n",
            "  inflating: horses/horse3-521.png   \n",
            "  inflating: horses/horse3-541.png   \n",
            "  inflating: horses/horse3-584.png   \n",
            "  inflating: horses/horse4-000.png   \n",
            "  inflating: horses/horse4-014.png   \n",
            "  inflating: horses/horse4-043.png   \n",
            "  inflating: horses/horse4-072.png   \n",
            "  inflating: horses/horse4-102.png   \n",
            "  inflating: horses/horse4-159.png   \n",
            "  inflating: horses/horse4-188.png   \n",
            "  inflating: horses/horse4-202.png   \n",
            "  inflating: horses/horse4-232.png   \n",
            "  inflating: horses/horse4-302.png   \n",
            "  inflating: horses/horse4-345.png   \n",
            "  inflating: horses/horse4-389.png   \n",
            "  inflating: horses/horse4-403.png   \n",
            "  inflating: horses/horse4-439.png   \n",
            "  inflating: horses/horse4-468.png   \n",
            "  inflating: horses/horse4-495.png   \n",
            "  inflating: horses/horse4-501.png   \n",
            "  inflating: horses/horse4-503.png   \n",
            "  inflating: horses/horse4-530.png   \n",
            "  inflating: horses/horse4-541.png   \n",
            "  inflating: horses/horse4-548.png   \n",
            "  inflating: horses/horse4-556.png   \n",
            "  inflating: horses/horse4-588.png   \n",
            "  inflating: horses/horse4-599.png   \n",
            "  inflating: horses/horse5-002.png   \n",
            "  inflating: horses/horse5-018.png   \n",
            "  inflating: horses/horse5-032.png   \n",
            "  inflating: horses/horse5-060.png   \n",
            "  inflating: horses/horse5-065.png   \n",
            "  inflating: horses/horse5-076.png   \n",
            "  inflating: horses/horse5-083.png   \n",
            "  inflating: horses/horse5-100.png   \n",
            "  inflating: horses/horse5-103.png   \n",
            "  inflating: horses/horse5-123.png   \n",
            "  inflating: horses/horse5-164.png   \n",
            "  inflating: horses/horse5-181.png   \n",
            "  inflating: horses/horse5-192.png   \n",
            "  inflating: horses/horse5-203.png   \n",
            "  inflating: horses/horse5-235.png   \n",
            "  inflating: horses/horse5-259.png   \n",
            "  inflating: horses/horse5-275.png   \n",
            "  inflating: horses/horse5-303.png   \n",
            "  inflating: horses/horse5-342.png   \n",
            "  inflating: horses/horse5-360.png   \n",
            "  inflating: horses/horse5-400.png   \n",
            "  inflating: horses/horse5-402.png   \n",
            "  inflating: horses/horse5-405.png   \n",
            "  inflating: horses/horse5-458.png   \n",
            "  inflating: horses/horse5-478.png   \n",
            "  inflating: horses/horse5-488.png   \n",
            "  inflating: horses/horse5-504.png   \n",
            "  inflating: horses/horse5-514.png   \n",
            "  inflating: horses/horse5-519.png   \n",
            "  inflating: horses/horse5-550.png   \n",
            "  inflating: horses/horse5-565.png   \n",
            "  inflating: horses/horse5-589.png   \n",
            "  inflating: horses/horse6-004.png   \n",
            "  inflating: horses/horse6-064.png   \n",
            "  inflating: horses/horse6-089.png   \n",
            "  inflating: horses/horse6-153.png   \n",
            "  inflating: horses/horse6-161.png   \n",
            "  inflating: horses/horse6-198.png   \n",
            "  inflating: horses/horse6-218.png   \n",
            "  inflating: horses/horse6-275.png   \n",
            "  inflating: horses/horse6-345.png   \n",
            "  inflating: horses/horse6-403.png   \n",
            "  inflating: horses/horse6-544.png   \n",
            "  inflating: humans/valhuman01-00.png  \n",
            "  inflating: humans/valhuman01-01.png  \n",
            "  inflating: humans/valhuman01-02.png  \n",
            "  inflating: humans/valhuman01-03.png  \n",
            "  inflating: humans/valhuman01-04.png  \n",
            "  inflating: humans/valhuman01-05.png  \n",
            "  inflating: humans/valhuman01-06.png  \n",
            "  inflating: humans/valhuman01-07.png  \n",
            "  inflating: humans/valhuman01-08.png  \n",
            "  inflating: humans/valhuman01-09.png  \n",
            "  inflating: humans/valhuman01-10.png  \n",
            "  inflating: humans/valhuman01-11.png  \n",
            "  inflating: humans/valhuman01-12.png  \n",
            "  inflating: humans/valhuman01-13.png  \n",
            "  inflating: humans/valhuman01-14.png  \n",
            "  inflating: humans/valhuman01-15.png  \n",
            "  inflating: humans/valhuman01-16.png  \n",
            "  inflating: humans/valhuman01-17.png  \n",
            "  inflating: humans/valhuman01-18.png  \n",
            "  inflating: humans/valhuman01-19.png  \n",
            "  inflating: humans/valhuman01-20.png  \n",
            "  inflating: humans/valhuman01-21.png  \n",
            "  inflating: humans/valhuman01-22.png  \n",
            "  inflating: humans/valhuman01-23.png  \n",
            "  inflating: humans/valhuman01-24.png  \n",
            "  inflating: humans/valhuman02-00.png  \n",
            "  inflating: humans/valhuman02-01.png  \n",
            "  inflating: humans/valhuman02-02.png  \n",
            "  inflating: humans/valhuman02-03.png  \n",
            "  inflating: humans/valhuman02-04.png  \n",
            "  inflating: humans/valhuman02-05.png  \n",
            "  inflating: humans/valhuman02-06.png  \n",
            "  inflating: humans/valhuman02-07.png  \n",
            "  inflating: humans/valhuman02-08.png  \n",
            "  inflating: humans/valhuman02-09.png  \n",
            "  inflating: humans/valhuman02-10.png  \n",
            "  inflating: humans/valhuman02-11.png  \n",
            "  inflating: humans/valhuman02-12.png  \n",
            "  inflating: humans/valhuman02-13.png  \n",
            "  inflating: humans/valhuman02-14.png  \n",
            "  inflating: humans/valhuman02-15.png  \n",
            "  inflating: humans/valhuman02-16.png  \n",
            "  inflating: humans/valhuman02-17.png  \n",
            "  inflating: humans/valhuman02-18.png  \n",
            "  inflating: humans/valhuman02-19.png  \n",
            "  inflating: humans/valhuman02-20.png  \n",
            "  inflating: humans/valhuman02-21.png  \n",
            "  inflating: humans/valhuman02-22.png  \n",
            "  inflating: humans/valhuman02-23.png  \n",
            "  inflating: humans/valhuman02-24.png  \n",
            "  inflating: humans/valhuman03-00.png  \n",
            "  inflating: humans/valhuman03-01.png  \n",
            "  inflating: humans/valhuman03-02.png  \n",
            "  inflating: humans/valhuman03-03.png  \n",
            "  inflating: humans/valhuman03-04.png  \n",
            "  inflating: humans/valhuman03-05.png  \n",
            "  inflating: humans/valhuman03-06.png  \n",
            "  inflating: humans/valhuman03-07.png  \n",
            "  inflating: humans/valhuman03-08.png  \n",
            "  inflating: humans/valhuman03-09.png  \n",
            "  inflating: humans/valhuman03-10.png  \n",
            "  inflating: humans/valhuman03-11.png  \n",
            "  inflating: humans/valhuman03-12.png  \n",
            "  inflating: humans/valhuman03-13.png  \n",
            "  inflating: humans/valhuman03-14.png  \n",
            "  inflating: humans/valhuman03-15.png  \n",
            "  inflating: humans/valhuman03-16.png  \n",
            "  inflating: humans/valhuman03-17.png  \n",
            "  inflating: humans/valhuman03-18.png  \n",
            "  inflating: humans/valhuman03-19.png  \n",
            "  inflating: humans/valhuman03-20.png  \n",
            "  inflating: humans/valhuman03-21.png  \n",
            "  inflating: humans/valhuman03-22.png  \n",
            "  inflating: humans/valhuman03-23.png  \n",
            "  inflating: humans/valhuman03-24.png  \n",
            "  inflating: humans/valhuman04-00.png  \n",
            "  inflating: humans/valhuman04-01.png  \n",
            "  inflating: humans/valhuman04-02.png  \n",
            "  inflating: humans/valhuman04-03.png  \n",
            "  inflating: humans/valhuman04-04.png  \n",
            "  inflating: humans/valhuman04-05.png  \n",
            "  inflating: humans/valhuman04-06.png  \n",
            "  inflating: humans/valhuman04-07.png  \n",
            "  inflating: humans/valhuman04-08.png  \n",
            "  inflating: humans/valhuman04-09.png  \n",
            "  inflating: humans/valhuman04-10.png  \n",
            "  inflating: humans/valhuman04-11.png  \n",
            "  inflating: humans/valhuman04-12.png  \n",
            "  inflating: humans/valhuman04-13.png  \n",
            "  inflating: humans/valhuman04-14.png  \n",
            "  inflating: humans/valhuman04-15.png  \n",
            "  inflating: humans/valhuman04-16.png  \n",
            "  inflating: humans/valhuman04-17.png  \n",
            "  inflating: humans/valhuman04-18.png  \n",
            "  inflating: humans/valhuman04-19.png  \n",
            "  inflating: humans/valhuman04-20.png  \n",
            "  inflating: humans/valhuman04-21.png  \n",
            "  inflating: humans/valhuman04-22.png  \n",
            "  inflating: humans/valhuman04-23.png  \n",
            "  inflating: humans/valhuman04-24.png  \n",
            "  inflating: humans/valhuman05-00.png  \n",
            "  inflating: humans/valhuman05-01.png  \n",
            "  inflating: humans/valhuman05-02.png  \n",
            "  inflating: humans/valhuman05-03.png  \n",
            "  inflating: humans/valhuman05-04.png  \n",
            "  inflating: humans/valhuman05-05.png  \n",
            "  inflating: humans/valhuman05-06.png  \n",
            "  inflating: humans/valhuman05-07.png  \n",
            "  inflating: humans/valhuman05-08.png  \n",
            "  inflating: humans/valhuman05-09.png  \n",
            "  inflating: humans/valhuman05-10.png  \n",
            "  inflating: humans/valhuman05-11.png  \n",
            "  inflating: humans/valhuman05-12.png  \n",
            "  inflating: humans/valhuman05-13.png  \n",
            "  inflating: humans/valhuman05-14.png  \n",
            "  inflating: humans/valhuman05-15.png  \n",
            "  inflating: humans/valhuman05-16.png  \n",
            "  inflating: humans/valhuman05-17.png  \n",
            "  inflating: humans/valhuman05-18.png  \n",
            "  inflating: humans/valhuman05-19.png  \n",
            "  inflating: humans/valhuman05-20.png  \n",
            "  inflating: humans/valhuman05-21.png  \n",
            "  inflating: humans/valhuman05-22.png  \n",
            "  inflating: humans/valhuman05-23.png  \n",
            "  inflating: humans/valhuman05-24.png  \n",
            "  inflating: humans/valhuman05-25.png  \n",
            "  inflating: humans/valhuman05-26.png  \n",
            "  inflating: humans/valhuman05-27.png  \n"
          ]
        }
      ]
    },
    {
      "cell_type": "markdown",
      "metadata": {
        "id": "TmSq6BwD8vlX"
      },
      "source": [
        "**Поключаем необходимые библиотеки**"
      ]
    },
    {
      "cell_type": "code",
      "metadata": {
        "id": "qICMnw77FEc6"
      },
      "source": [
        "import shutil\n",
        "import os"
      ],
      "execution_count": null,
      "outputs": []
    },
    {
      "cell_type": "markdown",
      "metadata": {
        "id": "KBrGRs8U9GP1"
      },
      "source": [
        "**Создаем папки**"
      ]
    },
    {
      "cell_type": "code",
      "metadata": {
        "id": "8rcLUGcrszco"
      },
      "source": [
        "!mkdir HuH"
      ],
      "execution_count": null,
      "outputs": []
    },
    {
      "cell_type": "code",
      "metadata": {
        "id": "A4wQy9bEs7lZ"
      },
      "source": [
        "!cp -r /content/horses /content/HuH"
      ],
      "execution_count": null,
      "outputs": []
    },
    {
      "cell_type": "code",
      "metadata": {
        "id": "_bgULRhQti0A"
      },
      "source": [
        "!cp -r /content/humans /content/HuH"
      ],
      "execution_count": null,
      "outputs": []
    },
    {
      "cell_type": "markdown",
      "metadata": {
        "id": "rirxitti9PI_"
      },
      "source": [
        "**Считаем кол-во изображений**"
      ]
    },
    {
      "cell_type": "code",
      "metadata": {
        "colab": {
          "base_uri": "https://localhost:8080/"
        },
        "id": "gqbRrzW-nePs",
        "outputId": "d8b15820-1587-456f-ab31-5c8bcfd1633d"
      },
      "source": [
        "!ls /content/HuH/humans | wc -l"
      ],
      "execution_count": null,
      "outputs": [
        {
          "output_type": "stream",
          "name": "stdout",
          "text": [
            "655\n"
          ]
        }
      ]
    },
    {
      "cell_type": "markdown",
      "metadata": {
        "id": "HvFoLx3d9aW2"
      },
      "source": [
        "**Удаляем лишние**"
      ]
    },
    {
      "cell_type": "code",
      "metadata": {
        "colab": {
          "base_uri": "https://localhost:8080/"
        },
        "id": "kjWo-gw3r9Cb",
        "outputId": "5d8b6b94-ebb1-4df3-c19d-51cf8d94eb6f"
      },
      "source": [
        "for root, dirs, files in os.walk('/content/HuH/humans'):\n",
        "  count = 0\n",
        "  for fil in files:\n",
        "    print(fil)\n",
        "    p = os.path.join(root, fil)\n",
        "    os.remove(p)\n",
        "    count+=1\n",
        "    if count == 27:\n",
        "      break\n",
        "  if count == 27:\n",
        "    break    "
      ],
      "execution_count": null,
      "outputs": [
        {
          "output_type": "stream",
          "name": "stdout",
          "text": [
            "valhuman01-09.png\n",
            "human05-28.png\n",
            "human01-25.png\n",
            "human06-12.png\n",
            "human10-30.png\n",
            "human08-30.png\n",
            "human15-02.png\n",
            "human17-18.png\n",
            "human11-04.png\n",
            "human13-09.png\n",
            "human13-04.png\n",
            "valhuman04-11.png\n",
            "human10-08.png\n",
            "human14-08.png\n",
            "human10-00.png\n",
            "human17-26.png\n",
            "human12-30.png\n",
            "human09-06.png\n",
            "human15-14.png\n",
            "human16-14.png\n",
            "human02-09.png\n",
            "human11-13.png\n",
            "human15-24.png\n",
            "human13-30.png\n",
            "human01-24.png\n",
            "human12-11.png\n",
            "human11-09.png\n"
          ]
        }
      ]
    },
    {
      "cell_type": "markdown",
      "metadata": {
        "id": "4YnNvMAx9mmm"
      },
      "source": [
        "**Снова счиатем кол-во изображений**"
      ]
    },
    {
      "cell_type": "code",
      "metadata": {
        "colab": {
          "base_uri": "https://localhost:8080/"
        },
        "id": "6qRSQGMFnh5c",
        "outputId": "f7e553d9-1825-4ddc-e8ae-284775c212de"
      },
      "source": [
        "!ls /content/HuH/horses | wc -l"
      ],
      "execution_count": null,
      "outputs": [
        {
          "output_type": "stream",
          "name": "stdout",
          "text": [
            "628\n"
          ]
        }
      ]
    },
    {
      "cell_type": "code",
      "metadata": {
        "colab": {
          "base_uri": "https://localhost:8080/"
        },
        "id": "2ZNRsiVPwxd6",
        "outputId": "59bdaf14-7a3b-436e-c9ca-366550b1c928"
      },
      "source": [
        "!ls /content/HuH/humans | wc -l"
      ],
      "execution_count": null,
      "outputs": [
        {
          "output_type": "stream",
          "name": "stdout",
          "text": [
            "628\n"
          ]
        }
      ]
    },
    {
      "cell_type": "markdown",
      "metadata": {
        "id": "G44adKGV9sM8"
      },
      "source": [
        "**Создаем переменные**"
      ]
    },
    {
      "cell_type": "code",
      "metadata": {
        "id": "VJ3Y-PFAxCi_"
      },
      "source": [
        "data_dir = '/content/HuH/'\n",
        "train_dir = 'train'\n",
        "val_dir   = 'val'\n",
        "test_dir  = 'test'\n",
        "test_portion = 0.15\n",
        "val_portion = 0.15\n",
        "nb_images = 600"
      ],
      "execution_count": null,
      "outputs": []
    },
    {
      "cell_type": "markdown",
      "metadata": {
        "id": "FUDOrss-9wTd"
      },
      "source": [
        "**Функия создания папок**"
      ]
    },
    {
      "cell_type": "code",
      "metadata": {
        "id": "3P3Pl93TxTKW"
      },
      "source": [
        "def create_dir(dir_name):\n",
        "  \n",
        "  if os.path.exists(dir_name):\n",
        "    shutil.rmtree(dir_name)\n",
        "\n",
        "  os.makedirs(dir_name)\n",
        "  os.makedirs(os.path.join(dir_name, \"horses1\"))\n",
        "  os.makedirs(os.path.join(dir_name, \"humans1\"))"
      ],
      "execution_count": null,
      "outputs": []
    },
    {
      "cell_type": "markdown",
      "metadata": {
        "id": "KraDKG5z-WUz"
      },
      "source": [
        "**Создаем папки**"
      ]
    },
    {
      "cell_type": "code",
      "metadata": {
        "id": "JCtAEdkMxjzu"
      },
      "source": [
        "create_dir(train_dir)\n",
        "create_dir(test_dir)\n",
        "create_dir(val_dir)"
      ],
      "execution_count": null,
      "outputs": []
    },
    {
      "cell_type": "markdown",
      "metadata": {
        "id": "ehQZMWQr-bza"
      },
      "source": [
        "**Функция переименовывания изображений**"
      ]
    },
    {
      "cell_type": "code",
      "metadata": {
        "id": "8s85E8AF-pV3"
      },
      "source": [
        "def new_name_img (path):\n",
        "  for root, dirs, files in os.walk(path):\n",
        "    i = 0\n",
        "    for fil in files:\n",
        "      new_name = str(i) + \".png\"\n",
        "      new = os.path.join(root, new_name)\n",
        "      old = os.path.join(root, fil)\n",
        "      os.rename(old,new)\n",
        "      i+=1"
      ],
      "execution_count": null,
      "outputs": []
    },
    {
      "cell_type": "code",
      "metadata": {
        "id": "n3vuFN0t-3wv"
      },
      "source": [
        "new_name_img('/content/HuH/horses')"
      ],
      "execution_count": null,
      "outputs": []
    },
    {
      "cell_type": "code",
      "metadata": {
        "id": "J3VRNq_j_Crs"
      },
      "source": [
        "new_name_img('/content/HuH/humans')"
      ],
      "execution_count": null,
      "outputs": []
    },
    {
      "cell_type": "markdown",
      "metadata": {
        "id": "GjxPwo9T_reu"
      },
      "source": [
        "**Функция копирования изображений**"
      ]
    },
    {
      "cell_type": "code",
      "metadata": {
        "id": "qWjV3YYOxoaS"
      },
      "source": [
        "def copy_images(st, ed, src, dst):\n",
        "  for i in range(st, ed):\n",
        "    shutil.copy2(os.path.join(src, \"horses/\" + str(i) + \".png\"), os.path.join(dst, \"horses1\"))\n",
        "    shutil.copy2(os.path.join(src, \"humans/\" + str(i) + \".png\"), os.path.join(dst, \"humans1\"))"
      ],
      "execution_count": null,
      "outputs": []
    },
    {
      "cell_type": "markdown",
      "metadata": {
        "id": "TDGL8MaMAop3"
      },
      "source": [
        "**Распределяем кол-во изображений**"
      ]
    },
    {
      "cell_type": "code",
      "metadata": {
        "colab": {
          "base_uri": "https://localhost:8080/"
        },
        "id": "o27LXYGqx-6r",
        "outputId": "99dcbcd5-c28e-4c16-b60c-ff9696275fc2"
      },
      "source": [
        "start_val = int(nb_images * (1 - val_portion - test_portion))\n",
        "start_tst = int(nb_images * (1 - test_portion))\n",
        "print(start_val)\n",
        "print(start_tst)\n",
        "# train - 0..437\n",
        "# val   - 438 .. 531\n",
        "# test  - 532 .. 627"
      ],
      "execution_count": null,
      "outputs": [
        {
          "output_type": "stream",
          "name": "stdout",
          "text": [
            "420\n",
            "510\n"
          ]
        }
      ]
    },
    {
      "cell_type": "markdown",
      "metadata": {
        "id": "jnGkl45xAugR"
      },
      "source": [
        "**Копируем изображения**"
      ]
    },
    {
      "cell_type": "code",
      "metadata": {
        "id": "NDvRuG3Ize6K"
      },
      "source": [
        "copy_images(0, start_val, data_dir, train_dir)"
      ],
      "execution_count": null,
      "outputs": []
    },
    {
      "cell_type": "code",
      "metadata": {
        "id": "bbOLfUCBze6L"
      },
      "source": [
        "copy_images(start_val, start_tst, data_dir, val_dir)"
      ],
      "execution_count": null,
      "outputs": []
    },
    {
      "cell_type": "code",
      "metadata": {
        "id": "cCuQ_hCxze6L"
      },
      "source": [
        "copy_images(start_tst, nb_images, data_dir, test_dir)"
      ],
      "execution_count": null,
      "outputs": []
    },
    {
      "cell_type": "code",
      "metadata": {
        "id": "qJvM6OAAze6L"
      },
      "source": [
        "img_width, img_height = 224, 224\n",
        "input_shape = (img_width, img_height, 3)\n",
        "epochs = 2\n",
        "batch_size = 128\n",
        "nb_train   = 17500\n",
        "nb_val     = 3750\n",
        "nb_test    = 3750"
      ],
      "execution_count": null,
      "outputs": []
    },
    {
      "cell_type": "markdown",
      "metadata": {
        "id": "qR-7C6pSA13B"
      },
      "source": [
        "**Создаем генератор изображений**"
      ]
    },
    {
      "cell_type": "code",
      "metadata": {
        "id": "VNbBu7DCze6M"
      },
      "source": [
        "from keras.preprocessing.image import ImageDataGenerator"
      ],
      "execution_count": null,
      "outputs": []
    },
    {
      "cell_type": "code",
      "metadata": {
        "id": "J8WF_lfRze6M"
      },
      "source": [
        "datagen = ImageDataGenerator(rescale = 1./255)"
      ],
      "execution_count": null,
      "outputs": []
    },
    {
      "cell_type": "code",
      "metadata": {
        "colab": {
          "base_uri": "https://localhost:8080/"
        },
        "id": "RjYxp7keze6M",
        "outputId": "540b0b38-74d5-4100-ef99-1ce9493c9fa0"
      },
      "source": [
        "train_generator = datagen.flow_from_directory(train_dir, \n",
        "                                              target_size=(img_width, img_height),\n",
        "                                              batch_size = batch_size,\n",
        "                                              class_mode='binary')"
      ],
      "execution_count": null,
      "outputs": [
        {
          "output_type": "stream",
          "name": "stdout",
          "text": [
            "Found 840 images belonging to 2 classes.\n"
          ]
        }
      ]
    },
    {
      "cell_type": "code",
      "metadata": {
        "colab": {
          "base_uri": "https://localhost:8080/"
        },
        "id": "X1nD6JcFze6N",
        "outputId": "2526460a-f140-43c7-bea4-c129465325b0"
      },
      "source": [
        "val_generator = datagen.flow_from_directory(val_dir, \n",
        "                                              target_size=(img_width, img_height),\n",
        "                                              batch_size = batch_size,\n",
        "                                              class_mode='binary')"
      ],
      "execution_count": null,
      "outputs": [
        {
          "output_type": "stream",
          "name": "stdout",
          "text": [
            "Found 180 images belonging to 2 classes.\n"
          ]
        }
      ]
    },
    {
      "cell_type": "code",
      "metadata": {
        "colab": {
          "base_uri": "https://localhost:8080/"
        },
        "id": "iK2ieYOfze6N",
        "outputId": "5bf85724-c22c-4166-eaad-30efcd975940"
      },
      "source": [
        "test_generator = datagen.flow_from_directory(test_dir, \n",
        "                                              target_size=(img_width, img_height),\n",
        "                                              batch_size = batch_size,\n",
        "                                              class_mode='binary')"
      ],
      "execution_count": null,
      "outputs": [
        {
          "output_type": "stream",
          "name": "stdout",
          "text": [
            "Found 180 images belonging to 2 classes.\n"
          ]
        }
      ]
    },
    {
      "cell_type": "code",
      "metadata": {
        "id": "yjPC1fOCze6O"
      },
      "source": [
        "import tensorflow as tf\n",
        "from tensorflow.keras.applications.resnet import ResNet50\n",
        "from tensorflow.keras.preprocessing import image\n",
        "from tensorflow.keras.applications.resnet import preprocess_input, decode_predictions\n",
        "import numpy as np"
      ],
      "execution_count": null,
      "outputs": []
    },
    {
      "cell_type": "markdown",
      "metadata": {
        "id": "0toSHAyLA_yF"
      },
      "source": [
        "**Перенос обучениия в Keras**"
      ]
    },
    {
      "cell_type": "code",
      "metadata": {
        "id": "KY_cvjsDze6O",
        "colab": {
          "base_uri": "https://localhost:8080/"
        },
        "outputId": "4c33702c-6779-4df8-e7dc-d5b87ce0d01b"
      },
      "source": [
        "model_net = ResNet50(weights = 'imagenet', include_top = False, input_shape=(224, 224, 3))\n",
        "model_net.trainable=False"
      ],
      "execution_count": null,
      "outputs": [
        {
          "output_type": "stream",
          "name": "stdout",
          "text": [
            "Downloading data from https://storage.googleapis.com/tensorflow/keras-applications/resnet/resnet50_weights_tf_dim_ordering_tf_kernels_notop.h5\n",
            "94773248/94765736 [==============================] - 1s 0us/step\n",
            "94781440/94765736 [==============================] - 1s 0us/step\n"
          ]
        }
      ]
    },
    {
      "cell_type": "markdown",
      "metadata": {
        "id": "uolnHq1NBdrn"
      },
      "source": [
        "**Создание нейронной сети**"
      ]
    },
    {
      "cell_type": "code",
      "metadata": {
        "id": "mpuUJVAaze6O"
      },
      "source": [
        "from tensorflow.keras.models import Sequential\n",
        "from keras.layers.convolutional import Conv2D, MaxPooling2D\n",
        "from tensorflow.keras.layers import Dropout, Flatten, Activation, Dense\n",
        "from keras.preprocessing.image import ImageDataGenerator"
      ],
      "execution_count": null,
      "outputs": []
    },
    {
      "cell_type": "markdown",
      "metadata": {
        "id": "-du9tx2NBUQ0"
      },
      "source": [
        "**Создаем составную сеть**"
      ]
    },
    {
      "cell_type": "code",
      "metadata": {
        "id": "IeDr_0_1ze6P"
      },
      "source": [
        "model = Sequential()\n",
        "model.add(model_net)\n",
        "model.add(Flatten())\n",
        "model.add(Dense(256))\n",
        "model.add(Activation('relu'))\n",
        "model.add(Dropout(0.5))\n",
        "model.add(Dense(1))\n",
        "model.add(Activation('sigmoid'))"
      ],
      "execution_count": null,
      "outputs": []
    },
    {
      "cell_type": "markdown",
      "metadata": {
        "id": "xK3_p7SfC3L6"
      },
      "source": [
        "**Составная сеть**"
      ]
    },
    {
      "cell_type": "code",
      "metadata": {
        "colab": {
          "base_uri": "https://localhost:8080/"
        },
        "id": "x_L4MvXbze6P",
        "outputId": "eeb5ba5d-9db8-450c-a43a-31bc520e1e85"
      },
      "source": [
        "model.summary()"
      ],
      "execution_count": null,
      "outputs": [
        {
          "output_type": "stream",
          "name": "stdout",
          "text": [
            "Model: \"sequential\"\n",
            "_________________________________________________________________\n",
            " Layer (type)                Output Shape              Param #   \n",
            "=================================================================\n",
            " resnet50 (Functional)       (None, 7, 7, 2048)        23587712  \n",
            "                                                                 \n",
            " flatten (Flatten)           (None, 100352)            0         \n",
            "                                                                 \n",
            " dense (Dense)               (None, 256)               25690368  \n",
            "                                                                 \n",
            " activation (Activation)     (None, 256)               0         \n",
            "                                                                 \n",
            " dropout (Dropout)           (None, 256)               0         \n",
            "                                                                 \n",
            " dense_1 (Dense)             (None, 1)                 257       \n",
            "                                                                 \n",
            " activation_1 (Activation)   (None, 1)                 0         \n",
            "                                                                 \n",
            "=================================================================\n",
            "Total params: 49,278,337\n",
            "Trainable params: 25,690,625\n",
            "Non-trainable params: 23,587,712\n",
            "_________________________________________________________________\n"
          ]
        }
      ]
    },
    {
      "cell_type": "markdown",
      "metadata": {
        "id": "T9OvXnrjDCsq"
      },
      "source": [
        "**Компилируем составную сеть**"
      ]
    },
    {
      "cell_type": "code",
      "metadata": {
        "id": "YmgE3YYVze6Q"
      },
      "source": [
        "from tensorflow import keras\n",
        "opt = keras.optimizers.Adam(learning_rate = 1e-5)\n",
        "model.compile(loss = 'binary_crossentropy', optimizer = opt, metrics=['accuracy'])"
      ],
      "execution_count": null,
      "outputs": []
    },
    {
      "cell_type": "markdown",
      "metadata": {
        "id": "Y5ylPmhHDGf3"
      },
      "source": [
        "**Обучаем нейронную сеть**"
      ]
    },
    {
      "cell_type": "code",
      "metadata": {
        "colab": {
          "base_uri": "https://localhost:8080/"
        },
        "id": "aosle20Fze6Q",
        "outputId": "f0cb4749-3001-4586-a783-d52be76d4f5c"
      },
      "source": [
        "model.fit_generator(train_generator, \n",
        "                    steps_per_epoch = nb_train // batch_size,\n",
        "                    epochs = epochs,\n",
        "                    validation_data  = val_generator,\n",
        "                    validation_steps = nb_val // batch_size)"
      ],
      "execution_count": null,
      "outputs": [
        {
          "output_type": "stream",
          "name": "stderr",
          "text": [
            "/usr/local/lib/python3.7/dist-packages/ipykernel_launcher.py:5: UserWarning: `Model.fit_generator` is deprecated and will be removed in a future version. Please use `Model.fit`, which supports generators.\n",
            "  \"\"\"\n"
          ]
        },
        {
          "output_type": "stream",
          "name": "stdout",
          "text": [
            "Epoch 1/2\n",
            "  7/136 [>.............................] - ETA: 2:29 - loss: 0.7853 - accuracy: 0.5417WARNING:tensorflow:Your input ran out of data; interrupting training. Make sure that your dataset or generator can generate at least `steps_per_epoch * epochs` batches (in this case, 272 batches). You may need to use the repeat() function when building your dataset.\n",
            "WARNING:tensorflow:Your input ran out of data; interrupting training. Make sure that your dataset or generator can generate at least `steps_per_epoch * epochs` batches (in this case, 29 batches). You may need to use the repeat() function when building your dataset.\n",
            "136/136 [==============================] - 31s 105ms/step - loss: 0.7853 - accuracy: 0.5417 - val_loss: 0.6122 - val_accuracy: 0.6389\n"
          ]
        },
        {
          "output_type": "execute_result",
          "data": {
            "text/plain": [
              "<keras.callbacks.History at 0x7fe8c0291ed0>"
            ]
          },
          "metadata": {},
          "execution_count": 36
        }
      ]
    },
    {
      "cell_type": "markdown",
      "metadata": {
        "id": "IbeWEV-LDOeQ"
      },
      "source": [
        "**Оцениваем качество работы сети**"
      ]
    },
    {
      "cell_type": "code",
      "metadata": {
        "colab": {
          "base_uri": "https://localhost:8080/"
        },
        "id": "_rEsNgvPze6R",
        "outputId": "e75b467f-9fc4-46ca-fcc7-6aaad03cd5c6"
      },
      "source": [
        "scores = model.evaluate_generator(test_generator, nb_test // batch_size)"
      ],
      "execution_count": null,
      "outputs": [
        {
          "output_type": "stream",
          "name": "stderr",
          "text": [
            "/usr/local/lib/python3.7/dist-packages/ipykernel_launcher.py:1: UserWarning: `Model.evaluate_generator` is deprecated and will be removed in a future version. Please use `Model.evaluate`, which supports generators.\n",
            "  \"\"\"Entry point for launching an IPython kernel.\n"
          ]
        },
        {
          "output_type": "stream",
          "name": "stdout",
          "text": [
            "WARNING:tensorflow:Your input ran out of data; interrupting training. Make sure that your dataset or generator can generate at least `steps_per_epoch * epochs` batches (in this case, 29 batches). You may need to use the repeat() function when building your dataset.\n"
          ]
        }
      ]
    },
    {
      "cell_type": "code",
      "metadata": {
        "colab": {
          "base_uri": "https://localhost:8080/"
        },
        "id": "c9225NnFze6R",
        "outputId": "4c3e9e86-64ee-436b-b64f-a7fdc8267f8d"
      },
      "source": [
        "print(\"Аккуратность на тестовых данных: %.2f%%\" %(scores[1]*100))"
      ],
      "execution_count": null,
      "outputs": [
        {
          "output_type": "stream",
          "name": "stdout",
          "text": [
            "Аккуратность на тестовых данных: 85.89%\n"
          ]
        }
      ]
    }
  ]
}