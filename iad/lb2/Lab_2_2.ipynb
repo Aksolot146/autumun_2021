{
  "nbformat": 4,
  "nbformat_minor": 0,
  "metadata": {
    "colab": {
      "name": "Lab 2.2",
      "provenance": [],
      "collapsed_sections": []
    },
    "kernelspec": {
      "name": "python3",
      "display_name": "Python 3"
    },
    "language_info": {
      "name": "python"
    },
    "accelerator": "GPU"
  },
  "cells": [
    {
      "cell_type": "code",
      "metadata": {
        "colab": {
          "base_uri": "https://localhost:8080/"
        },
        "id": "A_bFisYOpMDJ",
        "outputId": "4c60c882-f9d6-4c0f-bb88-981020d8e8e5"
      },
      "source": [
        "!wget https://download.microsoft.com/download/3/E/1/3E1C3F21-ECDB-4869-8368-6DEBA77B919F/kagglecatsanddogs_3367a.zip"
      ],
      "execution_count": null,
      "outputs": [
        {
          "output_type": "stream",
          "name": "stdout",
          "text": [
            "--2021-12-02 13:49:04--  https://download.microsoft.com/download/3/E/1/3E1C3F21-ECDB-4869-8368-6DEBA77B919F/kagglecatsanddogs_3367a.zip\n",
            "Resolving download.microsoft.com (download.microsoft.com)... 23.78.216.154, 2600:1417:76:49f::e59, 2600:1417:76:495::e59\n",
            "Connecting to download.microsoft.com (download.microsoft.com)|23.78.216.154|:443... connected.\n",
            "HTTP request sent, awaiting response... 200 OK\n",
            "Length: 824894548 (787M) [application/octet-stream]\n",
            "Saving to: ‘kagglecatsanddogs_3367a.zip’\n",
            "\n",
            "kagglecatsanddogs_3 100%[===================>] 786.68M   108MB/s    in 7.5s    \n",
            "\n",
            "2021-12-02 13:49:12 (105 MB/s) - ‘kagglecatsanddogs_3367a.zip’ saved [824894548/824894548]\n",
            "\n"
          ]
        }
      ]
    },
    {
      "cell_type": "code",
      "metadata": {
        "id": "MTjCV_iKpP2w"
      },
      "source": [
        "!unzip kagglecatsanddogs_3367a.zip"
      ],
      "execution_count": null,
      "outputs": []
    },
    {
      "cell_type": "code",
      "metadata": {
        "id": "LirGoyaspR8C"
      },
      "source": [
        "import shutil\n",
        "import os"
      ],
      "execution_count": null,
      "outputs": []
    },
    {
      "cell_type": "code",
      "metadata": {
        "id": "JjaKSZn2yKUB"
      },
      "source": [
        "#Каталог с набором данных\n",
        "data_dir = '/content/PetImages/'\n",
        "#Каталог с данными для обучения\n",
        "train_dir = 'train'\n",
        "#Каталог с данными для проверки\n",
        "val_dir   = 'val'\n",
        "#Каталог с данными для тестирования\n",
        "test_dir  = 'test'\n",
        "#Часть набора данных для тестривания\n",
        "test_portion = 0.15\n",
        "#Часть набора данных для проверки\n",
        "val_portion = 0.15\n",
        "#Количество элементов данных в одном классе\n",
        "nb_images = 12500"
      ],
      "execution_count": null,
      "outputs": []
    },
    {
      "cell_type": "code",
      "metadata": {
        "id": "XBbNiB-5pXQa"
      },
      "source": [
        "def create_dir(dir_name):\n",
        "  \n",
        "  if os.path.exists(dir_name):\n",
        "    shutil.rmtree(dir_name)\n",
        "\n",
        "  os.makedirs(dir_name)\n",
        "  os.makedirs(os.path.join(dir_name, \"cats\"))\n",
        "  os.makedirs(os.path.join(dir_name, \"dogs\"))"
      ],
      "execution_count": null,
      "outputs": []
    },
    {
      "cell_type": "code",
      "metadata": {
        "id": "1lqW1y7npY3o"
      },
      "source": [
        "create_dir(train_dir)\n",
        "create_dir(test_dir)\n",
        "create_dir(val_dir)"
      ],
      "execution_count": null,
      "outputs": []
    },
    {
      "cell_type": "code",
      "metadata": {
        "id": "BlY_S495pbDQ"
      },
      "source": [
        "def copy_images(st, ed, src, dst):\n",
        "  for i in range(st, ed):\n",
        "    shutil.copy2(os.path.join(src, \"Cat/\" + str(i) + \".jpg\"), os.path.join(dst, \"cats\"))\n",
        "    shutil.copy2(os.path.join(src, \"Dog/\" + str(i) + \".jpg\"), os.path.join(dst, \"dogs\"))"
      ],
      "execution_count": null,
      "outputs": []
    },
    {
      "cell_type": "code",
      "metadata": {
        "colab": {
          "base_uri": "https://localhost:8080/"
        },
        "id": "de2G1cq1pdN0",
        "outputId": "7dbd0f14-9470-4c3e-eaee-8b495a53df1d"
      },
      "source": [
        "start_val = int(nb_images * (1 - val_portion - test_portion))\n",
        "start_tst = int(nb_images * (1 - test_portion))\n",
        "print(start_val)\n",
        "print(start_tst)\n",
        "# train - 0..8749\n",
        "# val   - 8750 .. 10624\n",
        "# test  - 10625 .. 12500"
      ],
      "execution_count": null,
      "outputs": [
        {
          "output_type": "stream",
          "name": "stdout",
          "text": [
            "8750\n",
            "10625\n"
          ]
        }
      ]
    },
    {
      "cell_type": "code",
      "metadata": {
        "id": "wRCJIeHLpeGy"
      },
      "source": [
        "# train\n",
        "copy_images(0, start_val, data_dir, train_dir)"
      ],
      "execution_count": null,
      "outputs": []
    },
    {
      "cell_type": "code",
      "metadata": {
        "id": "toC6k4mfpgzJ"
      },
      "source": [
        "copy_images(start_val, start_tst, data_dir, val_dir)"
      ],
      "execution_count": null,
      "outputs": []
    },
    {
      "cell_type": "code",
      "metadata": {
        "id": "WXjNdnCWpiow"
      },
      "source": [
        "copy_images(start_tst, nb_images, data_dir, test_dir)"
      ],
      "execution_count": null,
      "outputs": []
    },
    {
      "cell_type": "code",
      "metadata": {
        "id": "KgS5dBDCplY0"
      },
      "source": [
        "img_width, img_height = 150, 150\n",
        "input_shape = (img_width, img_height, 3)\n",
        "epochs = 2\n",
        "batch_size = 128\n",
        "nb_train   = 17500\n",
        "nb_val     = 3750\n",
        "nb_test    = 3750"
      ],
      "execution_count": null,
      "outputs": []
    },
    {
      "cell_type": "code",
      "metadata": {
        "id": "qH0CNdOzk_aO"
      },
      "source": [
        "from keras.preprocessing.image import ImageDataGenerator"
      ],
      "execution_count": null,
      "outputs": []
    },
    {
      "cell_type": "code",
      "metadata": {
        "id": "aJ6agNnApoL2"
      },
      "source": [
        "datagen = ImageDataGenerator(rescale = 1./255)"
      ],
      "execution_count": null,
      "outputs": []
    },
    {
      "cell_type": "code",
      "metadata": {
        "colab": {
          "base_uri": "https://localhost:8080/"
        },
        "id": "Rv1ysaLLpqC2",
        "outputId": "aae4510a-9e12-41c5-e792-e3b33202124b"
      },
      "source": [
        "train_generator = datagen.flow_from_directory(train_dir, \n",
        "                                              target_size=(img_width, img_height),\n",
        "                                              batch_size = batch_size,\n",
        "                                              class_mode='binary')"
      ],
      "execution_count": null,
      "outputs": [
        {
          "output_type": "stream",
          "name": "stdout",
          "text": [
            "Found 17500 images belonging to 2 classes.\n"
          ]
        }
      ]
    },
    {
      "cell_type": "code",
      "metadata": {
        "colab": {
          "base_uri": "https://localhost:8080/"
        },
        "id": "sY_Pv6nMpqis",
        "outputId": "76a017ad-d9c1-4dd6-fcbd-a5abc80c842d"
      },
      "source": [
        "val_generator = datagen.flow_from_directory(val_dir, \n",
        "                                              target_size=(img_width, img_height),\n",
        "                                              batch_size = batch_size,\n",
        "                                              class_mode='binary')"
      ],
      "execution_count": null,
      "outputs": [
        {
          "output_type": "stream",
          "name": "stdout",
          "text": [
            "Found 3750 images belonging to 2 classes.\n"
          ]
        }
      ]
    },
    {
      "cell_type": "code",
      "metadata": {
        "colab": {
          "base_uri": "https://localhost:8080/"
        },
        "id": "2R3tHko5psEc",
        "outputId": "0e19c051-484f-46a7-b3bc-67be756fe9d7"
      },
      "source": [
        "test_generator = datagen.flow_from_directory(test_dir, \n",
        "                                              target_size=(img_width, img_height),\n",
        "                                              batch_size = batch_size,\n",
        "                                              class_mode='binary')"
      ],
      "execution_count": null,
      "outputs": [
        {
          "output_type": "stream",
          "name": "stdout",
          "text": [
            "Found 3750 images belonging to 2 classes.\n"
          ]
        }
      ]
    },
    {
      "cell_type": "code",
      "metadata": {
        "id": "RByn0AzGptWg"
      },
      "source": [
        "!cp /content/train/cats/667.jpg /content/train/cats/666.jpg\n",
        "!cp /content/test/dogs/11703.jpg /content/test/dogs/11702.jpg"
      ],
      "execution_count": null,
      "outputs": []
    },
    {
      "cell_type": "code",
      "metadata": {
        "id": "teGVRjHek8tS"
      },
      "source": [
        "%tensorflow_version 2.x\n",
        "from tensorflow.keras.applications.inception_v3 import InceptionV3\n",
        "from tensorflow.keras.preprocessing import image\n",
        "from tensorflow.keras.applications.inception_v3 import preprocess_input, decode_predictions\n",
        "import numpy as np"
      ],
      "execution_count": null,
      "outputs": []
    },
    {
      "cell_type": "code",
      "metadata": {
        "id": "vPs4YoGPlJA5"
      },
      "source": [
        "inception_v3_net = InceptionV3(weights = 'imagenet', include_top = False, input_shape=(150, 150, 3))\n",
        "inception_v3_net.trainable=False"
      ],
      "execution_count": null,
      "outputs": []
    },
    {
      "cell_type": "code",
      "metadata": {
        "id": "1Mc0mAn7nXW_"
      },
      "source": [
        "from tensorflow.keras.models import Sequential\n",
        "from keras.layers.convolutional import Conv2D, MaxPooling2D\n",
        "from tensorflow.keras.layers import Dropout, Flatten, Activation, Dense\n",
        "from keras.preprocessing.image import ImageDataGenerator"
      ],
      "execution_count": null,
      "outputs": []
    },
    {
      "cell_type": "code",
      "metadata": {
        "id": "DOnrSAtinPfr"
      },
      "source": [
        "model = Sequential()\n",
        "model.add(inception_v3_net)\n",
        "model.add(Flatten())\n",
        "model.add(Dense(256))\n",
        "model.add(Activation('relu'))\n",
        "model.add(Dropout(0.5))\n",
        "model.add(Dense(1))\n",
        "model.add(Activation('sigmoid'))"
      ],
      "execution_count": null,
      "outputs": []
    },
    {
      "cell_type": "code",
      "metadata": {
        "colab": {
          "base_uri": "https://localhost:8080/"
        },
        "id": "A0AtDmihns3y",
        "outputId": "46660fc0-6b24-4393-d6b7-6adcaa3c4cde"
      },
      "source": [
        "model.summary()"
      ],
      "execution_count": null,
      "outputs": [
        {
          "output_type": "stream",
          "name": "stdout",
          "text": [
            "Model: \"sequential\"\n",
            "_________________________________________________________________\n",
            " Layer (type)                Output Shape              Param #   \n",
            "=================================================================\n",
            " inception_v3 (Functional)   (None, 3, 3, 2048)        21802784  \n",
            "                                                                 \n",
            " flatten (Flatten)           (None, 18432)             0         \n",
            "                                                                 \n",
            " dense (Dense)               (None, 256)               4718848   \n",
            "                                                                 \n",
            " activation_94 (Activation)  (None, 256)               0         \n",
            "                                                                 \n",
            " dropout (Dropout)           (None, 256)               0         \n",
            "                                                                 \n",
            " dense_1 (Dense)             (None, 1)                 257       \n",
            "                                                                 \n",
            " activation_95 (Activation)  (None, 1)                 0         \n",
            "                                                                 \n",
            "=================================================================\n",
            "Total params: 26,521,889\n",
            "Trainable params: 4,719,105\n",
            "Non-trainable params: 21,802,784\n",
            "_________________________________________________________________\n"
          ]
        }
      ]
    },
    {
      "cell_type": "code",
      "metadata": {
        "id": "L836J4-Un6f0"
      },
      "source": [
        "from tensorflow import keras\n",
        "opt = keras.optimizers.Adam(learning_rate = 1e-5)\n",
        "model.compile(loss = 'binary_crossentropy', optimizer = opt, metrics=['accuracy'])"
      ],
      "execution_count": null,
      "outputs": []
    },
    {
      "cell_type": "code",
      "metadata": {
        "id": "Pp22wUCrp3oo"
      },
      "source": [
        "model.fit_generator(train_generator, \n",
        "                    steps_per_epoch = nb_train // batch_size,\n",
        "                    epochs = epochs,\n",
        "                    validation_data  = val_generator,\n",
        "                    validation_steps = nb_val // batch_size)"
      ],
      "execution_count": null,
      "outputs": []
    },
    {
      "cell_type": "code",
      "metadata": {
        "id": "dTYzGsHBrTgx",
        "colab": {
          "base_uri": "https://localhost:8080/"
        },
        "outputId": "d859b532-2cbd-4d71-9c04-65facc21fb06"
      },
      "source": [
        "scores = model.evaluate_generator(test_generator, nb_test // batch_size)"
      ],
      "execution_count": null,
      "outputs": [
        {
          "output_type": "stream",
          "name": "stderr",
          "text": [
            "/usr/local/lib/python3.7/dist-packages/ipykernel_launcher.py:1: UserWarning: `Model.evaluate_generator` is deprecated and will be removed in a future version. Please use `Model.evaluate`, which supports generators.\n",
            "  \"\"\"Entry point for launching an IPython kernel.\n"
          ]
        }
      ]
    },
    {
      "cell_type": "code",
      "metadata": {
        "colab": {
          "base_uri": "https://localhost:8080/"
        },
        "id": "jWFdnQxWqG7k",
        "outputId": "0cd4dd8b-69cc-4452-d4b8-28f62f15fdf5"
      },
      "source": [
        "print(scores)"
      ],
      "execution_count": null,
      "outputs": [
        {
          "output_type": "stream",
          "name": "stdout",
          "text": [
            "[0.10300368815660477, 0.9598599076271057]\n"
          ]
        }
      ]
    }
  ]
}