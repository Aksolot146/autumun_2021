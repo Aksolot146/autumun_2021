{
  "nbformat": 4,
  "nbformat_minor": 0,
  "metadata": {
    "colab": {
      "name": "lab2.3",
      "provenance": [],
      "collapsed_sections": []
    },
    "kernelspec": {
      "name": "python3",
      "display_name": "Python 3"
    },
    "language_info": {
      "name": "python"
    }
  },
  "cells": [
    {
      "cell_type": "code",
      "metadata": {
        "colab": {
          "base_uri": "https://localhost:8080/"
        },
        "id": "HisehaNJsK6k",
        "outputId": "a9ab52ae-ba5e-49d8-dcb5-9272cb67eccc"
      },
      "source": [
        "!wget https://storage.googleapis.com/laurencemoroney-blog.appspot.com/horse-or-human.zip"
      ],
      "execution_count": null,
      "outputs": [
        {
          "output_type": "stream",
          "name": "stdout",
          "text": [
            "--2021-12-01 19:01:36--  https://storage.googleapis.com/laurencemoroney-blog.appspot.com/horse-or-human.zip\n",
            "Resolving storage.googleapis.com (storage.googleapis.com)... 209.85.147.128, 142.250.125.128, 142.250.136.128, ...\n",
            "Connecting to storage.googleapis.com (storage.googleapis.com)|209.85.147.128|:443... connected.\n",
            "HTTP request sent, awaiting response... 200 OK\n",
            "Length: 149574867 (143M) [application/zip]\n",
            "Saving to: ‘horse-or-human.zip’\n",
            "\n",
            "horse-or-human.zip  100%[===================>] 142.65M   135MB/s    in 1.1s    \n",
            "\n",
            "2021-12-01 19:01:37 (135 MB/s) - ‘horse-or-human.zip’ saved [149574867/149574867]\n",
            "\n"
          ]
        }
      ]
    },
    {
      "cell_type": "code",
      "metadata": {
        "id": "SJVvyqwmsQtu"
      },
      "source": [
        "!unzip horse-or-human.zip"
      ],
      "execution_count": null,
      "outputs": []
    },
    {
      "cell_type": "code",
      "metadata": {
        "colab": {
          "base_uri": "https://localhost:8080/"
        },
        "id": "SnrdxVdPsYt3",
        "outputId": "425f7bcd-aef8-482f-9931-4d787db7db32"
      },
      "source": [
        "!wget https://storage.googleapis.com/laurencemoroney-blog.appspot.com/validation-horse-or-human.zip"
      ],
      "execution_count": null,
      "outputs": [
        {
          "output_type": "stream",
          "name": "stdout",
          "text": [
            "--2021-12-01 19:01:45--  https://storage.googleapis.com/laurencemoroney-blog.appspot.com/validation-horse-or-human.zip\n",
            "Resolving storage.googleapis.com (storage.googleapis.com)... 142.250.128.128, 142.251.6.128, 142.250.159.128, ...\n",
            "Connecting to storage.googleapis.com (storage.googleapis.com)|142.250.128.128|:443... connected.\n",
            "HTTP request sent, awaiting response... 200 OK\n",
            "Length: 11480187 (11M) [application/zip]\n",
            "Saving to: ‘validation-horse-or-human.zip’\n",
            "\n",
            "\r          validatio   0%[                    ]       0  --.-KB/s               \rvalidation-horse-or 100%[===================>]  10.95M  --.-KB/s    in 0.07s   \n",
            "\n",
            "2021-12-01 19:01:45 (168 MB/s) - ‘validation-horse-or-human.zip’ saved [11480187/11480187]\n",
            "\n"
          ]
        }
      ]
    },
    {
      "cell_type": "code",
      "metadata": {
        "id": "gwgL97jGseLR"
      },
      "source": [
        "!unzip validation-horse-or-human.zip"
      ],
      "execution_count": null,
      "outputs": []
    },
    {
      "cell_type": "code",
      "metadata": {
        "id": "91DSGFxsTPkv"
      },
      "source": [
        "i = 0\n",
        "for filename in os.listdir(\"/content/horses\"):\n",
        "  os.rename(f\"/content/horses/{filename}\", f\"/content/horses/{i}.png\")\n",
        "  i+=1"
      ],
      "execution_count": null,
      "outputs": []
    },
    {
      "cell_type": "code",
      "metadata": {
        "id": "kZgaLJZUTQNn"
      },
      "source": [
        "i = 0\n",
        "for filename in os.listdir(\"/content/humans\"):\n",
        "  os.rename(f\"/content/humans/{filename}\", f\"/content/humans/{i}.png\")\n",
        "  i+=1"
      ],
      "execution_count": null,
      "outputs": []
    },
    {
      "cell_type": "code",
      "metadata": {
        "id": "LirGoyaspR8C"
      },
      "source": [
        "import shutil\n",
        "import os"
      ],
      "execution_count": null,
      "outputs": []
    },
    {
      "cell_type": "code",
      "metadata": {
        "id": "L9e6b1bRCDBF"
      },
      "source": [
        "!mkdir /content/HuHImages"
      ],
      "execution_count": null,
      "outputs": []
    },
    {
      "cell_type": "code",
      "metadata": {
        "id": "3fkLQbwOHx9O"
      },
      "source": [
        "!cp -r /content/horses /content/HuHImages"
      ],
      "execution_count": null,
      "outputs": []
    },
    {
      "cell_type": "code",
      "metadata": {
        "id": "ptPgi6TuH2c-"
      },
      "source": [
        "!cp -r /content/humans /content/HuHImages"
      ],
      "execution_count": null,
      "outputs": []
    },
    {
      "cell_type": "code",
      "metadata": {
        "id": "JjaKSZn2yKUB"
      },
      "source": [
        "#Каталог с набором данных\n",
        "data_dir = '/content/HuHImages/'\n",
        "#Каталог с данными для обучения\n",
        "train_dir = 'train'\n",
        "#Каталог с данными для проверки\n",
        "val_dir   = 'val'\n",
        "#Каталог с данными для тестирования\n",
        "test_dir  = 'test'\n",
        "#Часть набора данных для тестривания\n",
        "test_portion = 0.15\n",
        "#Часть набора данных для проверки\n",
        "val_portion = 0.15\n",
        "#Количество элементов данных в одном классе\n",
        "nb_images = 500"
      ],
      "execution_count": null,
      "outputs": []
    },
    {
      "cell_type": "code",
      "metadata": {
        "id": "XBbNiB-5pXQa"
      },
      "source": [
        "def create_dir(dir_name):\n",
        "  \n",
        "  if os.path.exists(dir_name):\n",
        "    shutil.rmtree(dir_name)\n",
        "\n",
        "  os.makedirs(dir_name)\n",
        "  os.makedirs(os.path.join(dir_name, \"horses\"))\n",
        "  os.makedirs(os.path.join(dir_name, \"humans\"))"
      ],
      "execution_count": null,
      "outputs": []
    },
    {
      "cell_type": "code",
      "metadata": {
        "id": "1lqW1y7npY3o"
      },
      "source": [
        "create_dir(train_dir)\n",
        "create_dir(test_dir)\n",
        "create_dir(val_dir)"
      ],
      "execution_count": null,
      "outputs": []
    },
    {
      "cell_type": "code",
      "metadata": {
        "id": "BlY_S495pbDQ"
      },
      "source": [
        "def copy_images(st, ed, src, dst):\n",
        "  for i in range(st, ed):\n",
        "    shutil.copy2(os.path.join(src, \"horses/\" + str(i) + \".png\"), os.path.join(dst, \"horses\"))\n",
        "    shutil.copy2(os.path.join(src, \"humans/\" + str(i) + \".png\"), os.path.join(dst, \"humans\"))"
      ],
      "execution_count": null,
      "outputs": []
    },
    {
      "cell_type": "code",
      "metadata": {
        "colab": {
          "base_uri": "https://localhost:8080/"
        },
        "id": "de2G1cq1pdN0",
        "outputId": "7f30448f-2450-4a68-f7af-f268a539fbf1"
      },
      "source": [
        "start_val = int(nb_images * (1 - val_portion - test_portion))\n",
        "start_tst = int(nb_images * (1 - test_portion))\n",
        "print(start_val)\n",
        "print(start_tst)\n",
        "# train - 0..8749\n",
        "# val   - 8750 .. 10624\n",
        "# test  - 10625 .. 12500"
      ],
      "execution_count": null,
      "outputs": [
        {
          "output_type": "stream",
          "name": "stdout",
          "text": [
            "350\n",
            "425\n"
          ]
        }
      ]
    },
    {
      "cell_type": "code",
      "metadata": {
        "id": "wRCJIeHLpeGy"
      },
      "source": [
        "# train\n",
        "copy_images(0, start_val, data_dir, train_dir)"
      ],
      "execution_count": null,
      "outputs": []
    },
    {
      "cell_type": "code",
      "metadata": {
        "id": "toC6k4mfpgzJ"
      },
      "source": [
        "copy_images(start_val, start_tst, data_dir, val_dir)"
      ],
      "execution_count": null,
      "outputs": []
    },
    {
      "cell_type": "code",
      "metadata": {
        "id": "WXjNdnCWpiow"
      },
      "source": [
        "copy_images(start_tst, nb_images, data_dir, test_dir)"
      ],
      "execution_count": null,
      "outputs": []
    },
    {
      "cell_type": "code",
      "metadata": {
        "id": "KgS5dBDCplY0"
      },
      "source": [
        "img_width, img_height = 150, 150\n",
        "input_shape = (img_width, img_height, 3)\n",
        "epochs = 1\n",
        "batch_size = 20\n",
        "nb_train   = 700\n",
        "nb_val     = 150\n",
        "nb_test    = 150"
      ],
      "execution_count": null,
      "outputs": []
    },
    {
      "cell_type": "code",
      "metadata": {
        "id": "qH0CNdOzk_aO"
      },
      "source": [
        "from keras.preprocessing.image import ImageDataGenerator"
      ],
      "execution_count": null,
      "outputs": []
    },
    {
      "cell_type": "code",
      "metadata": {
        "id": "aJ6agNnApoL2"
      },
      "source": [
        "datagen = ImageDataGenerator(rescale = 1./255)"
      ],
      "execution_count": null,
      "outputs": []
    },
    {
      "cell_type": "code",
      "metadata": {
        "colab": {
          "base_uri": "https://localhost:8080/"
        },
        "id": "Rv1ysaLLpqC2",
        "outputId": "936b6b3d-f4a4-4f9d-ea29-92b4fde612d1"
      },
      "source": [
        "train_generator = datagen.flow_from_directory(train_dir, \n",
        "                                              target_size=(img_width, img_height),\n",
        "                                              batch_size = batch_size,\n",
        "                                              class_mode='binary')"
      ],
      "execution_count": null,
      "outputs": [
        {
          "output_type": "stream",
          "name": "stdout",
          "text": [
            "Found 700 images belonging to 2 classes.\n"
          ]
        }
      ]
    },
    {
      "cell_type": "code",
      "metadata": {
        "colab": {
          "base_uri": "https://localhost:8080/"
        },
        "id": "sY_Pv6nMpqis",
        "outputId": "11c11ff3-ae90-4216-cb55-c4e29ced3d3c"
      },
      "source": [
        "val_generator = datagen.flow_from_directory(val_dir, \n",
        "                                              target_size=(img_width, img_height),\n",
        "                                              batch_size = batch_size,\n",
        "                                              class_mode='binary')"
      ],
      "execution_count": null,
      "outputs": [
        {
          "output_type": "stream",
          "name": "stdout",
          "text": [
            "Found 150 images belonging to 2 classes.\n"
          ]
        }
      ]
    },
    {
      "cell_type": "code",
      "metadata": {
        "colab": {
          "base_uri": "https://localhost:8080/"
        },
        "id": "2R3tHko5psEc",
        "outputId": "3cf3f3e6-b0c2-45c6-afd0-b84560e5c130"
      },
      "source": [
        "test_generator = datagen.flow_from_directory(test_dir, \n",
        "                                              target_size=(img_width, img_height),\n",
        "                                              batch_size = batch_size,\n",
        "                                              class_mode='binary')"
      ],
      "execution_count": null,
      "outputs": [
        {
          "output_type": "stream",
          "name": "stdout",
          "text": [
            "Found 150 images belonging to 2 classes.\n"
          ]
        }
      ]
    },
    {
      "cell_type": "code",
      "metadata": {
        "id": "teGVRjHek8tS"
      },
      "source": [
        "%tensorflow_version 2.x\n",
        "from tensorflow.keras.applications.inception_v3 import InceptionV3\n",
        "from tensorflow.keras.preprocessing import image\n",
        "from tensorflow.keras.applications.inception_v3 import preprocess_input, decode_predictions\n",
        "import numpy as np"
      ],
      "execution_count": null,
      "outputs": []
    },
    {
      "cell_type": "code",
      "metadata": {
        "id": "vPs4YoGPlJA5"
      },
      "source": [
        "inception_v3_net = InceptionV3(weights = 'imagenet', include_top = False, input_shape=(150, 150, 3))\n",
        "inception_v3_net.trainable=False"
      ],
      "execution_count": null,
      "outputs": []
    },
    {
      "cell_type": "code",
      "metadata": {
        "id": "1Mc0mAn7nXW_"
      },
      "source": [
        "from tensorflow.keras.models import Sequential\n",
        "from keras.layers.convolutional import Conv2D, MaxPooling2D\n",
        "from tensorflow.keras.layers import Dropout, Flatten, Activation, Dense\n",
        "from keras.preprocessing.image import ImageDataGenerator"
      ],
      "execution_count": null,
      "outputs": []
    },
    {
      "cell_type": "code",
      "metadata": {
        "id": "DOnrSAtinPfr"
      },
      "source": [
        "model = Sequential()\n",
        "model.add(inception_v3_net)\n",
        "model.add(Flatten())\n",
        "model.add(Dense(256))\n",
        "model.add(Activation('relu'))\n",
        "model.add(Dropout(0.5))\n",
        "model.add(Dense(1))\n",
        "model.add(Activation('sigmoid'))"
      ],
      "execution_count": null,
      "outputs": []
    },
    {
      "cell_type": "code",
      "metadata": {
        "colab": {
          "base_uri": "https://localhost:8080/"
        },
        "id": "A0AtDmihns3y",
        "outputId": "67284610-57de-4f1a-8029-a5982ac9fee8"
      },
      "source": [
        "model.summary()"
      ],
      "execution_count": null,
      "outputs": [
        {
          "output_type": "stream",
          "name": "stdout",
          "text": [
            "Model: \"sequential_4\"\n",
            "_________________________________________________________________\n",
            " Layer (type)                Output Shape              Param #   \n",
            "=================================================================\n",
            " inception_v3 (Functional)   (None, 3, 3, 2048)        21802784  \n",
            "                                                                 \n",
            " flatten_4 (Flatten)         (None, 18432)             0         \n",
            "                                                                 \n",
            " dense_8 (Dense)             (None, 256)               4718848   \n",
            "                                                                 \n",
            " activation_478 (Activation)  (None, 256)              0         \n",
            "                                                                 \n",
            " dropout_4 (Dropout)         (None, 256)               0         \n",
            "                                                                 \n",
            " dense_9 (Dense)             (None, 1)                 257       \n",
            "                                                                 \n",
            " activation_479 (Activation)  (None, 1)                0         \n",
            "                                                                 \n",
            "=================================================================\n",
            "Total params: 26,521,889\n",
            "Trainable params: 4,719,105\n",
            "Non-trainable params: 21,802,784\n",
            "_________________________________________________________________\n"
          ]
        }
      ]
    },
    {
      "cell_type": "code",
      "metadata": {
        "id": "L836J4-Un6f0"
      },
      "source": [
        "from tensorflow import keras\n",
        "opt = keras.optimizers.Adam(learning_rate = 1e-5)\n",
        "model.compile(loss = 'binary_crossentropy', optimizer = opt, metrics=['accuracy'])"
      ],
      "execution_count": null,
      "outputs": []
    },
    {
      "cell_type": "code",
      "metadata": {
        "colab": {
          "base_uri": "https://localhost:8080/"
        },
        "id": "Pp22wUCrp3oo",
        "outputId": "6dd73f17-7276-496c-bb53-bacefe8172bd"
      },
      "source": [
        "model.fit_generator(train_generator, \n",
        "                    steps_per_epoch = nb_train // batch_size,\n",
        "                    epochs = epochs,\n",
        "                    validation_data  = val_generator,\n",
        "                    validation_steps = nb_val // batch_size)"
      ],
      "execution_count": null,
      "outputs": [
        {
          "output_type": "stream",
          "name": "stderr",
          "text": [
            "/usr/local/lib/python3.7/dist-packages/ipykernel_launcher.py:5: UserWarning: `Model.fit_generator` is deprecated and will be removed in a future version. Please use `Model.fit`, which supports generators.\n",
            "  \"\"\"\n"
          ]
        },
        {
          "output_type": "stream",
          "name": "stdout",
          "text": [
            "35/35 [==============================] - 45s 1s/step - loss: 0.5141 - accuracy: 0.8043 - val_loss: 0.0267 - val_accuracy: 0.9929\n"
          ]
        },
        {
          "output_type": "execute_result",
          "data": {
            "text/plain": [
              "<keras.callbacks.History at 0x7f746c7c7650>"
            ]
          },
          "metadata": {},
          "execution_count": 100
        }
      ]
    },
    {
      "cell_type": "code",
      "metadata": {
        "id": "dTYzGsHBrTgx",
        "colab": {
          "base_uri": "https://localhost:8080/"
        },
        "outputId": "9d9f4f25-e367-4ee7-87f1-cee374e421cd"
      },
      "source": [
        "scores = model.evaluate_generator(test_generator, nb_test // batch_size)"
      ],
      "execution_count": null,
      "outputs": [
        {
          "output_type": "stream",
          "name": "stderr",
          "text": [
            "/usr/local/lib/python3.7/dist-packages/ipykernel_launcher.py:1: UserWarning: `Model.evaluate_generator` is deprecated and will be removed in a future version. Please use `Model.evaluate`, which supports generators.\n",
            "  \"\"\"Entry point for launching an IPython kernel.\n"
          ]
        }
      ]
    },
    {
      "cell_type": "code",
      "metadata": {
        "colab": {
          "base_uri": "https://localhost:8080/"
        },
        "id": "jWFdnQxWqG7k",
        "outputId": "9df2ede0-e4e3-4ae6-f925-50cca0c13629"
      },
      "source": [
        "print(scores)"
      ],
      "execution_count": null,
      "outputs": [
        {
          "output_type": "stream",
          "name": "stdout",
          "text": [
            "[0.03434102237224579, 0.9857142567634583]\n"
          ]
        }
      ]
    }
  ]
}