{
  "nbformat": 4,
  "nbformat_minor": 0,
  "metadata": {
    "colab": {
      "name": "Lab 2.2 - Лосев Д. (19-АС)",
      "provenance": []
    },
    "kernelspec": {
      "name": "python3",
      "display_name": "Python 3"
    },
    "language_info": {
      "name": "python"
    },
    "accelerator": "GPU"
  },
  "cells": [
    {
      "cell_type": "code",
      "metadata": {
        "colab": {
          "base_uri": "https://localhost:8080/"
        },
        "id": "JxkVuJxVxVQK",
        "outputId": "d06e1085-1a36-4ee5-ef69-e775531dc472"
      },
      "source": [
        "# Скачиваем набор данных\n",
        "!wget https://storage.googleapis.com/laurencemoroney-blog.appspot.com/horse-or-human.zip"
      ],
      "execution_count": null,
      "outputs": [
        {
          "output_type": "stream",
          "name": "stdout",
          "text": [
            "--2021-12-10 07:21:48--  https://storage.googleapis.com/laurencemoroney-blog.appspot.com/horse-or-human.zip\n",
            "Resolving storage.googleapis.com (storage.googleapis.com)... 142.251.5.128, 74.125.133.128, 74.125.140.128, ...\n",
            "Connecting to storage.googleapis.com (storage.googleapis.com)|142.251.5.128|:443... connected.\n",
            "HTTP request sent, awaiting response... 200 OK\n",
            "Length: 149574867 (143M) [application/zip]\n",
            "Saving to: ‘horse-or-human.zip’\n",
            "\n",
            "horse-or-human.zip  100%[===================>] 142.65M   193MB/s    in 0.7s    \n",
            "\n",
            "2021-12-10 07:21:49 (193 MB/s) - ‘horse-or-human.zip’ saved [149574867/149574867]\n",
            "\n"
          ]
        }
      ]
    },
    {
      "cell_type": "code",
      "metadata": {
        "colab": {
          "base_uri": "https://localhost:8080/"
        },
        "id": "7eIQyoIwxdad",
        "outputId": "c7090762-adda-4cde-e74b-6169195af687"
      },
      "source": [
        "#Разархивируем\n",
        "!unzip horse-or-human.zip"
      ],
      "execution_count": null,
      "outputs": [
        {
          "output_type": "stream",
          "name": "stdout",
          "text": [
            "Archive:  horse-or-human.zip\n",
            "  inflating: horses/horse01-0.png    \n",
            "  inflating: horses/horse01-1.png    \n",
            "  inflating: horses/horse01-2.png    \n",
            "  inflating: horses/horse01-3.png    \n",
            "  inflating: horses/horse01-4.png    \n",
            "  inflating: horses/horse01-5.png    \n",
            "  inflating: horses/horse01-6.png    \n",
            "  inflating: horses/horse01-7.png    \n",
            "  inflating: horses/horse01-8.png    \n",
            "  inflating: horses/horse01-9.png    \n",
            "  inflating: horses/horse02-0.png    \n",
            "  inflating: horses/horse02-1.png    \n",
            "  inflating: horses/horse02-2.png    \n",
            "  inflating: horses/horse02-3.png    \n",
            "  inflating: horses/horse02-4.png    \n",
            "  inflating: horses/horse02-5.png    \n",
            "  inflating: horses/horse02-6.png    \n",
            "  inflating: horses/horse02-7.png    \n",
            "  inflating: horses/horse02-8.png    \n",
            "  inflating: horses/horse02-9.png    \n",
            "  inflating: horses/horse03-0.png    \n",
            "  inflating: horses/horse03-1.png    \n",
            "  inflating: horses/horse03-2.png    \n",
            "  inflating: horses/horse03-3.png    \n",
            "  inflating: horses/horse03-4.png    \n",
            "  inflating: horses/horse03-5.png    \n",
            "  inflating: horses/horse03-6.png    \n",
            "  inflating: horses/horse03-7.png    \n",
            "  inflating: horses/horse03-8.png    \n",
            "  inflating: horses/horse03-9.png    \n",
            "  inflating: horses/horse04-0.png    \n",
            "  inflating: horses/horse04-1.png    \n",
            "  inflating: horses/horse04-2.png    \n",
            "  inflating: horses/horse04-3.png    \n",
            "  inflating: horses/horse04-4.png    \n",
            "  inflating: horses/horse04-5.png    \n",
            "  inflating: horses/horse04-6.png    \n",
            "  inflating: horses/horse04-7.png    \n",
            "  inflating: horses/horse04-8.png    \n",
            "  inflating: horses/horse04-9.png    \n",
            "  inflating: horses/horse05-0.png    \n",
            "  inflating: horses/horse05-1.png    \n",
            "  inflating: horses/horse05-2.png    \n",
            "  inflating: horses/horse05-3.png    \n",
            "  inflating: horses/horse05-4.png    \n",
            "  inflating: horses/horse05-5.png    \n",
            "  inflating: horses/horse05-6.png    \n",
            "  inflating: horses/horse05-7.png    \n",
            "  inflating: horses/horse05-8.png    \n",
            "  inflating: horses/horse05-9.png    \n",
            "  inflating: horses/horse06-0.png    \n",
            "  inflating: horses/horse06-1.png    \n",
            "  inflating: horses/horse06-2.png    \n",
            "  inflating: horses/horse06-3.png    \n",
            "  inflating: horses/horse06-4.png    \n",
            "  inflating: horses/horse06-5.png    \n",
            "  inflating: horses/horse06-6.png    \n",
            "  inflating: horses/horse06-7.png    \n",
            "  inflating: horses/horse06-8.png    \n",
            "  inflating: horses/horse06-9.png    \n",
            "  inflating: horses/horse07-0.png    \n",
            "  inflating: horses/horse07-1.png    \n",
            "  inflating: horses/horse07-2.png    \n",
            "  inflating: horses/horse07-3.png    \n",
            "  inflating: horses/horse07-4.png    \n",
            "  inflating: horses/horse07-5.png    \n",
            "  inflating: horses/horse07-6.png    \n",
            "  inflating: horses/horse07-7.png    \n",
            "  inflating: horses/horse07-8.png    \n",
            "  inflating: horses/horse07-9.png    \n",
            "  inflating: horses/horse08-0.png    \n",
            "  inflating: horses/horse08-1.png    \n",
            "  inflating: horses/horse08-2.png    \n",
            "  inflating: horses/horse08-3.png    \n",
            "  inflating: horses/horse08-4.png    \n",
            "  inflating: horses/horse08-5.png    \n",
            "  inflating: horses/horse08-6.png    \n",
            "  inflating: horses/horse08-7.png    \n",
            "  inflating: horses/horse08-8.png    \n",
            "  inflating: horses/horse08-9.png    \n",
            "  inflating: horses/horse09-0.png    \n",
            "  inflating: horses/horse09-1.png    \n",
            "  inflating: horses/horse09-2.png    \n",
            "  inflating: horses/horse09-3.png    \n",
            "  inflating: horses/horse09-4.png    \n",
            "  inflating: horses/horse09-5.png    \n",
            "  inflating: horses/horse09-6.png    \n",
            "  inflating: horses/horse09-7.png    \n",
            "  inflating: horses/horse09-8.png    \n",
            "  inflating: horses/horse09-9.png    \n",
            "  inflating: horses/horse10-0.png    \n",
            "  inflating: horses/horse10-1.png    \n",
            "  inflating: horses/horse10-2.png    \n",
            "  inflating: horses/horse10-3.png    \n",
            "  inflating: horses/horse10-4.png    \n",
            "  inflating: horses/horse10-5.png    \n",
            "  inflating: horses/horse10-6.png    \n",
            "  inflating: horses/horse10-7.png    \n",
            "  inflating: horses/horse10-8.png    \n",
            "  inflating: horses/horse10-9.png    \n",
            "  inflating: horses/horse11-0.png    \n",
            "  inflating: horses/horse11-1.png    \n",
            "  inflating: horses/horse11-2.png    \n",
            "  inflating: horses/horse11-3.png    \n",
            "  inflating: horses/horse11-4.png    \n",
            "  inflating: horses/horse11-5.png    \n",
            "  inflating: horses/horse11-6.png    \n",
            "  inflating: horses/horse11-7.png    \n",
            "  inflating: horses/horse11-8.png    \n",
            "  inflating: horses/horse11-9.png    \n",
            "  inflating: horses/horse12-0.png    \n",
            "  inflating: horses/horse12-1.png    \n",
            "  inflating: horses/horse12-2.png    \n",
            "  inflating: horses/horse12-3.png    \n",
            "  inflating: horses/horse12-4.png    \n",
            "  inflating: horses/horse12-5.png    \n",
            "  inflating: horses/horse12-6.png    \n",
            "  inflating: horses/horse12-7.png    \n",
            "  inflating: horses/horse12-8.png    \n",
            "  inflating: horses/horse12-9.png    \n",
            "  inflating: horses/horse13-0.png    \n",
            "  inflating: horses/horse13-1.png    \n",
            "  inflating: horses/horse13-2.png    \n",
            "  inflating: horses/horse13-3.png    \n",
            "  inflating: horses/horse13-4.png    \n",
            "  inflating: horses/horse13-5.png    \n",
            "  inflating: horses/horse13-6.png    \n",
            "  inflating: horses/horse13-7.png    \n",
            "  inflating: horses/horse13-8.png    \n",
            "  inflating: horses/horse13-9.png    \n",
            "  inflating: horses/horse14-0.png    \n",
            "  inflating: horses/horse14-1.png    \n",
            "  inflating: horses/horse14-2.png    \n",
            "  inflating: horses/horse14-3.png    \n",
            "  inflating: horses/horse14-4.png    \n",
            "  inflating: horses/horse14-5.png    \n",
            "  inflating: horses/horse14-6.png    \n",
            "  inflating: horses/horse14-7.png    \n",
            "  inflating: horses/horse14-8.png    \n",
            "  inflating: horses/horse14-9.png    \n",
            "  inflating: horses/horse15-0.png    \n",
            "  inflating: horses/horse15-1.png    \n",
            "  inflating: horses/horse15-2.png    \n",
            "  inflating: horses/horse15-3.png    \n",
            "  inflating: horses/horse15-4.png    \n",
            "  inflating: horses/horse15-5.png    \n",
            "  inflating: horses/horse15-6.png    \n",
            "  inflating: horses/horse15-7.png    \n",
            "  inflating: horses/horse15-8.png    \n",
            "  inflating: horses/horse15-9.png    \n",
            "  inflating: horses/horse16-0.png    \n",
            "  inflating: horses/horse16-1.png    \n",
            "  inflating: horses/horse16-2.png    \n",
            "  inflating: horses/horse16-3.png    \n",
            "  inflating: horses/horse16-4.png    \n",
            "  inflating: horses/horse16-5.png    \n",
            "  inflating: horses/horse16-6.png    \n",
            "  inflating: horses/horse16-7.png    \n",
            "  inflating: horses/horse16-8.png    \n",
            "  inflating: horses/horse16-9.png    \n",
            "  inflating: horses/horse17-0.png    \n",
            "  inflating: horses/horse17-1.png    \n",
            "  inflating: horses/horse17-2.png    \n",
            "  inflating: horses/horse17-3.png    \n",
            "  inflating: horses/horse17-4.png    \n",
            "  inflating: horses/horse17-5.png    \n",
            "  inflating: horses/horse17-6.png    \n",
            "  inflating: horses/horse17-7.png    \n",
            "  inflating: horses/horse17-8.png    \n",
            "  inflating: horses/horse17-9.png    \n",
            "  inflating: horses/horse18-0.png    \n",
            "  inflating: horses/horse18-1.png    \n",
            "  inflating: horses/horse18-2.png    \n",
            "  inflating: horses/horse18-3.png    \n",
            "  inflating: horses/horse18-4.png    \n",
            "  inflating: horses/horse18-5.png    \n",
            "  inflating: horses/horse18-6.png    \n",
            "  inflating: horses/horse18-7.png    \n",
            "  inflating: horses/horse18-8.png    \n",
            "  inflating: horses/horse18-9.png    \n",
            "  inflating: horses/horse19-0.png    \n",
            "  inflating: horses/horse19-1.png    \n",
            "  inflating: horses/horse19-2.png    \n",
            "  inflating: horses/horse19-3.png    \n",
            "  inflating: horses/horse19-4.png    \n",
            "  inflating: horses/horse19-5.png    \n",
            "  inflating: horses/horse19-6.png    \n",
            "  inflating: horses/horse19-7.png    \n",
            "  inflating: horses/horse19-8.png    \n",
            "  inflating: horses/horse19-9.png    \n",
            "  inflating: horses/horse20-0.png    \n",
            "  inflating: horses/horse20-1.png    \n",
            "  inflating: horses/horse20-2.png    \n",
            "  inflating: horses/horse20-3.png    \n",
            "  inflating: horses/horse20-4.png    \n",
            "  inflating: horses/horse20-5.png    \n",
            "  inflating: horses/horse20-6.png    \n",
            "  inflating: horses/horse20-7.png    \n",
            "  inflating: horses/horse20-8.png    \n",
            "  inflating: horses/horse20-9.png    \n",
            "  inflating: horses/horse21-0.png    \n",
            "  inflating: horses/horse21-1.png    \n",
            "  inflating: horses/horse21-2.png    \n",
            "  inflating: horses/horse21-3.png    \n",
            "  inflating: horses/horse21-4.png    \n",
            "  inflating: horses/horse21-5.png    \n",
            "  inflating: horses/horse21-6.png    \n",
            "  inflating: horses/horse21-7.png    \n",
            "  inflating: horses/horse21-8.png    \n",
            "  inflating: horses/horse21-9.png    \n",
            "  inflating: horses/horse22-0.png    \n",
            "  inflating: horses/horse22-1.png    \n",
            "  inflating: horses/horse22-2.png    \n",
            "  inflating: horses/horse22-3.png    \n",
            "  inflating: horses/horse22-4.png    \n",
            "  inflating: horses/horse22-5.png    \n",
            "  inflating: horses/horse22-6.png    \n",
            "  inflating: horses/horse22-7.png    \n",
            "  inflating: horses/horse22-8.png    \n",
            "  inflating: horses/horse22-9.png    \n",
            "  inflating: horses/horse23-0.png    \n",
            "  inflating: horses/horse23-1.png    \n",
            "  inflating: horses/horse23-2.png    \n",
            "  inflating: horses/horse23-3.png    \n",
            "  inflating: horses/horse23-4.png    \n",
            "  inflating: horses/horse23-5.png    \n",
            "  inflating: horses/horse23-6.png    \n",
            "  inflating: horses/horse23-7.png    \n",
            "  inflating: horses/horse23-8.png    \n",
            "  inflating: horses/horse23-9.png    \n",
            "  inflating: horses/horse24-0.png    \n",
            "  inflating: horses/horse24-1.png    \n",
            "  inflating: horses/horse24-2.png    \n",
            "  inflating: horses/horse24-3.png    \n",
            "  inflating: horses/horse24-4.png    \n",
            "  inflating: horses/horse24-5.png    \n",
            "  inflating: horses/horse24-6.png    \n",
            "  inflating: horses/horse24-7.png    \n",
            "  inflating: horses/horse24-8.png    \n",
            "  inflating: horses/horse24-9.png    \n",
            "  inflating: horses/horse25-0.png    \n",
            "  inflating: horses/horse25-1.png    \n",
            "  inflating: horses/horse25-2.png    \n",
            "  inflating: horses/horse25-3.png    \n",
            "  inflating: horses/horse25-4.png    \n",
            "  inflating: horses/horse25-5.png    \n",
            "  inflating: horses/horse25-6.png    \n",
            "  inflating: horses/horse25-7.png    \n",
            "  inflating: horses/horse25-8.png    \n",
            "  inflating: horses/horse25-9.png    \n",
            "  inflating: horses/horse26-0.png    \n",
            "  inflating: horses/horse26-1.png    \n",
            "  inflating: horses/horse26-2.png    \n",
            "  inflating: horses/horse26-3.png    \n",
            "  inflating: horses/horse26-4.png    \n",
            "  inflating: horses/horse26-5.png    \n",
            "  inflating: horses/horse26-6.png    \n",
            "  inflating: horses/horse26-7.png    \n",
            "  inflating: horses/horse26-8.png    \n",
            "  inflating: horses/horse26-9.png    \n",
            "  inflating: horses/horse27-0.png    \n",
            "  inflating: horses/horse27-1.png    \n",
            "  inflating: horses/horse27-2.png    \n",
            "  inflating: horses/horse27-3.png    \n",
            "  inflating: horses/horse27-4.png    \n",
            "  inflating: horses/horse27-5.png    \n",
            "  inflating: horses/horse27-6.png    \n",
            "  inflating: horses/horse27-7.png    \n",
            "  inflating: horses/horse27-8.png    \n",
            "  inflating: horses/horse27-9.png    \n",
            "  inflating: horses/horse28-0.png    \n",
            "  inflating: horses/horse28-1.png    \n",
            "  inflating: horses/horse28-2.png    \n",
            "  inflating: horses/horse28-3.png    \n",
            "  inflating: horses/horse28-4.png    \n",
            "  inflating: horses/horse28-5.png    \n",
            "  inflating: horses/horse28-6.png    \n",
            "  inflating: horses/horse28-7.png    \n",
            "  inflating: horses/horse28-8.png    \n",
            "  inflating: horses/horse28-9.png    \n",
            "  inflating: horses/horse29-0.png    \n",
            "  inflating: horses/horse29-1.png    \n",
            "  inflating: horses/horse29-2.png    \n",
            "  inflating: horses/horse29-3.png    \n",
            "  inflating: horses/horse29-4.png    \n",
            "  inflating: horses/horse29-5.png    \n",
            "  inflating: horses/horse29-6.png    \n",
            "  inflating: horses/horse29-7.png    \n",
            "  inflating: horses/horse29-8.png    \n",
            "  inflating: horses/horse29-9.png    \n",
            "  inflating: horses/horse30-0.png    \n",
            "  inflating: horses/horse30-1.png    \n",
            "  inflating: horses/horse30-2.png    \n",
            "  inflating: horses/horse30-3.png    \n",
            "  inflating: horses/horse30-4.png    \n",
            "  inflating: horses/horse30-5.png    \n",
            "  inflating: horses/horse30-6.png    \n",
            "  inflating: horses/horse30-7.png    \n",
            "  inflating: horses/horse30-8.png    \n",
            "  inflating: horses/horse30-9.png    \n",
            "  inflating: horses/horse31-0.png    \n",
            "  inflating: horses/horse31-1.png    \n",
            "  inflating: horses/horse31-2.png    \n",
            "  inflating: horses/horse31-3.png    \n",
            "  inflating: horses/horse31-4.png    \n",
            "  inflating: horses/horse31-5.png    \n",
            "  inflating: horses/horse31-6.png    \n",
            "  inflating: horses/horse31-7.png    \n",
            "  inflating: horses/horse31-8.png    \n",
            "  inflating: horses/horse31-9.png    \n",
            "  inflating: horses/horse32-0.png    \n",
            "  inflating: horses/horse32-1.png    \n",
            "  inflating: horses/horse32-2.png    \n",
            "  inflating: horses/horse32-3.png    \n",
            "  inflating: horses/horse32-4.png    \n",
            "  inflating: horses/horse32-5.png    \n",
            "  inflating: horses/horse32-6.png    \n",
            "  inflating: horses/horse32-7.png    \n",
            "  inflating: horses/horse32-8.png    \n",
            "  inflating: horses/horse32-9.png    \n",
            "  inflating: horses/horse33-0.png    \n",
            "  inflating: horses/horse33-1.png    \n",
            "  inflating: horses/horse33-2.png    \n",
            "  inflating: horses/horse33-3.png    \n",
            "  inflating: horses/horse33-4.png    \n",
            "  inflating: horses/horse33-5.png    \n",
            "  inflating: horses/horse33-6.png    \n",
            "  inflating: horses/horse33-7.png    \n",
            "  inflating: horses/horse33-8.png    \n",
            "  inflating: horses/horse33-9.png    \n",
            "  inflating: horses/horse34-0.png    \n",
            "  inflating: horses/horse34-1.png    \n",
            "  inflating: horses/horse34-2.png    \n",
            "  inflating: horses/horse34-3.png    \n",
            "  inflating: horses/horse34-4.png    \n",
            "  inflating: horses/horse34-5.png    \n",
            "  inflating: horses/horse34-6.png    \n",
            "  inflating: horses/horse34-7.png    \n",
            "  inflating: horses/horse34-8.png    \n",
            "  inflating: horses/horse34-9.png    \n",
            "  inflating: horses/horse35-0.png    \n",
            "  inflating: horses/horse35-1.png    \n",
            "  inflating: horses/horse35-2.png    \n",
            "  inflating: horses/horse35-3.png    \n",
            "  inflating: horses/horse35-4.png    \n",
            "  inflating: horses/horse35-5.png    \n",
            "  inflating: horses/horse35-6.png    \n",
            "  inflating: horses/horse35-7.png    \n",
            "  inflating: horses/horse35-8.png    \n",
            "  inflating: horses/horse35-9.png    \n",
            "  inflating: horses/horse36-0.png    \n",
            "  inflating: horses/horse36-1.png    \n",
            "  inflating: horses/horse36-2.png    \n",
            "  inflating: horses/horse36-3.png    \n",
            "  inflating: horses/horse36-4.png    \n",
            "  inflating: horses/horse36-5.png    \n",
            "  inflating: horses/horse36-6.png    \n",
            "  inflating: horses/horse36-7.png    \n",
            "  inflating: horses/horse36-8.png    \n",
            "  inflating: horses/horse36-9.png    \n",
            "  inflating: horses/horse37-0.png    \n",
            "  inflating: horses/horse37-1.png    \n",
            "  inflating: horses/horse37-2.png    \n",
            "  inflating: horses/horse37-3.png    \n",
            "  inflating: horses/horse37-4.png    \n",
            "  inflating: horses/horse37-5.png    \n",
            "  inflating: horses/horse37-6.png    \n",
            "  inflating: horses/horse37-7.png    \n",
            "  inflating: horses/horse37-8.png    \n",
            "  inflating: horses/horse37-9.png    \n",
            "  inflating: horses/horse38-0.png    \n",
            "  inflating: horses/horse38-1.png    \n",
            "  inflating: horses/horse38-2.png    \n",
            "  inflating: horses/horse38-3.png    \n",
            "  inflating: horses/horse38-4.png    \n",
            "  inflating: horses/horse38-5.png    \n",
            "  inflating: horses/horse38-6.png    \n",
            "  inflating: horses/horse38-7.png    \n",
            "  inflating: horses/horse38-8.png    \n",
            "  inflating: horses/horse38-9.png    \n",
            "  inflating: horses/horse39-0.png    \n",
            "  inflating: horses/horse39-1.png    \n",
            "  inflating: horses/horse39-2.png    \n",
            "  inflating: horses/horse39-3.png    \n",
            "  inflating: horses/horse39-4.png    \n",
            "  inflating: horses/horse39-5.png    \n",
            "  inflating: horses/horse39-6.png    \n",
            "  inflating: horses/horse39-7.png    \n",
            "  inflating: horses/horse39-8.png    \n",
            "  inflating: horses/horse39-9.png    \n",
            "  inflating: horses/horse40-0.png    \n",
            "  inflating: horses/horse40-1.png    \n",
            "  inflating: horses/horse40-2.png    \n",
            "  inflating: horses/horse40-3.png    \n",
            "  inflating: horses/horse40-4.png    \n",
            "  inflating: horses/horse40-5.png    \n",
            "  inflating: horses/horse40-6.png    \n",
            "  inflating: horses/horse40-7.png    \n",
            "  inflating: horses/horse40-8.png    \n",
            "  inflating: horses/horse40-9.png    \n",
            "  inflating: horses/horse41-0.png    \n",
            "  inflating: horses/horse41-1.png    \n",
            "  inflating: horses/horse41-2.png    \n",
            "  inflating: horses/horse41-3.png    \n",
            "  inflating: horses/horse41-4.png    \n",
            "  inflating: horses/horse41-5.png    \n",
            "  inflating: horses/horse41-6.png    \n",
            "  inflating: horses/horse41-7.png    \n",
            "  inflating: horses/horse41-8.png    \n",
            "  inflating: horses/horse41-9.png    \n",
            "  inflating: horses/horse42-0.png    \n",
            "  inflating: horses/horse42-1.png    \n",
            "  inflating: horses/horse42-2.png    \n",
            "  inflating: horses/horse42-3.png    \n",
            "  inflating: horses/horse42-4.png    \n",
            "  inflating: horses/horse42-5.png    \n",
            "  inflating: horses/horse42-6.png    \n",
            "  inflating: horses/horse42-7.png    \n",
            "  inflating: horses/horse42-8.png    \n",
            "  inflating: horses/horse42-9.png    \n",
            "  inflating: horses/horse43-0.png    \n",
            "  inflating: horses/horse43-1.png    \n",
            "  inflating: horses/horse43-2.png    \n",
            "  inflating: horses/horse43-3.png    \n",
            "  inflating: horses/horse43-4.png    \n",
            "  inflating: horses/horse43-5.png    \n",
            "  inflating: horses/horse43-6.png    \n",
            "  inflating: horses/horse43-7.png    \n",
            "  inflating: horses/horse43-8.png    \n",
            "  inflating: horses/horse43-9.png    \n",
            "  inflating: horses/horse44-0.png    \n",
            "  inflating: horses/horse44-1.png    \n",
            "  inflating: horses/horse44-2.png    \n",
            "  inflating: horses/horse44-3.png    \n",
            "  inflating: horses/horse44-4.png    \n",
            "  inflating: horses/horse44-5.png    \n",
            "  inflating: horses/horse44-6.png    \n",
            "  inflating: horses/horse44-7.png    \n",
            "  inflating: horses/horse44-8.png    \n",
            "  inflating: horses/horse44-9.png    \n",
            "  inflating: horses/horse45-0.png    \n",
            "  inflating: horses/horse45-1.png    \n",
            "  inflating: horses/horse45-2.png    \n",
            "  inflating: horses/horse45-3.png    \n",
            "  inflating: horses/horse45-4.png    \n",
            "  inflating: horses/horse45-5.png    \n",
            "  inflating: horses/horse45-6.png    \n",
            "  inflating: horses/horse45-7.png    \n",
            "  inflating: horses/horse45-8.png    \n",
            "  inflating: horses/horse45-9.png    \n",
            "  inflating: horses/horse46-0.png    \n",
            "  inflating: horses/horse46-1.png    \n",
            "  inflating: horses/horse46-2.png    \n",
            "  inflating: horses/horse46-3.png    \n",
            "  inflating: horses/horse46-4.png    \n",
            "  inflating: horses/horse46-5.png    \n",
            "  inflating: horses/horse46-6.png    \n",
            "  inflating: horses/horse46-7.png    \n",
            "  inflating: horses/horse46-8.png    \n",
            "  inflating: horses/horse46-9.png    \n",
            "  inflating: horses/horse47-0.png    \n",
            "  inflating: horses/horse47-1.png    \n",
            "  inflating: horses/horse47-2.png    \n",
            "  inflating: horses/horse47-3.png    \n",
            "  inflating: horses/horse47-4.png    \n",
            "  inflating: horses/horse47-5.png    \n",
            "  inflating: horses/horse47-6.png    \n",
            "  inflating: horses/horse47-7.png    \n",
            "  inflating: horses/horse47-8.png    \n",
            "  inflating: horses/horse47-9.png    \n",
            "  inflating: horses/horse48-0.png    \n",
            "  inflating: horses/horse48-1.png    \n",
            "  inflating: horses/horse48-2.png    \n",
            "  inflating: horses/horse48-3.png    \n",
            "  inflating: horses/horse48-4.png    \n",
            "  inflating: horses/horse48-5.png    \n",
            "  inflating: horses/horse48-6.png    \n",
            "  inflating: horses/horse48-7.png    \n",
            "  inflating: horses/horse48-8.png    \n",
            "  inflating: horses/horse48-9.png    \n",
            "  inflating: horses/horse49-0.png    \n",
            "  inflating: horses/horse49-1.png    \n",
            "  inflating: horses/horse49-2.png    \n",
            "  inflating: horses/horse49-3.png    \n",
            "  inflating: horses/horse49-4.png    \n",
            "  inflating: horses/horse49-5.png    \n",
            "  inflating: horses/horse49-6.png    \n",
            "  inflating: horses/horse49-7.png    \n",
            "  inflating: horses/horse49-8.png    \n",
            "  inflating: horses/horse49-9.png    \n",
            "  inflating: horses/horse50-0.png    \n",
            "  inflating: horses/horse50-1.png    \n",
            "  inflating: horses/horse50-2.png    \n",
            "  inflating: horses/horse50-3.png    \n",
            "  inflating: horses/horse50-4.png    \n",
            "  inflating: horses/horse50-5.png    \n",
            "  inflating: horses/horse50-6.png    \n",
            "  inflating: horses/horse50-7.png    \n",
            "  inflating: horses/horse50-8.png    \n",
            "  inflating: horses/horse50-9.png    \n",
            "  inflating: humans/human01-00.png   \n",
            "  inflating: humans/human01-01.png   \n",
            "  inflating: humans/human01-02.png   \n",
            "  inflating: humans/human01-03.png   \n",
            "  inflating: humans/human01-04.png   \n",
            "  inflating: humans/human01-05.png   \n",
            "  inflating: humans/human01-06.png   \n",
            "  inflating: humans/human01-07.png   \n",
            "  inflating: humans/human01-08.png   \n",
            "  inflating: humans/human01-09.png   \n",
            "  inflating: humans/human01-10.png   \n",
            "  inflating: humans/human01-11.png   \n",
            "  inflating: humans/human01-12.png   \n",
            "  inflating: humans/human01-13.png   \n",
            "  inflating: humans/human01-14.png   \n",
            "  inflating: humans/human01-15.png   \n",
            "  inflating: humans/human01-16.png   \n",
            "  inflating: humans/human01-17.png   \n",
            "  inflating: humans/human01-18.png   \n",
            "  inflating: humans/human01-19.png   \n",
            "  inflating: humans/human01-20.png   \n",
            "  inflating: humans/human01-21.png   \n",
            "  inflating: humans/human01-22.png   \n",
            "  inflating: humans/human01-23.png   \n",
            "  inflating: humans/human01-24.png   \n",
            "  inflating: humans/human01-25.png   \n",
            "  inflating: humans/human01-26.png   \n",
            "  inflating: humans/human01-27.png   \n",
            "  inflating: humans/human01-28.png   \n",
            "  inflating: humans/human01-29.png   \n",
            "  inflating: humans/human01-30.png   \n",
            "  inflating: humans/human02-00.png   \n",
            "  inflating: humans/human02-01.png   \n",
            "  inflating: humans/human02-02.png   \n",
            "  inflating: humans/human02-03.png   \n",
            "  inflating: humans/human02-04.png   \n",
            "  inflating: humans/human02-05.png   \n",
            "  inflating: humans/human02-06.png   \n",
            "  inflating: humans/human02-07.png   \n",
            "  inflating: humans/human02-08.png   \n",
            "  inflating: humans/human02-09.png   \n",
            "  inflating: humans/human02-10.png   \n",
            "  inflating: humans/human02-11.png   \n",
            "  inflating: humans/human02-12.png   \n",
            "  inflating: humans/human02-13.png   \n",
            "  inflating: humans/human02-14.png   \n",
            "  inflating: humans/human02-15.png   \n",
            "  inflating: humans/human02-16.png   \n",
            "  inflating: humans/human02-17.png   \n",
            "  inflating: humans/human02-18.png   \n",
            "  inflating: humans/human02-19.png   \n",
            "  inflating: humans/human02-20.png   \n",
            "  inflating: humans/human02-21.png   \n",
            "  inflating: humans/human02-22.png   \n",
            "  inflating: humans/human02-23.png   \n",
            "  inflating: humans/human02-24.png   \n",
            "  inflating: humans/human02-25.png   \n",
            "  inflating: humans/human02-26.png   \n",
            "  inflating: humans/human02-27.png   \n",
            "  inflating: humans/human02-28.png   \n",
            "  inflating: humans/human02-29.png   \n",
            "  inflating: humans/human02-30.png   \n",
            "  inflating: humans/human03-00.png   \n",
            "  inflating: humans/human03-01.png   \n",
            "  inflating: humans/human03-02.png   \n",
            "  inflating: humans/human03-03.png   \n",
            "  inflating: humans/human03-04.png   \n",
            "  inflating: humans/human03-05.png   \n",
            "  inflating: humans/human03-06.png   \n",
            "  inflating: humans/human03-07.png   \n",
            "  inflating: humans/human03-08.png   \n",
            "  inflating: humans/human03-09.png   \n",
            "  inflating: humans/human03-10.png   \n",
            "  inflating: humans/human03-11.png   \n",
            "  inflating: humans/human03-12.png   \n",
            "  inflating: humans/human03-13.png   \n",
            "  inflating: humans/human03-14.png   \n",
            "  inflating: humans/human03-15.png   \n",
            "  inflating: humans/human03-16.png   \n",
            "  inflating: humans/human03-17.png   \n",
            "  inflating: humans/human03-18.png   \n",
            "  inflating: humans/human03-19.png   \n",
            "  inflating: humans/human03-20.png   \n",
            "  inflating: humans/human03-21.png   \n",
            "  inflating: humans/human03-22.png   \n",
            "  inflating: humans/human03-23.png   \n",
            "  inflating: humans/human03-24.png   \n",
            "  inflating: humans/human03-25.png   \n",
            "  inflating: humans/human03-26.png   \n",
            "  inflating: humans/human03-27.png   \n",
            "  inflating: humans/human03-28.png   \n",
            "  inflating: humans/human03-29.png   \n",
            "  inflating: humans/human03-30.png   \n",
            "  inflating: humans/human04-00.png   \n",
            "  inflating: humans/human04-01.png   \n",
            "  inflating: humans/human04-02.png   \n",
            "  inflating: humans/human04-03.png   \n",
            "  inflating: humans/human04-04.png   \n",
            "  inflating: humans/human04-05.png   \n",
            "  inflating: humans/human04-06.png   \n",
            "  inflating: humans/human04-07.png   \n",
            "  inflating: humans/human04-08.png   \n",
            "  inflating: humans/human04-09.png   \n",
            "  inflating: humans/human04-10.png   \n",
            "  inflating: humans/human04-11.png   \n",
            "  inflating: humans/human04-12.png   \n",
            "  inflating: humans/human04-13.png   \n",
            "  inflating: humans/human04-14.png   \n",
            "  inflating: humans/human04-15.png   \n",
            "  inflating: humans/human04-16.png   \n",
            "  inflating: humans/human04-17.png   \n",
            "  inflating: humans/human04-18.png   \n",
            "  inflating: humans/human04-19.png   \n",
            "  inflating: humans/human04-20.png   \n",
            "  inflating: humans/human04-21.png   \n",
            "  inflating: humans/human04-22.png   \n",
            "  inflating: humans/human04-23.png   \n",
            "  inflating: humans/human04-24.png   \n",
            "  inflating: humans/human04-25.png   \n",
            "  inflating: humans/human04-26.png   \n",
            "  inflating: humans/human04-27.png   \n",
            "  inflating: humans/human04-28.png   \n",
            "  inflating: humans/human04-29.png   \n",
            "  inflating: humans/human04-30.png   \n",
            "  inflating: humans/human05-00.png   \n",
            "  inflating: humans/human05-01.png   \n",
            "  inflating: humans/human05-02.png   \n",
            "  inflating: humans/human05-03.png   \n",
            "  inflating: humans/human05-04.png   \n",
            "  inflating: humans/human05-05.png   \n",
            "  inflating: humans/human05-06.png   \n",
            "  inflating: humans/human05-07.png   \n",
            "  inflating: humans/human05-08.png   \n",
            "  inflating: humans/human05-09.png   \n",
            "  inflating: humans/human05-10.png   \n",
            "  inflating: humans/human05-11.png   \n",
            "  inflating: humans/human05-12.png   \n",
            "  inflating: humans/human05-13.png   \n",
            "  inflating: humans/human05-14.png   \n",
            "  inflating: humans/human05-15.png   \n",
            "  inflating: humans/human05-16.png   \n",
            "  inflating: humans/human05-17.png   \n",
            "  inflating: humans/human05-18.png   \n",
            "  inflating: humans/human05-19.png   \n",
            "  inflating: humans/human05-20.png   \n",
            "  inflating: humans/human05-21.png   \n",
            "  inflating: humans/human05-22.png   \n",
            "  inflating: humans/human05-23.png   \n",
            "  inflating: humans/human05-24.png   \n",
            "  inflating: humans/human05-25.png   \n",
            "  inflating: humans/human05-26.png   \n",
            "  inflating: humans/human05-27.png   \n",
            "  inflating: humans/human05-28.png   \n",
            "  inflating: humans/human05-29.png   \n",
            "  inflating: humans/human05-30.png   \n",
            "  inflating: humans/human06-00.png   \n",
            "  inflating: humans/human06-01.png   \n",
            "  inflating: humans/human06-02.png   \n",
            "  inflating: humans/human06-03.png   \n",
            "  inflating: humans/human06-04.png   \n",
            "  inflating: humans/human06-05.png   \n",
            "  inflating: humans/human06-06.png   \n",
            "  inflating: humans/human06-07.png   \n",
            "  inflating: humans/human06-08.png   \n",
            "  inflating: humans/human06-09.png   \n",
            "  inflating: humans/human06-10.png   \n",
            "  inflating: humans/human06-11.png   \n",
            "  inflating: humans/human06-12.png   \n",
            "  inflating: humans/human06-13.png   \n",
            "  inflating: humans/human06-14.png   \n",
            "  inflating: humans/human06-15.png   \n",
            "  inflating: humans/human06-16.png   \n",
            "  inflating: humans/human06-17.png   \n",
            "  inflating: humans/human06-18.png   \n",
            "  inflating: humans/human06-19.png   \n",
            "  inflating: humans/human06-20.png   \n",
            "  inflating: humans/human06-21.png   \n",
            "  inflating: humans/human06-22.png   \n",
            "  inflating: humans/human06-23.png   \n",
            "  inflating: humans/human06-24.png   \n",
            "  inflating: humans/human06-25.png   \n",
            "  inflating: humans/human06-26.png   \n",
            "  inflating: humans/human06-27.png   \n",
            "  inflating: humans/human06-28.png   \n",
            "  inflating: humans/human06-29.png   \n",
            "  inflating: humans/human06-30.png   \n",
            "  inflating: humans/human07-00.png   \n",
            "  inflating: humans/human07-01.png   \n",
            "  inflating: humans/human07-02.png   \n",
            "  inflating: humans/human07-03.png   \n",
            "  inflating: humans/human07-04.png   \n",
            "  inflating: humans/human07-05.png   \n",
            "  inflating: humans/human07-06.png   \n",
            "  inflating: humans/human07-07.png   \n",
            "  inflating: humans/human07-08.png   \n",
            "  inflating: humans/human07-09.png   \n",
            "  inflating: humans/human07-10.png   \n",
            "  inflating: humans/human07-11.png   \n",
            "  inflating: humans/human07-12.png   \n",
            "  inflating: humans/human07-13.png   \n",
            "  inflating: humans/human07-14.png   \n",
            "  inflating: humans/human07-15.png   \n",
            "  inflating: humans/human07-16.png   \n",
            "  inflating: humans/human07-17.png   \n",
            "  inflating: humans/human07-18.png   \n",
            "  inflating: humans/human07-19.png   \n",
            "  inflating: humans/human07-20.png   \n",
            "  inflating: humans/human07-21.png   \n",
            "  inflating: humans/human07-22.png   \n",
            "  inflating: humans/human07-23.png   \n",
            "  inflating: humans/human07-24.png   \n",
            "  inflating: humans/human07-25.png   \n",
            "  inflating: humans/human07-26.png   \n",
            "  inflating: humans/human07-27.png   \n",
            "  inflating: humans/human07-28.png   \n",
            "  inflating: humans/human07-29.png   \n",
            "  inflating: humans/human07-30.png   \n",
            "  inflating: humans/human08-00.png   \n",
            "  inflating: humans/human08-01.png   \n",
            "  inflating: humans/human08-02.png   \n",
            "  inflating: humans/human08-03.png   \n",
            "  inflating: humans/human08-04.png   \n",
            "  inflating: humans/human08-05.png   \n",
            "  inflating: humans/human08-06.png   \n",
            "  inflating: humans/human08-07.png   \n",
            "  inflating: humans/human08-08.png   \n",
            "  inflating: humans/human08-09.png   \n",
            "  inflating: humans/human08-10.png   \n",
            "  inflating: humans/human08-11.png   \n",
            "  inflating: humans/human08-12.png   \n",
            "  inflating: humans/human08-13.png   \n",
            "  inflating: humans/human08-14.png   \n",
            "  inflating: humans/human08-15.png   \n",
            "  inflating: humans/human08-16.png   \n",
            "  inflating: humans/human08-17.png   \n",
            "  inflating: humans/human08-18.png   \n",
            "  inflating: humans/human08-19.png   \n",
            "  inflating: humans/human08-20.png   \n",
            "  inflating: humans/human08-21.png   \n",
            "  inflating: humans/human08-22.png   \n",
            "  inflating: humans/human08-23.png   \n",
            "  inflating: humans/human08-24.png   \n",
            "  inflating: humans/human08-25.png   \n",
            "  inflating: humans/human08-26.png   \n",
            "  inflating: humans/human08-27.png   \n",
            "  inflating: humans/human08-28.png   \n",
            "  inflating: humans/human08-29.png   \n",
            "  inflating: humans/human08-30.png   \n",
            "  inflating: humans/human09-00.png   \n",
            "  inflating: humans/human09-01.png   \n",
            "  inflating: humans/human09-02.png   \n",
            "  inflating: humans/human09-03.png   \n",
            "  inflating: humans/human09-04.png   \n",
            "  inflating: humans/human09-05.png   \n",
            "  inflating: humans/human09-06.png   \n",
            "  inflating: humans/human09-07.png   \n",
            "  inflating: humans/human09-08.png   \n",
            "  inflating: humans/human09-09.png   \n",
            "  inflating: humans/human09-10.png   \n",
            "  inflating: humans/human09-11.png   \n",
            "  inflating: humans/human09-12.png   \n",
            "  inflating: humans/human09-13.png   \n",
            "  inflating: humans/human09-14.png   \n",
            "  inflating: humans/human09-15.png   \n",
            "  inflating: humans/human09-16.png   \n",
            "  inflating: humans/human09-17.png   \n",
            "  inflating: humans/human09-18.png   \n",
            "  inflating: humans/human09-19.png   \n",
            "  inflating: humans/human09-20.png   \n",
            "  inflating: humans/human09-21.png   \n",
            "  inflating: humans/human09-22.png   \n",
            "  inflating: humans/human09-23.png   \n",
            "  inflating: humans/human09-24.png   \n",
            "  inflating: humans/human09-25.png   \n",
            "  inflating: humans/human09-26.png   \n",
            "  inflating: humans/human09-27.png   \n",
            "  inflating: humans/human09-28.png   \n",
            "  inflating: humans/human09-29.png   \n",
            "  inflating: humans/human09-30.png   \n",
            "  inflating: humans/human10-00.png   \n",
            "  inflating: humans/human10-01.png   \n",
            "  inflating: humans/human10-02.png   \n",
            "  inflating: humans/human10-03.png   \n",
            "  inflating: humans/human10-04.png   \n",
            "  inflating: humans/human10-05.png   \n",
            "  inflating: humans/human10-06.png   \n",
            "  inflating: humans/human10-07.png   \n",
            "  inflating: humans/human10-08.png   \n",
            "  inflating: humans/human10-09.png   \n",
            "  inflating: humans/human10-10.png   \n",
            "  inflating: humans/human10-11.png   \n",
            "  inflating: humans/human10-12.png   \n",
            "  inflating: humans/human10-13.png   \n",
            "  inflating: humans/human10-14.png   \n",
            "  inflating: humans/human10-15.png   \n",
            "  inflating: humans/human10-16.png   \n",
            "  inflating: humans/human10-17.png   \n",
            "  inflating: humans/human10-18.png   \n",
            "  inflating: humans/human10-19.png   \n",
            "  inflating: humans/human10-20.png   \n",
            "  inflating: humans/human10-21.png   \n",
            "  inflating: humans/human10-22.png   \n",
            "  inflating: humans/human10-23.png   \n",
            "  inflating: humans/human10-24.png   \n",
            "  inflating: humans/human10-25.png   \n",
            "  inflating: humans/human10-26.png   \n",
            "  inflating: humans/human10-27.png   \n",
            "  inflating: humans/human10-28.png   \n",
            "  inflating: humans/human10-29.png   \n",
            "  inflating: humans/human10-30.png   \n",
            "  inflating: humans/human11-00.png   \n",
            "  inflating: humans/human11-01.png   \n",
            "  inflating: humans/human11-02.png   \n",
            "  inflating: humans/human11-03.png   \n",
            "  inflating: humans/human11-04.png   \n",
            "  inflating: humans/human11-05.png   \n",
            "  inflating: humans/human11-06.png   \n",
            "  inflating: humans/human11-07.png   \n",
            "  inflating: humans/human11-08.png   \n",
            "  inflating: humans/human11-09.png   \n",
            "  inflating: humans/human11-10.png   \n",
            "  inflating: humans/human11-11.png   \n",
            "  inflating: humans/human11-12.png   \n",
            "  inflating: humans/human11-13.png   \n",
            "  inflating: humans/human11-14.png   \n",
            "  inflating: humans/human11-15.png   \n",
            "  inflating: humans/human11-16.png   \n",
            "  inflating: humans/human11-17.png   \n",
            "  inflating: humans/human11-18.png   \n",
            "  inflating: humans/human11-19.png   \n",
            "  inflating: humans/human11-20.png   \n",
            "  inflating: humans/human11-21.png   \n",
            "  inflating: humans/human11-22.png   \n",
            "  inflating: humans/human11-23.png   \n",
            "  inflating: humans/human11-24.png   \n",
            "  inflating: humans/human11-25.png   \n",
            "  inflating: humans/human11-26.png   \n",
            "  inflating: humans/human11-27.png   \n",
            "  inflating: humans/human11-28.png   \n",
            "  inflating: humans/human11-29.png   \n",
            "  inflating: humans/human11-30.png   \n",
            "  inflating: humans/human12-00.png   \n",
            "  inflating: humans/human12-01.png   \n",
            "  inflating: humans/human12-02.png   \n",
            "  inflating: humans/human12-03.png   \n",
            "  inflating: humans/human12-04.png   \n",
            "  inflating: humans/human12-05.png   \n",
            "  inflating: humans/human12-06.png   \n",
            "  inflating: humans/human12-07.png   \n",
            "  inflating: humans/human12-08.png   \n",
            "  inflating: humans/human12-09.png   \n",
            "  inflating: humans/human12-10.png   \n",
            "  inflating: humans/human12-11.png   \n",
            "  inflating: humans/human12-12.png   \n",
            "  inflating: humans/human12-13.png   \n",
            "  inflating: humans/human12-14.png   \n",
            "  inflating: humans/human12-15.png   \n",
            "  inflating: humans/human12-16.png   \n",
            "  inflating: humans/human12-17.png   \n",
            "  inflating: humans/human12-18.png   \n",
            "  inflating: humans/human12-19.png   \n",
            "  inflating: humans/human12-20.png   \n",
            "  inflating: humans/human12-21.png   \n",
            "  inflating: humans/human12-22.png   \n",
            "  inflating: humans/human12-23.png   \n",
            "  inflating: humans/human12-24.png   \n",
            "  inflating: humans/human12-25.png   \n",
            "  inflating: humans/human12-26.png   \n",
            "  inflating: humans/human12-27.png   \n",
            "  inflating: humans/human12-28.png   \n",
            "  inflating: humans/human12-29.png   \n",
            "  inflating: humans/human12-30.png   \n",
            "  inflating: humans/human13-00.png   \n",
            "  inflating: humans/human13-01.png   \n",
            "  inflating: humans/human13-02.png   \n",
            "  inflating: humans/human13-03.png   \n",
            "  inflating: humans/human13-04.png   \n",
            "  inflating: humans/human13-05.png   \n",
            "  inflating: humans/human13-06.png   \n",
            "  inflating: humans/human13-07.png   \n",
            "  inflating: humans/human13-08.png   \n",
            "  inflating: humans/human13-09.png   \n",
            "  inflating: humans/human13-10.png   \n",
            "  inflating: humans/human13-11.png   \n",
            "  inflating: humans/human13-12.png   \n",
            "  inflating: humans/human13-13.png   \n",
            "  inflating: humans/human13-14.png   \n",
            "  inflating: humans/human13-15.png   \n",
            "  inflating: humans/human13-16.png   \n",
            "  inflating: humans/human13-17.png   \n",
            "  inflating: humans/human13-18.png   \n",
            "  inflating: humans/human13-19.png   \n",
            "  inflating: humans/human13-20.png   \n",
            "  inflating: humans/human13-21.png   \n",
            "  inflating: humans/human13-22.png   \n",
            "  inflating: humans/human13-23.png   \n",
            "  inflating: humans/human13-24.png   \n",
            "  inflating: humans/human13-25.png   \n",
            "  inflating: humans/human13-26.png   \n",
            "  inflating: humans/human13-27.png   \n",
            "  inflating: humans/human13-28.png   \n",
            "  inflating: humans/human13-29.png   \n",
            "  inflating: humans/human13-30.png   \n",
            "  inflating: humans/human14-00.png   \n",
            "  inflating: humans/human14-01.png   \n",
            "  inflating: humans/human14-02.png   \n",
            "  inflating: humans/human14-03.png   \n",
            "  inflating: humans/human14-04.png   \n",
            "  inflating: humans/human14-05.png   \n",
            "  inflating: humans/human14-06.png   \n",
            "  inflating: humans/human14-07.png   \n",
            "  inflating: humans/human14-08.png   \n",
            "  inflating: humans/human14-09.png   \n",
            "  inflating: humans/human14-10.png   \n",
            "  inflating: humans/human14-11.png   \n",
            "  inflating: humans/human14-12.png   \n",
            "  inflating: humans/human14-13.png   \n",
            "  inflating: humans/human14-14.png   \n",
            "  inflating: humans/human14-15.png   \n",
            "  inflating: humans/human14-16.png   \n",
            "  inflating: humans/human14-17.png   \n",
            "  inflating: humans/human14-18.png   \n",
            "  inflating: humans/human14-19.png   \n",
            "  inflating: humans/human14-20.png   \n",
            "  inflating: humans/human14-21.png   \n",
            "  inflating: humans/human14-22.png   \n",
            "  inflating: humans/human14-23.png   \n",
            "  inflating: humans/human14-24.png   \n",
            "  inflating: humans/human14-25.png   \n",
            "  inflating: humans/human14-26.png   \n",
            "  inflating: humans/human14-27.png   \n",
            "  inflating: humans/human14-28.png   \n",
            "  inflating: humans/human14-29.png   \n",
            "  inflating: humans/human14-30.png   \n",
            "  inflating: humans/human15-00.png   \n",
            "  inflating: humans/human15-01.png   \n",
            "  inflating: humans/human15-02.png   \n",
            "  inflating: humans/human15-03.png   \n",
            "  inflating: humans/human15-04.png   \n",
            "  inflating: humans/human15-05.png   \n",
            "  inflating: humans/human15-06.png   \n",
            "  inflating: humans/human15-07.png   \n",
            "  inflating: humans/human15-08.png   \n",
            "  inflating: humans/human15-09.png   \n",
            "  inflating: humans/human15-10.png   \n",
            "  inflating: humans/human15-11.png   \n",
            "  inflating: humans/human15-12.png   \n",
            "  inflating: humans/human15-13.png   \n",
            "  inflating: humans/human15-14.png   \n",
            "  inflating: humans/human15-15.png   \n",
            "  inflating: humans/human15-16.png   \n",
            "  inflating: humans/human15-17.png   \n",
            "  inflating: humans/human15-18.png   \n",
            "  inflating: humans/human15-19.png   \n",
            "  inflating: humans/human15-20.png   \n",
            "  inflating: humans/human15-21.png   \n",
            "  inflating: humans/human15-22.png   \n",
            "  inflating: humans/human15-23.png   \n",
            "  inflating: humans/human15-24.png   \n",
            "  inflating: humans/human15-25.png   \n",
            "  inflating: humans/human15-26.png   \n",
            "  inflating: humans/human15-27.png   \n",
            "  inflating: humans/human15-28.png   \n",
            "  inflating: humans/human15-29.png   \n",
            "  inflating: humans/human15-30.png   \n",
            "  inflating: humans/human16-00.png   \n",
            "  inflating: humans/human16-01.png   \n",
            "  inflating: humans/human16-02.png   \n",
            "  inflating: humans/human16-03.png   \n",
            "  inflating: humans/human16-04.png   \n",
            "  inflating: humans/human16-05.png   \n",
            "  inflating: humans/human16-06.png   \n",
            "  inflating: humans/human16-07.png   \n",
            "  inflating: humans/human16-08.png   \n",
            "  inflating: humans/human16-09.png   \n",
            "  inflating: humans/human16-10.png   \n",
            "  inflating: humans/human16-11.png   \n",
            "  inflating: humans/human16-12.png   \n",
            "  inflating: humans/human16-13.png   \n",
            "  inflating: humans/human16-14.png   \n",
            "  inflating: humans/human16-15.png   \n",
            "  inflating: humans/human16-16.png   \n",
            "  inflating: humans/human16-17.png   \n",
            "  inflating: humans/human16-18.png   \n",
            "  inflating: humans/human16-19.png   \n",
            "  inflating: humans/human16-20.png   \n",
            "  inflating: humans/human16-21.png   \n",
            "  inflating: humans/human16-22.png   \n",
            "  inflating: humans/human16-23.png   \n",
            "  inflating: humans/human16-24.png   \n",
            "  inflating: humans/human16-25.png   \n",
            "  inflating: humans/human16-26.png   \n",
            "  inflating: humans/human16-27.png   \n",
            "  inflating: humans/human16-28.png   \n",
            "  inflating: humans/human16-29.png   \n",
            "  inflating: humans/human16-30.png   \n",
            "  inflating: humans/human17-00.png   \n",
            "  inflating: humans/human17-01.png   \n",
            "  inflating: humans/human17-02.png   \n",
            "  inflating: humans/human17-03.png   \n",
            "  inflating: humans/human17-04.png   \n",
            "  inflating: humans/human17-05.png   \n",
            "  inflating: humans/human17-06.png   \n",
            "  inflating: humans/human17-07.png   \n",
            "  inflating: humans/human17-08.png   \n",
            "  inflating: humans/human17-09.png   \n",
            "  inflating: humans/human17-10.png   \n",
            "  inflating: humans/human17-11.png   \n",
            "  inflating: humans/human17-12.png   \n",
            "  inflating: humans/human17-13.png   \n",
            "  inflating: humans/human17-14.png   \n",
            "  inflating: humans/human17-15.png   \n",
            "  inflating: humans/human17-16.png   \n",
            "  inflating: humans/human17-17.png   \n",
            "  inflating: humans/human17-18.png   \n",
            "  inflating: humans/human17-19.png   \n",
            "  inflating: humans/human17-20.png   \n",
            "  inflating: humans/human17-21.png   \n",
            "  inflating: humans/human17-22.png   \n",
            "  inflating: humans/human17-23.png   \n",
            "  inflating: humans/human17-24.png   \n",
            "  inflating: humans/human17-25.png   \n",
            "  inflating: humans/human17-26.png   \n",
            "  inflating: humans/human17-27.png   \n",
            "  inflating: humans/human17-28.png   \n",
            "  inflating: humans/human17-29.png   \n",
            "  inflating: humans/human17-30.png   \n"
          ]
        }
      ]
    },
    {
      "cell_type": "code",
      "metadata": {
        "colab": {
          "base_uri": "https://localhost:8080/"
        },
        "id": "01CUkpqYQ65N",
        "outputId": "8848fa3d-d785-40fd-f952-bbeab15f4985"
      },
      "source": [
        "# Скачиваем\n",
        "!wget https://storage.googleapis.com/laurencemoroney-blog.appspot.com/validation-horse-or-human.zip"
      ],
      "execution_count": null,
      "outputs": [
        {
          "output_type": "stream",
          "name": "stdout",
          "text": [
            "--2021-12-10 07:21:51--  https://storage.googleapis.com/laurencemoroney-blog.appspot.com/validation-horse-or-human.zip\n",
            "Resolving storage.googleapis.com (storage.googleapis.com)... 142.251.5.128, 74.125.133.128, 74.125.140.128, ...\n",
            "Connecting to storage.googleapis.com (storage.googleapis.com)|142.251.5.128|:443... connected.\n",
            "HTTP request sent, awaiting response... 200 OK\n",
            "Length: 11480187 (11M) [application/zip]\n",
            "Saving to: ‘validation-horse-or-human.zip’\n",
            "\n",
            "validation-horse-or 100%[===================>]  10.95M  --.-KB/s    in 0.07s   \n",
            "\n",
            "2021-12-10 07:21:51 (166 MB/s) - ‘validation-horse-or-human.zip’ saved [11480187/11480187]\n",
            "\n"
          ]
        }
      ]
    },
    {
      "cell_type": "code",
      "metadata": {
        "colab": {
          "base_uri": "https://localhost:8080/"
        },
        "id": "47vJwK72RMeV",
        "outputId": "809005ee-1dd1-4673-dc36-4d9ef4c29a0b"
      },
      "source": [
        "# Разархивируем\n",
        "!unzip validation-horse-or-human.zip"
      ],
      "execution_count": null,
      "outputs": [
        {
          "output_type": "stream",
          "name": "stdout",
          "text": [
            "Archive:  validation-horse-or-human.zip\n",
            "  inflating: horses/horse1-000.png   \n",
            "  inflating: horses/horse1-105.png   \n",
            "  inflating: horses/horse1-122.png   \n",
            "  inflating: horses/horse1-127.png   \n",
            "  inflating: horses/horse1-170.png   \n",
            "  inflating: horses/horse1-204.png   \n",
            "  inflating: horses/horse1-224.png   \n",
            "  inflating: horses/horse1-241.png   \n",
            "  inflating: horses/horse1-264.png   \n",
            "  inflating: horses/horse1-276.png   \n",
            "  inflating: horses/horse1-298.png   \n",
            "  inflating: horses/horse1-335.png   \n",
            "  inflating: horses/horse1-384.png   \n",
            "  inflating: horses/horse1-411.png   \n",
            "  inflating: horses/horse1-436.png   \n",
            "  inflating: horses/horse1-455.png   \n",
            "  inflating: horses/horse1-484.png   \n",
            "  inflating: horses/horse1-510.png   \n",
            "  inflating: horses/horse1-539.png   \n",
            "  inflating: horses/horse1-554.png   \n",
            "  inflating: horses/horse1-568.png   \n",
            "  inflating: horses/horse2-011.png   \n",
            "  inflating: horses/horse2-040.png   \n",
            "  inflating: horses/horse2-069.png   \n",
            "  inflating: horses/horse2-112.png   \n",
            "  inflating: horses/horse2-136.png   \n",
            "  inflating: horses/horse2-183.png   \n",
            "  inflating: horses/horse2-201.png   \n",
            "  inflating: horses/horse2-218.png   \n",
            "  inflating: horses/horse2-224.png   \n",
            "  inflating: horses/horse2-254.png   \n",
            "  inflating: horses/horse2-269.png   \n",
            "  inflating: horses/horse2-294.png   \n",
            "  inflating: horses/horse2-314.png   \n",
            "  inflating: horses/horse2-368.png   \n",
            "  inflating: horses/horse2-383.png   \n",
            "  inflating: horses/horse2-412.png   \n",
            "  inflating: horses/horse2-441.png   \n",
            "  inflating: horses/horse2-544.png   \n",
            "  inflating: horses/horse2-582.png   \n",
            "  inflating: horses/horse2-596.png   \n",
            "  inflating: horses/horse3-011.png   \n",
            "  inflating: horses/horse3-026.png   \n",
            "  inflating: horses/horse3-055.png   \n",
            "  inflating: horses/horse3-070.png   \n",
            "  inflating: horses/horse3-099.png   \n",
            "  inflating: horses/horse3-141.png   \n",
            "  inflating: horses/horse3-171.png   \n",
            "  inflating: horses/horse3-198.png   \n",
            "  inflating: horses/horse3-217.png   \n",
            "  inflating: horses/horse3-255.png   \n",
            "  inflating: horses/horse3-326.png   \n",
            "  inflating: horses/horse3-397.png   \n",
            "  inflating: horses/horse3-416.png   \n",
            "  inflating: horses/horse3-440.png   \n",
            "  inflating: horses/horse3-469.png   \n",
            "  inflating: horses/horse3-484.png   \n",
            "  inflating: horses/horse3-498.png   \n",
            "  inflating: horses/horse3-521.png   \n",
            "  inflating: horses/horse3-541.png   \n",
            "  inflating: horses/horse3-584.png   \n",
            "  inflating: horses/horse4-000.png   \n",
            "  inflating: horses/horse4-014.png   \n",
            "  inflating: horses/horse4-043.png   \n",
            "  inflating: horses/horse4-072.png   \n",
            "  inflating: horses/horse4-102.png   \n",
            "  inflating: horses/horse4-159.png   \n",
            "  inflating: horses/horse4-188.png   \n",
            "  inflating: horses/horse4-202.png   \n",
            "  inflating: horses/horse4-232.png   \n",
            "  inflating: horses/horse4-302.png   \n",
            "  inflating: horses/horse4-345.png   \n",
            "  inflating: horses/horse4-389.png   \n",
            "  inflating: horses/horse4-403.png   \n",
            "  inflating: horses/horse4-439.png   \n",
            "  inflating: horses/horse4-468.png   \n",
            "  inflating: horses/horse4-495.png   \n",
            "  inflating: horses/horse4-501.png   \n",
            "  inflating: horses/horse4-503.png   \n",
            "  inflating: horses/horse4-530.png   \n",
            "  inflating: horses/horse4-541.png   \n",
            "  inflating: horses/horse4-548.png   \n",
            "  inflating: horses/horse4-556.png   \n",
            "  inflating: horses/horse4-588.png   \n",
            "  inflating: horses/horse4-599.png   \n",
            "  inflating: horses/horse5-002.png   \n",
            "  inflating: horses/horse5-018.png   \n",
            "  inflating: horses/horse5-032.png   \n",
            "  inflating: horses/horse5-060.png   \n",
            "  inflating: horses/horse5-065.png   \n",
            "  inflating: horses/horse5-076.png   \n",
            "  inflating: horses/horse5-083.png   \n",
            "  inflating: horses/horse5-100.png   \n",
            "  inflating: horses/horse5-103.png   \n",
            "  inflating: horses/horse5-123.png   \n",
            "  inflating: horses/horse5-164.png   \n",
            "  inflating: horses/horse5-181.png   \n",
            "  inflating: horses/horse5-192.png   \n",
            "  inflating: horses/horse5-203.png   \n",
            "  inflating: horses/horse5-235.png   \n",
            "  inflating: horses/horse5-259.png   \n",
            "  inflating: horses/horse5-275.png   \n",
            "  inflating: horses/horse5-303.png   \n",
            "  inflating: horses/horse5-342.png   \n",
            "  inflating: horses/horse5-360.png   \n",
            "  inflating: horses/horse5-400.png   \n",
            "  inflating: horses/horse5-402.png   \n",
            "  inflating: horses/horse5-405.png   \n",
            "  inflating: horses/horse5-458.png   \n",
            "  inflating: horses/horse5-478.png   \n",
            "  inflating: horses/horse5-488.png   \n",
            "  inflating: horses/horse5-504.png   \n",
            "  inflating: horses/horse5-514.png   \n",
            "  inflating: horses/horse5-519.png   \n",
            "  inflating: horses/horse5-550.png   \n",
            "  inflating: horses/horse5-565.png   \n",
            "  inflating: horses/horse5-589.png   \n",
            "  inflating: horses/horse6-004.png   \n",
            "  inflating: horses/horse6-064.png   \n",
            "  inflating: horses/horse6-089.png   \n",
            "  inflating: horses/horse6-153.png   \n",
            "  inflating: horses/horse6-161.png   \n",
            "  inflating: horses/horse6-198.png   \n",
            "  inflating: horses/horse6-218.png   \n",
            "  inflating: horses/horse6-275.png   \n",
            "  inflating: horses/horse6-345.png   \n",
            "  inflating: horses/horse6-403.png   \n",
            "  inflating: horses/horse6-544.png   \n",
            "  inflating: humans/valhuman01-00.png  \n",
            "  inflating: humans/valhuman01-01.png  \n",
            "  inflating: humans/valhuman01-02.png  \n",
            "  inflating: humans/valhuman01-03.png  \n",
            "  inflating: humans/valhuman01-04.png  \n",
            "  inflating: humans/valhuman01-05.png  \n",
            "  inflating: humans/valhuman01-06.png  \n",
            "  inflating: humans/valhuman01-07.png  \n",
            "  inflating: humans/valhuman01-08.png  \n",
            "  inflating: humans/valhuman01-09.png  \n",
            "  inflating: humans/valhuman01-10.png  \n",
            "  inflating: humans/valhuman01-11.png  \n",
            "  inflating: humans/valhuman01-12.png  \n",
            "  inflating: humans/valhuman01-13.png  \n",
            "  inflating: humans/valhuman01-14.png  \n",
            "  inflating: humans/valhuman01-15.png  \n",
            "  inflating: humans/valhuman01-16.png  \n",
            "  inflating: humans/valhuman01-17.png  \n",
            "  inflating: humans/valhuman01-18.png  \n",
            "  inflating: humans/valhuman01-19.png  \n",
            "  inflating: humans/valhuman01-20.png  \n",
            "  inflating: humans/valhuman01-21.png  \n",
            "  inflating: humans/valhuman01-22.png  \n",
            "  inflating: humans/valhuman01-23.png  \n",
            "  inflating: humans/valhuman01-24.png  \n",
            "  inflating: humans/valhuman02-00.png  \n",
            "  inflating: humans/valhuman02-01.png  \n",
            "  inflating: humans/valhuman02-02.png  \n",
            "  inflating: humans/valhuman02-03.png  \n",
            "  inflating: humans/valhuman02-04.png  \n",
            "  inflating: humans/valhuman02-05.png  \n",
            "  inflating: humans/valhuman02-06.png  \n",
            "  inflating: humans/valhuman02-07.png  \n",
            "  inflating: humans/valhuman02-08.png  \n",
            "  inflating: humans/valhuman02-09.png  \n",
            "  inflating: humans/valhuman02-10.png  \n",
            "  inflating: humans/valhuman02-11.png  \n",
            "  inflating: humans/valhuman02-12.png  \n",
            "  inflating: humans/valhuman02-13.png  \n",
            "  inflating: humans/valhuman02-14.png  \n",
            "  inflating: humans/valhuman02-15.png  \n",
            "  inflating: humans/valhuman02-16.png  \n",
            "  inflating: humans/valhuman02-17.png  \n",
            "  inflating: humans/valhuman02-18.png  \n",
            "  inflating: humans/valhuman02-19.png  \n",
            "  inflating: humans/valhuman02-20.png  \n",
            "  inflating: humans/valhuman02-21.png  \n",
            "  inflating: humans/valhuman02-22.png  \n",
            "  inflating: humans/valhuman02-23.png  \n",
            "  inflating: humans/valhuman02-24.png  \n",
            "  inflating: humans/valhuman03-00.png  \n",
            "  inflating: humans/valhuman03-01.png  \n",
            "  inflating: humans/valhuman03-02.png  \n",
            "  inflating: humans/valhuman03-03.png  \n",
            "  inflating: humans/valhuman03-04.png  \n",
            "  inflating: humans/valhuman03-05.png  \n",
            "  inflating: humans/valhuman03-06.png  \n",
            "  inflating: humans/valhuman03-07.png  \n",
            "  inflating: humans/valhuman03-08.png  \n",
            "  inflating: humans/valhuman03-09.png  \n",
            "  inflating: humans/valhuman03-10.png  \n",
            "  inflating: humans/valhuman03-11.png  \n",
            "  inflating: humans/valhuman03-12.png  \n",
            "  inflating: humans/valhuman03-13.png  \n",
            "  inflating: humans/valhuman03-14.png  \n",
            "  inflating: humans/valhuman03-15.png  \n",
            "  inflating: humans/valhuman03-16.png  \n",
            "  inflating: humans/valhuman03-17.png  \n",
            "  inflating: humans/valhuman03-18.png  \n",
            "  inflating: humans/valhuman03-19.png  \n",
            "  inflating: humans/valhuman03-20.png  \n",
            "  inflating: humans/valhuman03-21.png  \n",
            "  inflating: humans/valhuman03-22.png  \n",
            "  inflating: humans/valhuman03-23.png  \n",
            "  inflating: humans/valhuman03-24.png  \n",
            "  inflating: humans/valhuman04-00.png  \n",
            "  inflating: humans/valhuman04-01.png  \n",
            "  inflating: humans/valhuman04-02.png  \n",
            "  inflating: humans/valhuman04-03.png  \n",
            "  inflating: humans/valhuman04-04.png  \n",
            "  inflating: humans/valhuman04-05.png  \n",
            "  inflating: humans/valhuman04-06.png  \n",
            "  inflating: humans/valhuman04-07.png  \n",
            "  inflating: humans/valhuman04-08.png  \n",
            "  inflating: humans/valhuman04-09.png  \n",
            "  inflating: humans/valhuman04-10.png  \n",
            "  inflating: humans/valhuman04-11.png  \n",
            "  inflating: humans/valhuman04-12.png  \n",
            "  inflating: humans/valhuman04-13.png  \n",
            "  inflating: humans/valhuman04-14.png  \n",
            "  inflating: humans/valhuman04-15.png  \n",
            "  inflating: humans/valhuman04-16.png  \n",
            "  inflating: humans/valhuman04-17.png  \n",
            "  inflating: humans/valhuman04-18.png  \n",
            "  inflating: humans/valhuman04-19.png  \n",
            "  inflating: humans/valhuman04-20.png  \n",
            "  inflating: humans/valhuman04-21.png  \n",
            "  inflating: humans/valhuman04-22.png  \n",
            "  inflating: humans/valhuman04-23.png  \n",
            "  inflating: humans/valhuman04-24.png  \n",
            "  inflating: humans/valhuman05-00.png  \n",
            "  inflating: humans/valhuman05-01.png  \n",
            "  inflating: humans/valhuman05-02.png  \n",
            "  inflating: humans/valhuman05-03.png  \n",
            "  inflating: humans/valhuman05-04.png  \n",
            "  inflating: humans/valhuman05-05.png  \n",
            "  inflating: humans/valhuman05-06.png  \n",
            "  inflating: humans/valhuman05-07.png  \n",
            "  inflating: humans/valhuman05-08.png  \n",
            "  inflating: humans/valhuman05-09.png  \n",
            "  inflating: humans/valhuman05-10.png  \n",
            "  inflating: humans/valhuman05-11.png  \n",
            "  inflating: humans/valhuman05-12.png  \n",
            "  inflating: humans/valhuman05-13.png  \n",
            "  inflating: humans/valhuman05-14.png  \n",
            "  inflating: humans/valhuman05-15.png  \n",
            "  inflating: humans/valhuman05-16.png  \n",
            "  inflating: humans/valhuman05-17.png  \n",
            "  inflating: humans/valhuman05-18.png  \n",
            "  inflating: humans/valhuman05-19.png  \n",
            "  inflating: humans/valhuman05-20.png  \n",
            "  inflating: humans/valhuman05-21.png  \n",
            "  inflating: humans/valhuman05-22.png  \n",
            "  inflating: humans/valhuman05-23.png  \n",
            "  inflating: humans/valhuman05-24.png  \n",
            "  inflating: humans/valhuman05-25.png  \n",
            "  inflating: humans/valhuman05-26.png  \n",
            "  inflating: humans/valhuman05-27.png  \n"
          ]
        }
      ]
    },
    {
      "cell_type": "code",
      "metadata": {
        "id": "6g1zkegYxj0c"
      },
      "source": [
        "# Импорт библиотек\n",
        "import shutil\n",
        "import os"
      ],
      "execution_count": null,
      "outputs": []
    },
    {
      "cell_type": "code",
      "metadata": {
        "id": "tzB4SH8LReyJ"
      },
      "source": [
        "# Создаём директории\n",
        "!mkdir HuH"
      ],
      "execution_count": null,
      "outputs": []
    },
    {
      "cell_type": "code",
      "metadata": {
        "id": "GRIjV-wHRfr3"
      },
      "source": [
        "!cp -r /content/horses /content/HuH"
      ],
      "execution_count": null,
      "outputs": []
    },
    {
      "cell_type": "code",
      "metadata": {
        "id": "AMqnltLMRgae"
      },
      "source": [
        "!cp -r /content/humans /content/HuH"
      ],
      "execution_count": null,
      "outputs": []
    },
    {
      "cell_type": "code",
      "metadata": {
        "colab": {
          "base_uri": "https://localhost:8080/"
        },
        "id": "Vbte2CtgRoSx",
        "outputId": "9eb26a77-0db5-4a0a-9786-bee0e7f1b832"
      },
      "source": [
        "# Считаем кол-во изображений:\n",
        "!ls /content/HuH/horses | wc -l"
      ],
      "execution_count": null,
      "outputs": [
        {
          "output_type": "stream",
          "name": "stdout",
          "text": [
            "628\n"
          ]
        }
      ]
    },
    {
      "cell_type": "code",
      "metadata": {
        "colab": {
          "base_uri": "https://localhost:8080/"
        },
        "id": "sFigsjoFRpk3",
        "outputId": "6e254814-4da7-4d82-ee41-e05dfb0279f2"
      },
      "source": [
        "!ls /content/HuH/humans | wc -l"
      ],
      "execution_count": null,
      "outputs": [
        {
          "output_type": "stream",
          "name": "stdout",
          "text": [
            "655\n"
          ]
        }
      ]
    },
    {
      "cell_type": "code",
      "metadata": {
        "colab": {
          "base_uri": "https://localhost:8080/"
        },
        "id": "1ACIOaVZVQPB",
        "outputId": "884b6e1a-3514-4ab2-e018-0a232ba1b8c3"
      },
      "source": [
        "# Сравняем\n",
        "for root, dirs, files in os.walk('/content/HuH/humans'):\n",
        "  count = 0\n",
        "  for fil in files:\n",
        "    print(fil)\n",
        "    p = os.path.join(root, fil)\n",
        "    os.remove(p)\n",
        "    count += 1\n",
        "    if count == 27:\n",
        "      break\n",
        "  break"
      ],
      "execution_count": null,
      "outputs": [
        {
          "output_type": "stream",
          "name": "stdout",
          "text": [
            "human15-18.png\n",
            "valhuman03-00.png\n",
            "human16-08.png\n",
            "human16-30.png\n",
            "human07-26.png\n",
            "human15-28.png\n",
            "human05-26.png\n",
            "human12-14.png\n",
            "human03-02.png\n",
            "valhuman02-11.png\n",
            "human08-07.png\n",
            "valhuman02-02.png\n",
            "human07-04.png\n",
            "valhuman03-20.png\n",
            "human07-05.png\n",
            "valhuman04-13.png\n",
            "human10-17.png\n",
            "human15-19.png\n",
            "human07-12.png\n",
            "human11-12.png\n",
            "valhuman02-19.png\n",
            "human10-15.png\n",
            "human06-19.png\n",
            "valhuman05-13.png\n",
            "human02-19.png\n",
            "human14-00.png\n",
            "human06-01.png\n"
          ]
        }
      ]
    },
    {
      "cell_type": "code",
      "metadata": {
        "colab": {
          "base_uri": "https://localhost:8080/"
        },
        "id": "9bxBB8ikVXR-",
        "outputId": "28b7ebf4-edc4-4662-cee1-0a255ecba131"
      },
      "source": [
        "# Проверяет ещё раз\n",
        "!ls /content/HuH/horses | wc -l"
      ],
      "execution_count": null,
      "outputs": [
        {
          "output_type": "stream",
          "name": "stdout",
          "text": [
            "628\n"
          ]
        }
      ]
    },
    {
      "cell_type": "code",
      "metadata": {
        "colab": {
          "base_uri": "https://localhost:8080/"
        },
        "id": "CJhE-ejXVXnL",
        "outputId": "d3d2ea94-6a63-4a6e-c311-5ef95c828f28"
      },
      "source": [
        "!ls /content/HuH/humans | wc -l"
      ],
      "execution_count": null,
      "outputs": [
        {
          "output_type": "stream",
          "name": "stdout",
          "text": [
            "628\n"
          ]
        }
      ]
    },
    {
      "cell_type": "code",
      "metadata": {
        "id": "CcCygER0xmxB"
      },
      "source": [
        "# Создаем переменные\n",
        "data_dir = '/content/HuH/'\n",
        "train_dir = 'train'\n",
        "val_dir   = 'val'\n",
        "test_dir  = 'test'\n",
        "test_portion = 0.15\n",
        "val_portion = 0.15\n",
        "nb_images = 600"
      ],
      "execution_count": null,
      "outputs": []
    },
    {
      "cell_type": "code",
      "metadata": {
        "id": "i7Wo8Wnoxov4"
      },
      "source": [
        "# Создаём папки для изображений\n",
        "def create_dir(dir_name):\n",
        "  \n",
        "  if os.path.exists(dir_name):\n",
        "    shutil.rmtree(dir_name)\n",
        "\n",
        "  os.makedirs(dir_name)\n",
        "  os.makedirs(os.path.join(dir_name, \"horses1\"))\n",
        "  os.makedirs(os.path.join(dir_name, \"humans1\"))"
      ],
      "execution_count": null,
      "outputs": []
    },
    {
      "cell_type": "code",
      "metadata": {
        "id": "fB2to0rIxp8M"
      },
      "source": [
        "create_dir(train_dir)\n",
        "create_dir(test_dir)\n",
        "create_dir(val_dir)"
      ],
      "execution_count": null,
      "outputs": []
    },
    {
      "cell_type": "code",
      "metadata": {
        "id": "qb98MUFIWOy-"
      },
      "source": [
        "#def new_name_horses():\n",
        "  #path = pathlib.Path(\"/content/HuH/horses\")\n",
        "  #for i, path in enumerate(path.glob('*.png')):\n",
        "    #new_name = str(i) + '.png'\n",
        "    #path.rename(new_name)"
      ],
      "execution_count": null,
      "outputs": []
    },
    {
      "cell_type": "code",
      "metadata": {
        "id": "qlXek9Y4YeES"
      },
      "source": [
        "#def new_name_humans():\n",
        "  #path = pathlib.Path(\"/content/HuH/humans\")\n",
        "  #for i, path in enumerate(path.glob('*.png')):\n",
        "    #new_name = str(i) + '.png'\n",
        "    #path.rename(new_name)"
      ],
      "execution_count": null,
      "outputs": []
    },
    {
      "cell_type": "code",
      "metadata": {
        "id": "lPrFI86jWaLa"
      },
      "source": [
        "# Переименовываем изображения\n",
        "def new_name (path):\n",
        "  for root, dirs, files in os.walk(path):\n",
        "    i = 0\n",
        "    for fil in files:\n",
        "      new_name = str(i) + \".png\"\n",
        "      new = os.path.join(root, new_name)\n",
        "      old = os.path.join(root, fil)\n",
        "      os.rename(old,new)\n",
        "      i+=1"
      ],
      "execution_count": null,
      "outputs": []
    },
    {
      "cell_type": "code",
      "metadata": {
        "id": "eHnAifPZWdAg"
      },
      "source": [
        "new_name('/content/HuH/horses')"
      ],
      "execution_count": null,
      "outputs": []
    },
    {
      "cell_type": "code",
      "source": [
        "new_name('/content/HuH/humans')"
      ],
      "metadata": {
        "id": "OywstYJttYAg"
      },
      "execution_count": null,
      "outputs": []
    },
    {
      "cell_type": "code",
      "metadata": {
        "id": "giiDT4iXxrs-"
      },
      "source": [
        "# Копируем изображения\n",
        "def copy_images(st, ed, src, dst):\n",
        "  for i in range(st, ed):\n",
        "    shutil.copy2(os.path.join(src, \"horses/\" + str(i) + \".png\"), os.path.join(dst, \"horses1\"))\n",
        "    shutil.copy2(os.path.join(src, \"humans/\" + str(i) + \".png\"), os.path.join(dst, \"humans1\"))"
      ],
      "execution_count": null,
      "outputs": []
    },
    {
      "cell_type": "code",
      "metadata": {
        "colab": {
          "base_uri": "https://localhost:8080/"
        },
        "id": "Ed39zsy9xtSE",
        "outputId": "aebc5af9-38ea-4285-e055-4a0f06a281bc"
      },
      "source": [
        "# Группируем изображения\n",
        "start_val = int(nb_images * (1 - val_portion - test_portion))\n",
        "start_tst = int(nb_images * (1 - test_portion))\n",
        "print(start_val)\n",
        "print(start_tst)\n",
        "# train - 0..437\n",
        "# val   - 438 .. 531\n",
        "# test  - 532 .. 627"
      ],
      "execution_count": null,
      "outputs": [
        {
          "output_type": "stream",
          "name": "stdout",
          "text": [
            "420\n",
            "510\n"
          ]
        }
      ]
    },
    {
      "cell_type": "code",
      "metadata": {
        "id": "WcfwpGz4SbzP"
      },
      "source": [
        "# Копируем их\n",
        "copy_images(0, start_val, data_dir, train_dir)"
      ],
      "execution_count": null,
      "outputs": []
    },
    {
      "cell_type": "code",
      "metadata": {
        "id": "UiUIs2WNSdKF"
      },
      "source": [
        "copy_images(start_val, start_tst, data_dir, val_dir)"
      ],
      "execution_count": null,
      "outputs": []
    },
    {
      "cell_type": "code",
      "metadata": {
        "id": "7hKXcm-TSd0K"
      },
      "source": [
        "copy_images(start_tst, nb_images, data_dir, test_dir)"
      ],
      "execution_count": null,
      "outputs": []
    },
    {
      "cell_type": "code",
      "metadata": {
        "id": "5cPCj2fMSej6"
      },
      "source": [
        "img_width, img_height = 224, 224\n",
        "input_shape = (img_width, img_height, 3)\n",
        "epochs = 2\n",
        "batch_size = 128\n",
        "nb_train   = 17500\n",
        "nb_val     = 3750\n",
        "nb_test    = 3750"
      ],
      "execution_count": null,
      "outputs": []
    },
    {
      "cell_type": "code",
      "metadata": {
        "id": "sa9JiMsEx0oN"
      },
      "source": [
        "# Генератор изображений:\n",
        "from keras.preprocessing.image import ImageDataGenerator"
      ],
      "execution_count": null,
      "outputs": []
    },
    {
      "cell_type": "code",
      "metadata": {
        "id": "veK7K7zwx1ot"
      },
      "source": [
        "datagen = ImageDataGenerator(rescale = 1./255)"
      ],
      "execution_count": null,
      "outputs": []
    },
    {
      "cell_type": "code",
      "metadata": {
        "colab": {
          "base_uri": "https://localhost:8080/"
        },
        "id": "5-SO1QMHx2z_",
        "outputId": "c4b62cf4-dc74-4f4a-f1ef-556a2fa0852a"
      },
      "source": [
        "train_generator = datagen.flow_from_directory(train_dir, \n",
        "                                              target_size=(img_width, img_height),\n",
        "                                              batch_size = batch_size,\n",
        "                                              class_mode='binary')"
      ],
      "execution_count": null,
      "outputs": [
        {
          "output_type": "stream",
          "name": "stdout",
          "text": [
            "Found 840 images belonging to 2 classes.\n"
          ]
        }
      ]
    },
    {
      "cell_type": "code",
      "metadata": {
        "colab": {
          "base_uri": "https://localhost:8080/"
        },
        "id": "KyuuIwaax4TR",
        "outputId": "65c0da7a-4647-488a-e593-852946e75030"
      },
      "source": [
        "val_generator = datagen.flow_from_directory(val_dir, \n",
        "                                              target_size=(img_width, img_height),\n",
        "                                              batch_size = batch_size,\n",
        "                                              class_mode='binary')"
      ],
      "execution_count": null,
      "outputs": [
        {
          "output_type": "stream",
          "name": "stdout",
          "text": [
            "Found 180 images belonging to 2 classes.\n"
          ]
        }
      ]
    },
    {
      "cell_type": "code",
      "metadata": {
        "colab": {
          "base_uri": "https://localhost:8080/"
        },
        "id": "jf-IqqScx5jv",
        "outputId": "ae2e6359-4df0-4f28-9d7d-2b70aeaddeaf"
      },
      "source": [
        "test_generator = datagen.flow_from_directory(test_dir, \n",
        "                                              target_size=(img_width, img_height),\n",
        "                                              batch_size = batch_size,\n",
        "                                              class_mode='binary')"
      ],
      "execution_count": null,
      "outputs": [
        {
          "output_type": "stream",
          "name": "stdout",
          "text": [
            "Found 180 images belonging to 2 classes.\n"
          ]
        }
      ]
    },
    {
      "cell_type": "code",
      "metadata": {
        "id": "9cDUIEavx8EY"
      },
      "source": [
        "# Перенос обучениия в Keras\n",
        "import tensorflow as tf\n",
        "from tensorflow.keras.applications.densenet import DenseNet169\n",
        "from tensorflow.keras.preprocessing import image\n",
        "from tensorflow.keras.applications.densenet import preprocess_input, decode_predictions\n",
        "import numpy as np"
      ],
      "execution_count": null,
      "outputs": []
    },
    {
      "cell_type": "code",
      "metadata": {
        "id": "dqLiVgKvx96i",
        "colab": {
          "base_uri": "https://localhost:8080/"
        },
        "outputId": "b665ce3c-4d86-4c85-a53a-4ba17d8d5131"
      },
      "source": [
        "# Загружаем сеть\n",
        "model_net = DenseNet169(weights = 'imagenet', include_top = False, input_shape=(224, 224, 3))\n",
        "model_net.trainable=False"
      ],
      "execution_count": null,
      "outputs": [
        {
          "output_type": "stream",
          "name": "stdout",
          "text": [
            "Downloading data from https://storage.googleapis.com/tensorflow/keras-applications/densenet/densenet169_weights_tf_dim_ordering_tf_kernels_notop.h5\n",
            "51879936/51877672 [==============================] - 3s 0us/step\n",
            "51888128/51877672 [==============================] - 3s 0us/step\n"
          ]
        }
      ]
    },
    {
      "cell_type": "code",
      "metadata": {
        "id": "kxw30FN1x_UH"
      },
      "source": [
        "# Создаём нейронную сеть\n",
        "from tensorflow.keras.models import Sequential\n",
        "from keras.layers.convolutional import Conv2D, MaxPooling2D\n",
        "from tensorflow.keras.layers import Dropout, Flatten, Activation, Dense\n",
        "from keras.preprocessing.image import ImageDataGenerator"
      ],
      "execution_count": null,
      "outputs": []
    },
    {
      "cell_type": "code",
      "metadata": {
        "id": "H7sHb0UoyAoH"
      },
      "source": [
        "# Создаем составную сеть\n",
        "model = Sequential()\n",
        "model.add(model_net)\n",
        "model.add(Flatten())\n",
        "model.add(Dense(256))\n",
        "model.add(Activation('relu'))\n",
        "model.add(Dropout(0.5))\n",
        "model.add(Dense(1))\n",
        "model.add(Activation('sigmoid'))"
      ],
      "execution_count": null,
      "outputs": []
    },
    {
      "cell_type": "code",
      "metadata": {
        "colab": {
          "base_uri": "https://localhost:8080/"
        },
        "id": "1CrsrTjTyB3j",
        "outputId": "83642294-9f9b-42e8-c495-2484f2944de9"
      },
      "source": [
        "# Составная сеть\n",
        "model.summary()"
      ],
      "execution_count": null,
      "outputs": [
        {
          "output_type": "stream",
          "name": "stdout",
          "text": [
            "Model: \"sequential\"\n",
            "_________________________________________________________________\n",
            " Layer (type)                Output Shape              Param #   \n",
            "=================================================================\n",
            " densenet169 (Functional)    (None, 7, 7, 1664)        12642880  \n",
            "                                                                 \n",
            " flatten (Flatten)           (None, 81536)             0         \n",
            "                                                                 \n",
            " dense (Dense)               (None, 256)               20873472  \n",
            "                                                                 \n",
            " activation (Activation)     (None, 256)               0         \n",
            "                                                                 \n",
            " dropout (Dropout)           (None, 256)               0         \n",
            "                                                                 \n",
            " dense_1 (Dense)             (None, 1)                 257       \n",
            "                                                                 \n",
            " activation_1 (Activation)   (None, 1)                 0         \n",
            "                                                                 \n",
            "=================================================================\n",
            "Total params: 33,516,609\n",
            "Trainable params: 20,873,729\n",
            "Non-trainable params: 12,642,880\n",
            "_________________________________________________________________\n"
          ]
        }
      ]
    },
    {
      "cell_type": "code",
      "metadata": {
        "id": "TpnWo7ulyD1b"
      },
      "source": [
        "# Компилируем составную сеть\n",
        "from tensorflow import keras\n",
        "opt = keras.optimizers.Adam(learning_rate = 1e-5)\n",
        "model.compile(loss = 'binary_crossentropy', optimizer = opt, metrics=['accuracy'])"
      ],
      "execution_count": null,
      "outputs": []
    },
    {
      "cell_type": "code",
      "metadata": {
        "colab": {
          "base_uri": "https://localhost:8080/"
        },
        "id": "H5vAmgqzyFPG",
        "outputId": "4307e71a-5d39-4c48-a037-5d6e0ad50882"
      },
      "source": [
        "# Обучаем нейронную сеть\n",
        "model.fit_generator(train_generator, \n",
        "                    steps_per_epoch = nb_train // batch_size,\n",
        "                    epochs = epochs,\n",
        "                    validation_data  = val_generator,\n",
        "                    validation_steps = nb_val // batch_size)"
      ],
      "execution_count": null,
      "outputs": [
        {
          "output_type": "stream",
          "name": "stderr",
          "text": [
            "/usr/local/lib/python3.7/dist-packages/ipykernel_launcher.py:6: UserWarning: `Model.fit_generator` is deprecated and will be removed in a future version. Please use `Model.fit`, which supports generators.\n",
            "  \n"
          ]
        },
        {
          "output_type": "stream",
          "name": "stdout",
          "text": [
            "Epoch 1/2\n",
            "  7/136 [>.............................] - ETA: 3:58 - loss: 0.4402 - accuracy: 0.8131WARNING:tensorflow:Your input ran out of data; interrupting training. Make sure that your dataset or generator can generate at least `steps_per_epoch * epochs` batches (in this case, 272 batches). You may need to use the repeat() function when building your dataset.\n",
            "WARNING:tensorflow:Your input ran out of data; interrupting training. Make sure that your dataset or generator can generate at least `steps_per_epoch * epochs` batches (in this case, 29 batches). You may need to use the repeat() function when building your dataset.\n",
            "136/136 [==============================] - 42s 148ms/step - loss: 0.4402 - accuracy: 0.8131 - val_loss: 0.0370 - val_accuracy: 1.0000\n"
          ]
        },
        {
          "output_type": "execute_result",
          "data": {
            "text/plain": [
              "<keras.callbacks.History at 0x7fc87ca5c250>"
            ]
          },
          "metadata": {},
          "execution_count": 40
        }
      ]
    },
    {
      "cell_type": "code",
      "metadata": {
        "colab": {
          "base_uri": "https://localhost:8080/"
        },
        "id": "3_RlMOeXyGi_",
        "outputId": "2520a299-b63a-443c-95fa-46e8c220de60"
      },
      "source": [
        "# Оцениваем качество работы сети\n",
        "scores = model.evaluate_generator(test_generator, nb_test // batch_size)"
      ],
      "execution_count": null,
      "outputs": [
        {
          "output_type": "stream",
          "name": "stderr",
          "text": [
            "/usr/local/lib/python3.7/dist-packages/ipykernel_launcher.py:2: UserWarning: `Model.evaluate_generator` is deprecated and will be removed in a future version. Please use `Model.evaluate`, which supports generators.\n",
            "  \n"
          ]
        },
        {
          "output_type": "stream",
          "name": "stdout",
          "text": [
            "WARNING:tensorflow:Your input ran out of data; interrupting training. Make sure that your dataset or generator can generate at least `steps_per_epoch * epochs` batches (in this case, 29 batches). You may need to use the repeat() function when building your dataset.\n"
          ]
        }
      ]
    },
    {
      "cell_type": "code",
      "metadata": {
        "colab": {
          "base_uri": "https://localhost:8080/"
        },
        "id": "wei5fOXByH4i",
        "outputId": "e3933354-f73e-4e15-f1ff-adb11352a2b0"
      },
      "source": [
        "print(\"Доля верных ответов: %.2f%%\" %(scores[1]*100))"
      ],
      "execution_count": null,
      "outputs": [
        {
          "output_type": "stream",
          "name": "stdout",
          "text": [
            "Доля верных ответов: 100.00%\n"
          ]
        }
      ]
    },
    {
      "cell_type": "code",
      "metadata": {
        "id": "XSvvNuprZp6l",
        "colab": {
          "base_uri": "https://localhost:8080/"
        },
        "outputId": "63d1d25d-1a18-4a25-f9a2-6e5867b24054"
      },
      "source": [
        "from google.colab import drive\n",
        "drive.mount('/content/drive', force_remount=True)"
      ],
      "execution_count": null,
      "outputs": [
        {
          "output_type": "stream",
          "name": "stdout",
          "text": [
            "Mounted at /content/drive\n"
          ]
        }
      ]
    },
    {
      "cell_type": "code",
      "metadata": {
        "id": "YEHkFaaBZqmT"
      },
      "source": [
        "def res (path):\n",
        "  img = image.load_img(path, target_size=(224, 224, 3))\n",
        "  x = image.img_to_array(img)\n",
        "  x = np.expand_dims(x, axis=0)\n",
        "  x = preprocess_input(x)\n",
        "  pred = model.predict(x)[0][0]\n",
        "  result = tf.sigmoid(pred)\n",
        "  pred_label = 'Horse' if result <= 0.51 else 'Human'\n",
        "  print(pred_label)\n",
        "  return img"
      ],
      "execution_count": null,
      "outputs": []
    },
    {
      "cell_type": "code",
      "metadata": {
        "id": "xNvlAocqZuuh",
        "colab": {
          "base_uri": "https://localhost:8080/",
          "height": 258
        },
        "outputId": "f7df1037-23ef-49ad-d753-059a45f5cc0c"
      },
      "source": [
        "res('/content/drive/My Drive/brown_horse.jpg')"
      ],
      "execution_count": null,
      "outputs": [
        {
          "output_type": "stream",
          "name": "stdout",
          "text": [
            "Horse\n"
          ]
        },
        {
          "output_type": "execute_result",
          "data": {
            "image/png": "[encoded data removed]",
            "text/plain": [
              "<PIL.JpegImagePlugin.JpegImageFile image mode=RGB size=224x224 at 0x7FC7958DF790>"
            ]
          },
          "metadata": {},
          "execution_count": 52
        }
      ]
    },
    {
      "cell_type": "code",
      "source": [
        "res('/content/drive/My Drive/man.jpg')"
      ],
      "metadata": {
        "colab": {
          "base_uri": "https://localhost:8080/",
          "height": 258
        },
        "id": "E-L0b0GTyJPm",
        "outputId": "433be39f-6ec5-4803-95d7-053dc2ce5297"
      },
      "execution_count": null,
      "outputs": [
        {
          "output_type": "stream",
          "name": "stdout",
          "text": [
            "Human\n"
          ]
        },
        {
          "output_type": "execute_result",
          "data": {
            "image/png": "[encoded data removed]",
            "text/plain": [
              "<PIL.JpegImagePlugin.JpegImageFile image mode=RGB size=224x224 at 0x7FC803E56AD0>"
            ]
          },
          "metadata": {},
          "execution_count": 53
        }
      ]
    },
    {
      "cell_type": "code",
      "source": [
        "res('/content/drive/My Drive/woman.jpg')"
      ],
      "metadata": {
        "colab": {
          "base_uri": "https://localhost:8080/",
          "height": 258
        },
        "id": "YatbVRrByRUY",
        "outputId": "51f0fc42-ae03-45b5-a87a-85cb183c023d"
      },
      "execution_count": null,
      "outputs": [
        {
          "output_type": "stream",
          "name": "stdout",
          "text": [
            "Human\n"
          ]
        },
        {
          "output_type": "execute_result",
          "data": {
            "image/png": "[encoded data removed]",
            "text/plain": [
              "<PIL.JpegImagePlugin.JpegImageFile image mode=RGB size=224x224 at 0x7FC7935AC610>"
            ]
          },
          "metadata": {},
          "execution_count": 48
        }
      ]
    }
  ]
}